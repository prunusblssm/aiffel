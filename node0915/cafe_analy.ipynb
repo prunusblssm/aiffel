{
 "cells": [
  {
   "cell_type": "code",
   "execution_count": 1,
   "id": "initial_id",
   "metadata": {
    "collapsed": true,
    "ExecuteTime": {
     "end_time": "2023-09-15T02:20:31.755294400Z",
     "start_time": "2023-09-15T02:20:31.751785800Z"
    }
   },
   "outputs": [],
   "source": [
    "# 필요 라이브러리 호출하기\n",
    "import pandas as pd\n",
    "import numpy as np\n",
    "import matplotlib.pyplot as plt\n",
    "import seaborn as sns\n",
    "\n",
    "plt.style.use('default')"
   ]
  },
  {
   "cell_type": "code",
   "execution_count": 2,
   "outputs": [],
   "source": [
    "entry_data = pd.read_csv('entry_data.csv')\n",
    "sales_data = pd.read_csv('sales_data.csv')\n",
    "item_data = pd.read_csv('item_data.csv')\n",
    "item_entry_data = pd.read_csv('item_entry_data.csv')"
   ],
   "metadata": {
    "collapsed": false,
    "ExecuteTime": {
     "end_time": "2023-09-15T02:22:57.925314100Z",
     "start_time": "2023-09-15T02:22:57.860730700Z"
    }
   },
   "id": "c2fa67ff83c8fe35"
  },
  {
   "cell_type": "code",
   "execution_count": 3,
   "outputs": [
    {
     "data": {
      "text/plain": "           요금제명                입실                퇴실           이용    위치    금액  \\\n0    시간요금제(1시간)  2022-04-01 23:39   2022-04-02 0:39   오전 1:00:00  선불기2  3000   \n1    시간요금제(1시간)  2022-04-01 23:39   2022-04-02 0:39   오전 1:00:00  선불기2  3000   \n2       무제한 입장권  2022-04-01 20:55  2022-04-01 21:41  오전 12:46:00  선불기2  7400   \n3       무제한 입장권  2022-04-01 20:55  2022-04-01 21:41  오전 12:46:00  선불기2  7400   \n4  한국대생 무제한 입장권  2022-04-01 19:54  2022-04-01 22:28   오전 2:33:00  선불기2  7400   \n\n   구분              고객  \n0  퇴실  customer263717  \n1  퇴실  customer263717  \n2  퇴실  customer247263  \n3  퇴실  customer247263  \n4  퇴실  customer388928  ",
      "text/html": "<div>\n<style scoped>\n    .dataframe tbody tr th:only-of-type {\n        vertical-align: middle;\n    }\n\n    .dataframe tbody tr th {\n        vertical-align: top;\n    }\n\n    .dataframe thead th {\n        text-align: right;\n    }\n</style>\n<table border=\"1\" class=\"dataframe\">\n  <thead>\n    <tr style=\"text-align: right;\">\n      <th></th>\n      <th>요금제명</th>\n      <th>입실</th>\n      <th>퇴실</th>\n      <th>이용</th>\n      <th>위치</th>\n      <th>금액</th>\n      <th>구분</th>\n      <th>고객</th>\n    </tr>\n  </thead>\n  <tbody>\n    <tr>\n      <th>0</th>\n      <td>시간요금제(1시간)</td>\n      <td>2022-04-01 23:39</td>\n      <td>2022-04-02 0:39</td>\n      <td>오전 1:00:00</td>\n      <td>선불기2</td>\n      <td>3000</td>\n      <td>퇴실</td>\n      <td>customer263717</td>\n    </tr>\n    <tr>\n      <th>1</th>\n      <td>시간요금제(1시간)</td>\n      <td>2022-04-01 23:39</td>\n      <td>2022-04-02 0:39</td>\n      <td>오전 1:00:00</td>\n      <td>선불기2</td>\n      <td>3000</td>\n      <td>퇴실</td>\n      <td>customer263717</td>\n    </tr>\n    <tr>\n      <th>2</th>\n      <td>무제한 입장권</td>\n      <td>2022-04-01 20:55</td>\n      <td>2022-04-01 21:41</td>\n      <td>오전 12:46:00</td>\n      <td>선불기2</td>\n      <td>7400</td>\n      <td>퇴실</td>\n      <td>customer247263</td>\n    </tr>\n    <tr>\n      <th>3</th>\n      <td>무제한 입장권</td>\n      <td>2022-04-01 20:55</td>\n      <td>2022-04-01 21:41</td>\n      <td>오전 12:46:00</td>\n      <td>선불기2</td>\n      <td>7400</td>\n      <td>퇴실</td>\n      <td>customer247263</td>\n    </tr>\n    <tr>\n      <th>4</th>\n      <td>한국대생 무제한 입장권</td>\n      <td>2022-04-01 19:54</td>\n      <td>2022-04-01 22:28</td>\n      <td>오전 2:33:00</td>\n      <td>선불기2</td>\n      <td>7400</td>\n      <td>퇴실</td>\n      <td>customer388928</td>\n    </tr>\n  </tbody>\n</table>\n</div>"
     },
     "execution_count": 3,
     "metadata": {},
     "output_type": "execute_result"
    }
   ],
   "source": [
    "# entry_data 데이터 정보 확인하기\n",
    "entry_data.head()"
   ],
   "metadata": {
    "collapsed": false,
    "ExecuteTime": {
     "end_time": "2023-09-15T02:23:05.848131600Z",
     "start_time": "2023-09-15T02:23:05.825529800Z"
    }
   },
   "id": "83ce9616cbbc922f"
  },
  {
   "cell_type": "code",
   "execution_count": 4,
   "outputs": [
    {
     "data": {
      "text/plain": "               결제일시  판매위치          상품명  결제방식    비고  판매수량   결제금액  \\\n0  2022-04-01 19:41  선불기1   치킨카라아케 6pc  신용카드  결제완료     1  4,500   \n1  2022-04-01 19:41  선불기1   짜장라면(계란추가)  신용카드  결제완료     1  5,500   \n2  2022-04-01 19:41  선불기1           라면  신용카드  결제완료     1  4,000   \n3  2022-04-01 19:41  선불기1   비엔나소세지(토핑)  신용카드  결제완료     1  1,000   \n4  2022-04-01 19:41  선불기1  라면(계란/치즈추가)  신용카드  결제완료     1  5,000   \n\n               고객  \n0  customer275507  \n1  customer275507  \n2  customer275507  \n3  customer275507  \n4  customer275507  ",
      "text/html": "<div>\n<style scoped>\n    .dataframe tbody tr th:only-of-type {\n        vertical-align: middle;\n    }\n\n    .dataframe tbody tr th {\n        vertical-align: top;\n    }\n\n    .dataframe thead th {\n        text-align: right;\n    }\n</style>\n<table border=\"1\" class=\"dataframe\">\n  <thead>\n    <tr style=\"text-align: right;\">\n      <th></th>\n      <th>결제일시</th>\n      <th>판매위치</th>\n      <th>상품명</th>\n      <th>결제방식</th>\n      <th>비고</th>\n      <th>판매수량</th>\n      <th>결제금액</th>\n      <th>고객</th>\n    </tr>\n  </thead>\n  <tbody>\n    <tr>\n      <th>0</th>\n      <td>2022-04-01 19:41</td>\n      <td>선불기1</td>\n      <td>치킨카라아케 6pc</td>\n      <td>신용카드</td>\n      <td>결제완료</td>\n      <td>1</td>\n      <td>4,500</td>\n      <td>customer275507</td>\n    </tr>\n    <tr>\n      <th>1</th>\n      <td>2022-04-01 19:41</td>\n      <td>선불기1</td>\n      <td>짜장라면(계란추가)</td>\n      <td>신용카드</td>\n      <td>결제완료</td>\n      <td>1</td>\n      <td>5,500</td>\n      <td>customer275507</td>\n    </tr>\n    <tr>\n      <th>2</th>\n      <td>2022-04-01 19:41</td>\n      <td>선불기1</td>\n      <td>라면</td>\n      <td>신용카드</td>\n      <td>결제완료</td>\n      <td>1</td>\n      <td>4,000</td>\n      <td>customer275507</td>\n    </tr>\n    <tr>\n      <th>3</th>\n      <td>2022-04-01 19:41</td>\n      <td>선불기1</td>\n      <td>비엔나소세지(토핑)</td>\n      <td>신용카드</td>\n      <td>결제완료</td>\n      <td>1</td>\n      <td>1,000</td>\n      <td>customer275507</td>\n    </tr>\n    <tr>\n      <th>4</th>\n      <td>2022-04-01 19:41</td>\n      <td>선불기1</td>\n      <td>라면(계란/치즈추가)</td>\n      <td>신용카드</td>\n      <td>결제완료</td>\n      <td>1</td>\n      <td>5,000</td>\n      <td>customer275507</td>\n    </tr>\n  </tbody>\n</table>\n</div>"
     },
     "execution_count": 4,
     "metadata": {},
     "output_type": "execute_result"
    }
   ],
   "source": [
    "# sales_data 데이터 정보 확인하기\n",
    "sales_data.head()"
   ],
   "metadata": {
    "collapsed": false,
    "ExecuteTime": {
     "end_time": "2023-09-15T02:23:06.706311400Z",
     "start_time": "2023-09-15T02:23:06.682244700Z"
    }
   },
   "id": "c1d2aa6153e6f30c"
  },
  {
   "cell_type": "code",
   "execution_count": 5,
   "outputs": [
    {
     "data": {
      "text/plain": "   순위     분류        상품명    판매금액\n0   1   한국대생   한국대생 요금제  2,000원\n1   2  심야-조조  심야-조조 요금제  5,000원\n2   3    일반인      일반요금제  2,500원\n3   4   한국대생   한국대생 요금제  2,500원\n4   5    일반인      일반요금제  2,000원",
      "text/html": "<div>\n<style scoped>\n    .dataframe tbody tr th:only-of-type {\n        vertical-align: middle;\n    }\n\n    .dataframe tbody tr th {\n        vertical-align: top;\n    }\n\n    .dataframe thead th {\n        text-align: right;\n    }\n</style>\n<table border=\"1\" class=\"dataframe\">\n  <thead>\n    <tr style=\"text-align: right;\">\n      <th></th>\n      <th>순위</th>\n      <th>분류</th>\n      <th>상품명</th>\n      <th>판매금액</th>\n    </tr>\n  </thead>\n  <tbody>\n    <tr>\n      <th>0</th>\n      <td>1</td>\n      <td>한국대생</td>\n      <td>한국대생 요금제</td>\n      <td>2,000원</td>\n    </tr>\n    <tr>\n      <th>1</th>\n      <td>2</td>\n      <td>심야-조조</td>\n      <td>심야-조조 요금제</td>\n      <td>5,000원</td>\n    </tr>\n    <tr>\n      <th>2</th>\n      <td>3</td>\n      <td>일반인</td>\n      <td>일반요금제</td>\n      <td>2,500원</td>\n    </tr>\n    <tr>\n      <th>3</th>\n      <td>4</td>\n      <td>한국대생</td>\n      <td>한국대생 요금제</td>\n      <td>2,500원</td>\n    </tr>\n    <tr>\n      <th>4</th>\n      <td>5</td>\n      <td>일반인</td>\n      <td>일반요금제</td>\n      <td>2,000원</td>\n    </tr>\n  </tbody>\n</table>\n</div>"
     },
     "execution_count": 5,
     "metadata": {},
     "output_type": "execute_result"
    }
   ],
   "source": [
    "# item_entry_data 데이터 정보 확인하기\n",
    "item_entry_data.head()"
   ],
   "metadata": {
    "collapsed": false,
    "ExecuteTime": {
     "end_time": "2023-09-15T02:23:15.722846900Z",
     "start_time": "2023-09-15T02:23:15.713189900Z"
    }
   },
   "id": "f9896a3837bbcad7"
  },
  {
   "cell_type": "code",
   "execution_count": 34,
   "outputs": [],
   "source": [
    "temp_var['date'] = sales_data['결제일시'].str[:7]"
   ],
   "metadata": {
    "collapsed": false,
    "ExecuteTime": {
     "end_time": "2023-09-15T03:01:37.891548300Z",
     "start_time": "2023-09-15T03:01:37.882115500Z"
    }
   },
   "id": "4ce0f18244e795d9"
  },
  {
   "cell_type": "code",
   "execution_count": 20,
   "outputs": [
    {
     "data": {
      "text/plain": "0    2022-04\n1    2022-04\n2    2022-04\n3    2022-04\n4    2022-04\nName: date, dtype: object"
     },
     "execution_count": 20,
     "metadata": {},
     "output_type": "execute_result"
    }
   ],
   "source": [
    "temp_var['date'].head()"
   ],
   "metadata": {
    "collapsed": false,
    "ExecuteTime": {
     "end_time": "2023-09-15T02:38:55.585721700Z",
     "start_time": "2023-09-15T02:38:55.573128500Z"
    }
   },
   "id": "234a3fedf6f8098d"
  },
  {
   "cell_type": "code",
   "execution_count": 31,
   "outputs": [
    {
     "ename": "AttributeError",
     "evalue": "Can only use .str accessor with string values!",
     "output_type": "error",
     "traceback": [
      "\u001B[1;31m---------------------------------------------------------------------------\u001B[0m",
      "\u001B[1;31mAttributeError\u001B[0m                            Traceback (most recent call last)",
      "Cell \u001B[1;32mIn[31], line 12\u001B[0m\n\u001B[0;32m      1\u001B[0m \u001B[38;5;66;03m# sales_data의 결제금액에 포함된 쉼표(,) 지우기\u001B[39;00m\n\u001B[0;32m      2\u001B[0m \u001B[38;5;66;03m# [[YOUR CODE]]\u001B[39;00m\n\u001B[0;32m      3\u001B[0m \n\u001B[1;32m   (...)\u001B[0m\n\u001B[0;32m      7\u001B[0m \u001B[38;5;66;03m# temp_var의 결제금액열을 date 기준으로 집계하기\u001B[39;00m\n\u001B[0;32m      8\u001B[0m \u001B[38;5;66;03m# [[YOUR CODE]]\u001B[39;00m\n\u001B[1;32m---> 12\u001B[0m sales_data[\u001B[38;5;124m'\u001B[39m\u001B[38;5;124m결제금액\u001B[39m\u001B[38;5;124m'\u001B[39m]\u001B[38;5;241m=\u001B[39msales_data[\u001B[38;5;124m'\u001B[39m\u001B[38;5;124m결제금액\u001B[39m\u001B[38;5;124m'\u001B[39m]\u001B[38;5;241m.\u001B[39mstr\u001B[38;5;241m.\u001B[39mreplace(\u001B[38;5;124m\"\u001B[39m\u001B[38;5;124m,\u001B[39m\u001B[38;5;124m\"\u001B[39m,\u001B[38;5;124m'\u001B[39m\u001B[38;5;124m'\u001B[39m)\u001B[38;5;241m.\u001B[39mastype(\u001B[38;5;28mint\u001B[39m)\n",
      "File \u001B[1;32mC:\\ProgramData\\anaconda3\\Lib\\site-packages\\pandas\\core\\generic.py:5902\u001B[0m, in \u001B[0;36mNDFrame.__getattr__\u001B[1;34m(self, name)\u001B[0m\n\u001B[0;32m   5895\u001B[0m \u001B[38;5;28;01mif\u001B[39;00m (\n\u001B[0;32m   5896\u001B[0m     name \u001B[38;5;129;01mnot\u001B[39;00m \u001B[38;5;129;01min\u001B[39;00m \u001B[38;5;28mself\u001B[39m\u001B[38;5;241m.\u001B[39m_internal_names_set\n\u001B[0;32m   5897\u001B[0m     \u001B[38;5;129;01mand\u001B[39;00m name \u001B[38;5;129;01mnot\u001B[39;00m \u001B[38;5;129;01min\u001B[39;00m \u001B[38;5;28mself\u001B[39m\u001B[38;5;241m.\u001B[39m_metadata\n\u001B[0;32m   5898\u001B[0m     \u001B[38;5;129;01mand\u001B[39;00m name \u001B[38;5;129;01mnot\u001B[39;00m \u001B[38;5;129;01min\u001B[39;00m \u001B[38;5;28mself\u001B[39m\u001B[38;5;241m.\u001B[39m_accessors\n\u001B[0;32m   5899\u001B[0m     \u001B[38;5;129;01mand\u001B[39;00m \u001B[38;5;28mself\u001B[39m\u001B[38;5;241m.\u001B[39m_info_axis\u001B[38;5;241m.\u001B[39m_can_hold_identifiers_and_holds_name(name)\n\u001B[0;32m   5900\u001B[0m ):\n\u001B[0;32m   5901\u001B[0m     \u001B[38;5;28;01mreturn\u001B[39;00m \u001B[38;5;28mself\u001B[39m[name]\n\u001B[1;32m-> 5902\u001B[0m \u001B[38;5;28;01mreturn\u001B[39;00m \u001B[38;5;28mobject\u001B[39m\u001B[38;5;241m.\u001B[39m\u001B[38;5;21m__getattribute__\u001B[39m(\u001B[38;5;28mself\u001B[39m, name)\n",
      "File \u001B[1;32mC:\\ProgramData\\anaconda3\\Lib\\site-packages\\pandas\\core\\accessor.py:182\u001B[0m, in \u001B[0;36mCachedAccessor.__get__\u001B[1;34m(self, obj, cls)\u001B[0m\n\u001B[0;32m    179\u001B[0m \u001B[38;5;28;01mif\u001B[39;00m obj \u001B[38;5;129;01mis\u001B[39;00m \u001B[38;5;28;01mNone\u001B[39;00m:\n\u001B[0;32m    180\u001B[0m     \u001B[38;5;66;03m# we're accessing the attribute of the class, i.e., Dataset.geo\u001B[39;00m\n\u001B[0;32m    181\u001B[0m     \u001B[38;5;28;01mreturn\u001B[39;00m \u001B[38;5;28mself\u001B[39m\u001B[38;5;241m.\u001B[39m_accessor\n\u001B[1;32m--> 182\u001B[0m accessor_obj \u001B[38;5;241m=\u001B[39m \u001B[38;5;28mself\u001B[39m\u001B[38;5;241m.\u001B[39m_accessor(obj)\n\u001B[0;32m    183\u001B[0m \u001B[38;5;66;03m# Replace the property with the accessor object. Inspired by:\u001B[39;00m\n\u001B[0;32m    184\u001B[0m \u001B[38;5;66;03m# https://www.pydanny.com/cached-property.html\u001B[39;00m\n\u001B[0;32m    185\u001B[0m \u001B[38;5;66;03m# We need to use object.__setattr__ because we overwrite __setattr__ on\u001B[39;00m\n\u001B[0;32m    186\u001B[0m \u001B[38;5;66;03m# NDFrame\u001B[39;00m\n\u001B[0;32m    187\u001B[0m \u001B[38;5;28mobject\u001B[39m\u001B[38;5;241m.\u001B[39m\u001B[38;5;21m__setattr__\u001B[39m(obj, \u001B[38;5;28mself\u001B[39m\u001B[38;5;241m.\u001B[39m_name, accessor_obj)\n",
      "File \u001B[1;32mC:\\ProgramData\\anaconda3\\Lib\\site-packages\\pandas\\core\\strings\\accessor.py:181\u001B[0m, in \u001B[0;36mStringMethods.__init__\u001B[1;34m(self, data)\u001B[0m\n\u001B[0;32m    178\u001B[0m \u001B[38;5;28;01mdef\u001B[39;00m \u001B[38;5;21m__init__\u001B[39m(\u001B[38;5;28mself\u001B[39m, data) \u001B[38;5;241m-\u001B[39m\u001B[38;5;241m>\u001B[39m \u001B[38;5;28;01mNone\u001B[39;00m:\n\u001B[0;32m    179\u001B[0m     \u001B[38;5;28;01mfrom\u001B[39;00m \u001B[38;5;21;01mpandas\u001B[39;00m\u001B[38;5;21;01m.\u001B[39;00m\u001B[38;5;21;01mcore\u001B[39;00m\u001B[38;5;21;01m.\u001B[39;00m\u001B[38;5;21;01marrays\u001B[39;00m\u001B[38;5;21;01m.\u001B[39;00m\u001B[38;5;21;01mstring_\u001B[39;00m \u001B[38;5;28;01mimport\u001B[39;00m StringDtype\n\u001B[1;32m--> 181\u001B[0m     \u001B[38;5;28mself\u001B[39m\u001B[38;5;241m.\u001B[39m_inferred_dtype \u001B[38;5;241m=\u001B[39m \u001B[38;5;28mself\u001B[39m\u001B[38;5;241m.\u001B[39m_validate(data)\n\u001B[0;32m    182\u001B[0m     \u001B[38;5;28mself\u001B[39m\u001B[38;5;241m.\u001B[39m_is_categorical \u001B[38;5;241m=\u001B[39m is_categorical_dtype(data\u001B[38;5;241m.\u001B[39mdtype)\n\u001B[0;32m    183\u001B[0m     \u001B[38;5;28mself\u001B[39m\u001B[38;5;241m.\u001B[39m_is_string \u001B[38;5;241m=\u001B[39m \u001B[38;5;28misinstance\u001B[39m(data\u001B[38;5;241m.\u001B[39mdtype, StringDtype)\n",
      "File \u001B[1;32mC:\\ProgramData\\anaconda3\\Lib\\site-packages\\pandas\\core\\strings\\accessor.py:235\u001B[0m, in \u001B[0;36mStringMethods._validate\u001B[1;34m(data)\u001B[0m\n\u001B[0;32m    232\u001B[0m inferred_dtype \u001B[38;5;241m=\u001B[39m lib\u001B[38;5;241m.\u001B[39minfer_dtype(values, skipna\u001B[38;5;241m=\u001B[39m\u001B[38;5;28;01mTrue\u001B[39;00m)\n\u001B[0;32m    234\u001B[0m \u001B[38;5;28;01mif\u001B[39;00m inferred_dtype \u001B[38;5;129;01mnot\u001B[39;00m \u001B[38;5;129;01min\u001B[39;00m allowed_types:\n\u001B[1;32m--> 235\u001B[0m     \u001B[38;5;28;01mraise\u001B[39;00m \u001B[38;5;167;01mAttributeError\u001B[39;00m(\u001B[38;5;124m\"\u001B[39m\u001B[38;5;124mCan only use .str accessor with string values!\u001B[39m\u001B[38;5;124m\"\u001B[39m)\n\u001B[0;32m    236\u001B[0m \u001B[38;5;28;01mreturn\u001B[39;00m inferred_dtype\n",
      "\u001B[1;31mAttributeError\u001B[0m: Can only use .str accessor with string values!"
     ]
    }
   ],
   "source": [
    "# sales_data의 결제금액에 포함된 쉼표(,) 지우기\n",
    "# [[YOUR CODE]]\n",
    "\n",
    "# sales_data의 결제금액을 숫자형태로 바꾸기\n",
    "# [[YOUR CODE]]\n",
    "\n",
    "# temp_var의 결제금액열을 date 기준으로 집계하기\n",
    "# [[YOUR CODE]]\n",
    "\n",
    "\n",
    "\n",
    "sales_data['결제금액']=sales_data['결제금액'].str.replace(\",\",'').astype(int)"
   ],
   "metadata": {
    "collapsed": false,
    "ExecuteTime": {
     "end_time": "2023-09-15T02:56:58.701023Z",
     "start_time": "2023-09-15T02:56:58.663543200Z"
    }
   },
   "id": "b3e74f368d503e51"
  },
  {
   "cell_type": "code",
   "execution_count": 23,
   "outputs": [
    {
     "ename": "AttributeError",
     "evalue": "Can only use .str accessor with string values!",
     "output_type": "error",
     "traceback": [
      "\u001B[1;31m---------------------------------------------------------------------------\u001B[0m",
      "\u001B[1;31mAttributeError\u001B[0m                            Traceback (most recent call last)",
      "Cell \u001B[1;32mIn[23], line 1\u001B[0m\n\u001B[1;32m----> 1\u001B[0m item_entry_data[\u001B[38;5;124m'\u001B[39m\u001B[38;5;124m결제금액\u001B[39m\u001B[38;5;124m'\u001B[39m]\u001B[38;5;241m=\u001B[39msales_data[\u001B[38;5;124m'\u001B[39m\u001B[38;5;124m결제금액\u001B[39m\u001B[38;5;124m'\u001B[39m]\u001B[38;5;241m.\u001B[39mstr\u001B[38;5;241m.\u001B[39mreplace(\u001B[38;5;124m\"\u001B[39m\u001B[38;5;124m,\u001B[39m\u001B[38;5;124m\"\u001B[39m,\u001B[38;5;124m'\u001B[39m\u001B[38;5;124m'\u001B[39m)\u001B[38;5;241m.\u001B[39mastype(\u001B[38;5;28mint\u001B[39m)\n",
      "File \u001B[1;32mC:\\ProgramData\\anaconda3\\Lib\\site-packages\\pandas\\core\\generic.py:5902\u001B[0m, in \u001B[0;36mNDFrame.__getattr__\u001B[1;34m(self, name)\u001B[0m\n\u001B[0;32m   5895\u001B[0m \u001B[38;5;28;01mif\u001B[39;00m (\n\u001B[0;32m   5896\u001B[0m     name \u001B[38;5;129;01mnot\u001B[39;00m \u001B[38;5;129;01min\u001B[39;00m \u001B[38;5;28mself\u001B[39m\u001B[38;5;241m.\u001B[39m_internal_names_set\n\u001B[0;32m   5897\u001B[0m     \u001B[38;5;129;01mand\u001B[39;00m name \u001B[38;5;129;01mnot\u001B[39;00m \u001B[38;5;129;01min\u001B[39;00m \u001B[38;5;28mself\u001B[39m\u001B[38;5;241m.\u001B[39m_metadata\n\u001B[0;32m   5898\u001B[0m     \u001B[38;5;129;01mand\u001B[39;00m name \u001B[38;5;129;01mnot\u001B[39;00m \u001B[38;5;129;01min\u001B[39;00m \u001B[38;5;28mself\u001B[39m\u001B[38;5;241m.\u001B[39m_accessors\n\u001B[0;32m   5899\u001B[0m     \u001B[38;5;129;01mand\u001B[39;00m \u001B[38;5;28mself\u001B[39m\u001B[38;5;241m.\u001B[39m_info_axis\u001B[38;5;241m.\u001B[39m_can_hold_identifiers_and_holds_name(name)\n\u001B[0;32m   5900\u001B[0m ):\n\u001B[0;32m   5901\u001B[0m     \u001B[38;5;28;01mreturn\u001B[39;00m \u001B[38;5;28mself\u001B[39m[name]\n\u001B[1;32m-> 5902\u001B[0m \u001B[38;5;28;01mreturn\u001B[39;00m \u001B[38;5;28mobject\u001B[39m\u001B[38;5;241m.\u001B[39m\u001B[38;5;21m__getattribute__\u001B[39m(\u001B[38;5;28mself\u001B[39m, name)\n",
      "File \u001B[1;32mC:\\ProgramData\\anaconda3\\Lib\\site-packages\\pandas\\core\\accessor.py:182\u001B[0m, in \u001B[0;36mCachedAccessor.__get__\u001B[1;34m(self, obj, cls)\u001B[0m\n\u001B[0;32m    179\u001B[0m \u001B[38;5;28;01mif\u001B[39;00m obj \u001B[38;5;129;01mis\u001B[39;00m \u001B[38;5;28;01mNone\u001B[39;00m:\n\u001B[0;32m    180\u001B[0m     \u001B[38;5;66;03m# we're accessing the attribute of the class, i.e., Dataset.geo\u001B[39;00m\n\u001B[0;32m    181\u001B[0m     \u001B[38;5;28;01mreturn\u001B[39;00m \u001B[38;5;28mself\u001B[39m\u001B[38;5;241m.\u001B[39m_accessor\n\u001B[1;32m--> 182\u001B[0m accessor_obj \u001B[38;5;241m=\u001B[39m \u001B[38;5;28mself\u001B[39m\u001B[38;5;241m.\u001B[39m_accessor(obj)\n\u001B[0;32m    183\u001B[0m \u001B[38;5;66;03m# Replace the property with the accessor object. Inspired by:\u001B[39;00m\n\u001B[0;32m    184\u001B[0m \u001B[38;5;66;03m# https://www.pydanny.com/cached-property.html\u001B[39;00m\n\u001B[0;32m    185\u001B[0m \u001B[38;5;66;03m# We need to use object.__setattr__ because we overwrite __setattr__ on\u001B[39;00m\n\u001B[0;32m    186\u001B[0m \u001B[38;5;66;03m# NDFrame\u001B[39;00m\n\u001B[0;32m    187\u001B[0m \u001B[38;5;28mobject\u001B[39m\u001B[38;5;241m.\u001B[39m\u001B[38;5;21m__setattr__\u001B[39m(obj, \u001B[38;5;28mself\u001B[39m\u001B[38;5;241m.\u001B[39m_name, accessor_obj)\n",
      "File \u001B[1;32mC:\\ProgramData\\anaconda3\\Lib\\site-packages\\pandas\\core\\strings\\accessor.py:181\u001B[0m, in \u001B[0;36mStringMethods.__init__\u001B[1;34m(self, data)\u001B[0m\n\u001B[0;32m    178\u001B[0m \u001B[38;5;28;01mdef\u001B[39;00m \u001B[38;5;21m__init__\u001B[39m(\u001B[38;5;28mself\u001B[39m, data) \u001B[38;5;241m-\u001B[39m\u001B[38;5;241m>\u001B[39m \u001B[38;5;28;01mNone\u001B[39;00m:\n\u001B[0;32m    179\u001B[0m     \u001B[38;5;28;01mfrom\u001B[39;00m \u001B[38;5;21;01mpandas\u001B[39;00m\u001B[38;5;21;01m.\u001B[39;00m\u001B[38;5;21;01mcore\u001B[39;00m\u001B[38;5;21;01m.\u001B[39;00m\u001B[38;5;21;01marrays\u001B[39;00m\u001B[38;5;21;01m.\u001B[39;00m\u001B[38;5;21;01mstring_\u001B[39;00m \u001B[38;5;28;01mimport\u001B[39;00m StringDtype\n\u001B[1;32m--> 181\u001B[0m     \u001B[38;5;28mself\u001B[39m\u001B[38;5;241m.\u001B[39m_inferred_dtype \u001B[38;5;241m=\u001B[39m \u001B[38;5;28mself\u001B[39m\u001B[38;5;241m.\u001B[39m_validate(data)\n\u001B[0;32m    182\u001B[0m     \u001B[38;5;28mself\u001B[39m\u001B[38;5;241m.\u001B[39m_is_categorical \u001B[38;5;241m=\u001B[39m is_categorical_dtype(data\u001B[38;5;241m.\u001B[39mdtype)\n\u001B[0;32m    183\u001B[0m     \u001B[38;5;28mself\u001B[39m\u001B[38;5;241m.\u001B[39m_is_string \u001B[38;5;241m=\u001B[39m \u001B[38;5;28misinstance\u001B[39m(data\u001B[38;5;241m.\u001B[39mdtype, StringDtype)\n",
      "File \u001B[1;32mC:\\ProgramData\\anaconda3\\Lib\\site-packages\\pandas\\core\\strings\\accessor.py:235\u001B[0m, in \u001B[0;36mStringMethods._validate\u001B[1;34m(data)\u001B[0m\n\u001B[0;32m    232\u001B[0m inferred_dtype \u001B[38;5;241m=\u001B[39m lib\u001B[38;5;241m.\u001B[39minfer_dtype(values, skipna\u001B[38;5;241m=\u001B[39m\u001B[38;5;28;01mTrue\u001B[39;00m)\n\u001B[0;32m    234\u001B[0m \u001B[38;5;28;01mif\u001B[39;00m inferred_dtype \u001B[38;5;129;01mnot\u001B[39;00m \u001B[38;5;129;01min\u001B[39;00m allowed_types:\n\u001B[1;32m--> 235\u001B[0m     \u001B[38;5;28;01mraise\u001B[39;00m \u001B[38;5;167;01mAttributeError\u001B[39;00m(\u001B[38;5;124m\"\u001B[39m\u001B[38;5;124mCan only use .str accessor with string values!\u001B[39m\u001B[38;5;124m\"\u001B[39m)\n\u001B[0;32m    236\u001B[0m \u001B[38;5;28;01mreturn\u001B[39;00m inferred_dtype\n",
      "\u001B[1;31mAttributeError\u001B[0m: Can only use .str accessor with string values!"
     ]
    }
   ],
   "source": [
    "item_entry_data['결제금액']=sales_data['결제금액'].str.replace(\",\",'').astype(int)"
   ],
   "metadata": {
    "collapsed": false,
    "ExecuteTime": {
     "end_time": "2023-09-15T02:49:47.923711800Z",
     "start_time": "2023-09-15T02:49:47.854414800Z"
    }
   },
   "id": "f23027b0d1a9bf66"
  },
  {
   "cell_type": "code",
   "execution_count": 28,
   "outputs": [],
   "source": [
    "payment_data = temp_var.groupby('date')['결제금액'].sum().reset_index()"
   ],
   "metadata": {
    "collapsed": false,
    "ExecuteTime": {
     "end_time": "2023-09-15T02:54:47.149836600Z",
     "start_time": "2023-09-15T02:54:47.135438200Z"
    }
   },
   "id": "8119521b23057e31"
  },
  {
   "cell_type": "code",
   "execution_count": 29,
   "outputs": [
    {
     "data": {
      "text/plain": "       date     결제금액\n0   2021-02     7000\n1   2021-03  2104500\n2   2021-04  3116600\n3   2021-05  2537000\n4   2021-06  3621500\n5   2021-07  1215000\n6   2021-08  1229000\n7   2021-09  1197500\n8   2021-10  2138500\n9   2021-11  2748500\n10  2021-12  3290000\n11  2022-01  1430500\n12  2022-02  1181500\n13  2022-03  1870900\n14  2022-04    49900",
      "text/html": "<div>\n<style scoped>\n    .dataframe tbody tr th:only-of-type {\n        vertical-align: middle;\n    }\n\n    .dataframe tbody tr th {\n        vertical-align: top;\n    }\n\n    .dataframe thead th {\n        text-align: right;\n    }\n</style>\n<table border=\"1\" class=\"dataframe\">\n  <thead>\n    <tr style=\"text-align: right;\">\n      <th></th>\n      <th>date</th>\n      <th>결제금액</th>\n    </tr>\n  </thead>\n  <tbody>\n    <tr>\n      <th>0</th>\n      <td>2021-02</td>\n      <td>7000</td>\n    </tr>\n    <tr>\n      <th>1</th>\n      <td>2021-03</td>\n      <td>2104500</td>\n    </tr>\n    <tr>\n      <th>2</th>\n      <td>2021-04</td>\n      <td>3116600</td>\n    </tr>\n    <tr>\n      <th>3</th>\n      <td>2021-05</td>\n      <td>2537000</td>\n    </tr>\n    <tr>\n      <th>4</th>\n      <td>2021-06</td>\n      <td>3621500</td>\n    </tr>\n    <tr>\n      <th>5</th>\n      <td>2021-07</td>\n      <td>1215000</td>\n    </tr>\n    <tr>\n      <th>6</th>\n      <td>2021-08</td>\n      <td>1229000</td>\n    </tr>\n    <tr>\n      <th>7</th>\n      <td>2021-09</td>\n      <td>1197500</td>\n    </tr>\n    <tr>\n      <th>8</th>\n      <td>2021-10</td>\n      <td>2138500</td>\n    </tr>\n    <tr>\n      <th>9</th>\n      <td>2021-11</td>\n      <td>2748500</td>\n    </tr>\n    <tr>\n      <th>10</th>\n      <td>2021-12</td>\n      <td>3290000</td>\n    </tr>\n    <tr>\n      <th>11</th>\n      <td>2022-01</td>\n      <td>1430500</td>\n    </tr>\n    <tr>\n      <th>12</th>\n      <td>2022-02</td>\n      <td>1181500</td>\n    </tr>\n    <tr>\n      <th>13</th>\n      <td>2022-03</td>\n      <td>1870900</td>\n    </tr>\n    <tr>\n      <th>14</th>\n      <td>2022-04</td>\n      <td>49900</td>\n    </tr>\n  </tbody>\n</table>\n</div>"
     },
     "execution_count": 29,
     "metadata": {},
     "output_type": "execute_result"
    }
   ],
   "source": [
    "payment_data"
   ],
   "metadata": {
    "collapsed": false,
    "ExecuteTime": {
     "end_time": "2023-09-15T02:54:50.790260400Z",
     "start_time": "2023-09-15T02:54:50.771972800Z"
    }
   },
   "id": "55f41f2fe84d5d70"
  },
  {
   "cell_type": "code",
   "execution_count": 32,
   "outputs": [],
   "source": [
    "# '판매수량'이 -1이 아닌 데이터만 선택\n",
    "valid_sales_data = temp_var[temp_var['판매수량'] != -1]\n",
    "\n",
    "# '상품명' 열에 대해 value_counts 메서드를 사용하여 상품별 판매 횟수를 계산\n",
    "product_sales_count = valid_sales_data['상품명'].value_counts()\n",
    "\n",
    "# 결과를 데이터프레임으로 변환\n",
    "product_sales_df = product_sales_count.reset_index()\n",
    "\n",
    "# 열 이름을 변경\n",
    "product_sales_df.columns = ['상품명', '판매횟수']\n",
    "\n",
    "# 상위 10개 상품을 선택\n",
    "top10_products = product_sales_df.head(10)\n",
    "\n"
   ],
   "metadata": {
    "collapsed": false,
    "ExecuteTime": {
     "end_time": "2023-09-15T02:58:49.821515400Z",
     "start_time": "2023-09-15T02:58:49.800139100Z"
    }
   },
   "id": "7235e834ed2a9f3f"
  },
  {
   "cell_type": "code",
   "execution_count": 33,
   "outputs": [
    {
     "data": {
      "text/plain": "   순위     분류        상품명    판매금액\n0   1   한국대생   한국대생 요금제  2,000원\n1   2  심야-조조  심야-조조 요금제  5,000원\n2   3    일반인      일반요금제  2,500원\n3   4   한국대생   한국대생 요금제  2,500원\n4   5    일반인      일반요금제  2,000원",
      "text/html": "<div>\n<style scoped>\n    .dataframe tbody tr th:only-of-type {\n        vertical-align: middle;\n    }\n\n    .dataframe tbody tr th {\n        vertical-align: top;\n    }\n\n    .dataframe thead th {\n        text-align: right;\n    }\n</style>\n<table border=\"1\" class=\"dataframe\">\n  <thead>\n    <tr style=\"text-align: right;\">\n      <th></th>\n      <th>순위</th>\n      <th>분류</th>\n      <th>상품명</th>\n      <th>판매금액</th>\n    </tr>\n  </thead>\n  <tbody>\n    <tr>\n      <th>0</th>\n      <td>1</td>\n      <td>한국대생</td>\n      <td>한국대생 요금제</td>\n      <td>2,000원</td>\n    </tr>\n    <tr>\n      <th>1</th>\n      <td>2</td>\n      <td>심야-조조</td>\n      <td>심야-조조 요금제</td>\n      <td>5,000원</td>\n    </tr>\n    <tr>\n      <th>2</th>\n      <td>3</td>\n      <td>일반인</td>\n      <td>일반요금제</td>\n      <td>2,500원</td>\n    </tr>\n    <tr>\n      <th>3</th>\n      <td>4</td>\n      <td>한국대생</td>\n      <td>한국대생 요금제</td>\n      <td>2,500원</td>\n    </tr>\n    <tr>\n      <th>4</th>\n      <td>5</td>\n      <td>일반인</td>\n      <td>일반요금제</td>\n      <td>2,000원</td>\n    </tr>\n  </tbody>\n</table>\n</div>"
     },
     "execution_count": 33,
     "metadata": {},
     "output_type": "execute_result"
    }
   ],
   "source": [],
   "metadata": {
    "collapsed": false,
    "ExecuteTime": {
     "end_time": "2023-09-15T02:58:52.548310100Z",
     "start_time": "2023-09-15T02:58:52.540815900Z"
    }
   },
   "id": "a3e4caeaaa6054a7"
  },
  {
   "cell_type": "code",
   "execution_count": null,
   "outputs": [],
   "source": [],
   "metadata": {
    "collapsed": false
   },
   "id": "8a071ad1b9506d97"
  }
 ],
 "metadata": {
  "kernelspec": {
   "display_name": "Python 3",
   "language": "python",
   "name": "python3"
  },
  "language_info": {
   "codemirror_mode": {
    "name": "ipython",
    "version": 2
   },
   "file_extension": ".py",
   "mimetype": "text/x-python",
   "name": "python",
   "nbconvert_exporter": "python",
   "pygments_lexer": "ipython2",
   "version": "2.7.6"
  }
 },
 "nbformat": 4,
 "nbformat_minor": 5
}
