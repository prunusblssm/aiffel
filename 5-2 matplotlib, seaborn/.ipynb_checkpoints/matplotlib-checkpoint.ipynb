{
 "cells": [
  {
   "cell_type": "code",
   "execution_count": 9,
   "id": "917a7f25",
   "metadata": {},
   "outputs": [
    {
     "data": {
      "image/png": "[encoded data removed]",
      "text/plain": [
       "<Figure size 432x288 with 1 Axes>"
      ]
     },
     "metadata": {
      "needs_background": "light"
     },
     "output_type": "display_data"
    }
   ],
   "source": [
    "#bash\n",
    "#sudo apt-get install -y fonts-nanum\n",
    "#sudo fc-cache -fv\n",
    "\n",
    "\n",
    "import matplotlib.pyplot as plt\n",
    "from matplotlib import font_manager, rc\n",
    "%matplotlib inline\n",
    "\n",
    "#나눔 폰트를 지정하고, 폰트 캐시를 빌드\n",
    "font_path = \"/usr/share/fonts/truetype/nanum/NanumBarunGothic.ttf\"  # 설치한 폰트 경로\n",
    "font_name = font_manager.FontProperties(fname=font_path).get_name()\n",
    "rc('font', family=font_name)\n",
    "\n",
    "# 그래프 데이터\n",
    "\n",
    "subject = ['eng', 'math', 'korean', 'science', 'computer']\n",
    "points = [40, 90, 50, 60, 100]\n",
    "\n",
    "#축 그리기\n",
    "\n",
    "fig = plt.figure() #도화지(그래프) 객체 생성\n",
    "ax1 = fig.add_subplot(1,1,1) #figure()객체에 add_subplot 메서드를 이용해 축을 그려준다.\n",
    "#nrows, ncols, index\n",
    "\n",
    "# 그래프 그리기\n",
    "ax1.bar(subject, points)\n",
    "\n",
    "#라벨, 타이틀 달기\n",
    "plt.xlabel(\"과목\")\n",
    "plt.ylabel('점수')\n",
    "plt.title('시험 결과')\n",
    "\n",
    "#한글 주석달면 깨짐 런타임 오류\n",
    "\n",
    "# 보여주기\n",
    "plt.savefig('./barplot.png') #그래프를 이미지로 출력\n",
    "plt.show()"
   ]
  },
  {
   "cell_type": "code",
   "execution_count": null,
   "id": "da7782fa",
   "metadata": {},
   "outputs": [],
   "source": []
  }
 ],
 "metadata": {
  "kernelspec": {
   "display_name": "Python 3 (ipykernel)",
   "language": "python",
   "name": "python3"
  },
  "language_info": {
   "codemirror_mode": {
    "name": "ipython",
    "version": 3
   },
   "file_extension": ".py",
   "mimetype": "text/x-python",
   "name": "python",
   "nbconvert_exporter": "python",
   "pygments_lexer": "ipython3",
   "version": "3.9.7"
  }
 },
 "nbformat": 4,
 "nbformat_minor": 5
}
