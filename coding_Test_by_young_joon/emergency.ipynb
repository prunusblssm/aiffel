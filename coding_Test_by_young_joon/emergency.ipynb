{
 "cells": [
  {
   "cell_type": "code",
   "execution_count": 1,
   "id": "initial_id",
   "metadata": {
    "collapsed": true,
    "ExecuteTime": {
     "end_time": "2023-09-07T12:45:12.306813800Z",
     "start_time": "2023-09-07T12:45:12.304294600Z"
    }
   },
   "outputs": [],
   "source": [
    "# 진료 순서 정하기\n",
    "# 문제 설명\n",
    "# 외과의사 머쓱이는 응급실에 온 환자의 응급도를 기준으로 진료 순서를 정하려고 합니다. 정수 배열 emergency가 매개변수로 주어질 때 응급도가 높은 순서대로 진료 순서를 정한 배열을 return하도록 solution 함수를 완성해주세요.\n",
    "# \n",
    "# 제한사항\n",
    "# 중복된 원소는 없습니다.\n",
    "# 1 ≤ emergency의 길이 ≤ 10\n",
    "# 1 ≤ emergency의 원소 ≤ 100\n",
    "# 입출력 예\n",
    "# emergency\tresult\n",
    "# [3, 76, 24]\t[3, 1, 2]\n",
    "# [1, 2, 3, 4, 5, 6, 7]\t[7, 6, 5, 4, 3, 2, 1]\n",
    "# [30, 10, 23, 6, 100]\t[2, 4, 3, 5, 1]\n",
    "# 입출력 예 설명\n",
    "# 입출력 예 #1\n",
    "# \n",
    "# emergency가 [3, 76, 24]이므로 응급도의 크기 순서대로 번호를 매긴 [3, 1, 2]를 return합니다.\n",
    "# 입출력 예 #2\n",
    "# \n",
    "# emergency가 [1, 2, 3, 4, 5, 6, 7]이므로 응급도의 크기 순서대로 번호를 매긴 [7, 6, 5, 4, 3, 2, 1]를 return합니다.\n",
    "# 입출력 예 #3\n",
    "# \n",
    "# emergency가 [30, 10, 23, 6, 100]이므로 응급도의 크기 순서대로 번호를 매긴 [2, 4, 3, 5, 1]를 return합니다.\n",
    "\n",
    "\n",
    "\n",
    "\n"
   ]
  },
  {
   "cell_type": "code",
   "execution_count": 1,
   "outputs": [],
   "source": [],
   "metadata": {
    "collapsed": false,
    "ExecuteTime": {
     "end_time": "2023-09-07T12:45:12.308812600Z",
     "start_time": "2023-09-07T12:45:12.306813800Z"
    }
   },
   "id": "1da480d7876e037d"
  },
  {
   "cell_type": "code",
   "execution_count": 15,
   "outputs": [],
   "source": [
    "from itertools import product\n",
    "def solution(arr):\n",
    "    cartesian = range(len(arr))\n",
    "    print(range(len(arr)))\n",
    "    for i, j in product(cartesian, repeat=2):\n",
    "        if i > j and arrr[i][j] != arrr[j][i]: \n",
    "            return 0  # 대칭이 아님\n",
    "\n",
    "    return 1  # 모든 쌍이 대칭임"
   ],
   "metadata": {
    "collapsed": false,
    "ExecuteTime": {
     "end_time": "2023-09-07T13:01:34.590041400Z",
     "start_time": "2023-09-07T13:01:34.568821Z"
    }
   },
   "id": "59871290ed116c96"
  },
  {
   "cell_type": "code",
   "execution_count": 14,
   "outputs": [
    {
     "ename": "TypeError",
     "evalue": "'int' object is not callable",
     "output_type": "error",
     "traceback": [
      "\u001B[1;31m---------------------------------------------------------------------------\u001B[0m",
      "\u001B[1;31mTypeError\u001B[0m                                 Traceback (most recent call last)",
      "Cell \u001B[1;32mIn[14], line 4\u001B[0m\n\u001B[0;32m      2\u001B[0m cartesian \u001B[38;5;241m=\u001B[39m \u001B[38;5;28mrange\u001B[39m(\u001B[38;5;28mlen\u001B[39m(arr))\n\u001B[0;32m      3\u001B[0m \u001B[38;5;66;03m# print(cartesian)\u001B[39;00m\n\u001B[1;32m----> 4\u001B[0m \u001B[38;5;28mprint\u001B[39m(\u001B[38;5;28mlen\u001B[39m(arr))\n",
      "\u001B[1;31mTypeError\u001B[0m: 'int' object is not callable"
     ]
    }
   ],
   "source": [
    "arr=[[5, 192, 33], [192, 72, 95], [33, 95, 999]]\n",
    "cartesian = range(len(arr))\n",
    "# print(cartesian)\n",
    "print(len(arr))"
   ],
   "metadata": {
    "collapsed": false,
    "ExecuteTime": {
     "end_time": "2023-09-07T13:01:17.306691800Z",
     "start_time": "2023-09-07T13:01:17.293636400Z"
    }
   },
   "id": "adc181a205e3b283"
  },
  {
   "cell_type": "code",
   "execution_count": null,
   "outputs": [],
   "source": [],
   "metadata": {
    "collapsed": false
   },
   "id": "b89217d65d174bd8"
  }
 ],
 "metadata": {
  "kernelspec": {
   "display_name": "Python 3",
   "language": "python",
   "name": "python3"
  },
  "language_info": {
   "codemirror_mode": {
    "name": "ipython",
    "version": 2
   },
   "file_extension": ".py",
   "mimetype": "text/x-python",
   "name": "python",
   "nbconvert_exporter": "python",
   "pygments_lexer": "ipython2",
   "version": "2.7.6"
  }
 },
 "nbformat": 4,
 "nbformat_minor": 5
}
