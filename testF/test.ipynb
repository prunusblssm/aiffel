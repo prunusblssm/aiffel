{
 "cells": [
  {
   "cell_type": "code",
   "execution_count": 5,
   "outputs": [],
   "source": [
    "import pandas as pd\n",
    "\n",
    "df = pd.read_excel(\"2023_bigcontest.xlsx\")"
   ],
   "metadata": {
    "collapsed": false,
    "ExecuteTime": {
     "end_time": "2023-09-02T06:18:58.961696Z",
     "start_time": "2023-09-02T06:18:58.927072900Z"
    }
   },
   "id": "6d4fbbaa066c94af"
  },
  {
   "cell_type": "code",
   "execution_count": 6,
   "outputs": [
    {
     "data": {
      "text/plain": "   테이블정의서         Unnamed: 1    Unnamed: 2 Unnamed: 3 Unnamed: 4  \\\n0     파일명                NaN      sac_data        NaN        NaN   \n1   테이블설명                NaN  예술의전당 공연예매정보        NaN        NaN   \n2     No.               컬럼ID           컬럼명         타입        NaN   \n3       1                age            나이     bigint          Y   \n4       2             gender            성별       text          Y   \n5       3  membership_type_1        멤버십종류1       text          Y   \n6       4  membership_type_2        멤버십종류2       text          Y   \n7       5  membership_type_3        멤버십종류3       text          Y   \n8       6  membership_type_4        멤버십종류4       text          Y   \n9       7  membership_type_5        멤버십종류5       text          Y   \n10      8  membership_type_6        멤버십종류6       text          Y   \n11      9          tran_date       예매 거래일자       text          N   \n12     10          tran_time       예매 거래시간       text          N   \n13     11          play_date          공연날짜       text          N   \n14     12       play_st_time        공연시작시간       text          N   \n15     13               seat          좌석번호       text          N   \n16     14              price        최종예매가격     bigint          N   \n17     15      ticket_cancel        예매취소여부       text          N   \n18     16      discount_type          할인내역       text          Y   \n19     17   performance_code        공연명 코드       text          N   \n20     18      pre_open_date        선예매시작일       text          Y   \n21     19          open_date         예매시작일       text          Y   \n22     20              genre            장르       text          Y   \n23     21              place          공연장소       text          N   \n24     22       running_time          러닝타임     bigint          Y   \n25     23       intermission          휴게시간     bigint          Y   \n26     24          member_yn          회원여부       text          N   \n\n                               Unnamed: 5  \n0                                     NaN  \n1                                     NaN  \n2                                      비고  \n3   10살 단위 / 80세 이상은 모두 80, 10세 이하는 모두 10  \n4                                     NaN  \n5                   한 회원당 복수개의 멤버십 등록이 가능  \n6                                     NaN  \n7                                     NaN  \n8                                     NaN  \n9                                     NaN  \n10                                    NaN  \n11                               YYYYMMDD  \n12                                   HHMM  \n13                               YYYYMMDD  \n14                                   HHMM  \n15                                    NaN  \n16                                  천원 단위  \n17                2 : 예매취소, 0 : 예매취소하지 않음  \n18                                    NaN  \n19                                    NaN  \n20                               YYYYMMDD  \n21                               YYYYMMDD  \n22                                    NaN  \n23                                    NaN  \n24                                 단위 : 분  \n25                단위 : 분 / 30분 이상 값 모두 30  \n26                  Y : 예술의전당 회원, N : 비회원  ",
      "text/html": "<div>\n<style scoped>\n    .dataframe tbody tr th:only-of-type {\n        vertical-align: middle;\n    }\n\n    .dataframe tbody tr th {\n        vertical-align: top;\n    }\n\n    .dataframe thead th {\n        text-align: right;\n    }\n</style>\n<table border=\"1\" class=\"dataframe\">\n  <thead>\n    <tr style=\"text-align: right;\">\n      <th></th>\n      <th>테이블정의서</th>\n      <th>Unnamed: 1</th>\n      <th>Unnamed: 2</th>\n      <th>Unnamed: 3</th>\n      <th>Unnamed: 4</th>\n      <th>Unnamed: 5</th>\n    </tr>\n  </thead>\n  <tbody>\n    <tr>\n      <th>0</th>\n      <td>파일명</td>\n      <td>NaN</td>\n      <td>sac_data</td>\n      <td>NaN</td>\n      <td>NaN</td>\n      <td>NaN</td>\n    </tr>\n    <tr>\n      <th>1</th>\n      <td>테이블설명</td>\n      <td>NaN</td>\n      <td>예술의전당 공연예매정보</td>\n      <td>NaN</td>\n      <td>NaN</td>\n      <td>NaN</td>\n    </tr>\n    <tr>\n      <th>2</th>\n      <td>No.</td>\n      <td>컬럼ID</td>\n      <td>컬럼명</td>\n      <td>타입</td>\n      <td>NaN</td>\n      <td>비고</td>\n    </tr>\n    <tr>\n      <th>3</th>\n      <td>1</td>\n      <td>age</td>\n      <td>나이</td>\n      <td>bigint</td>\n      <td>Y</td>\n      <td>10살 단위 / 80세 이상은 모두 80, 10세 이하는 모두 10</td>\n    </tr>\n    <tr>\n      <th>4</th>\n      <td>2</td>\n      <td>gender</td>\n      <td>성별</td>\n      <td>text</td>\n      <td>Y</td>\n      <td>NaN</td>\n    </tr>\n    <tr>\n      <th>5</th>\n      <td>3</td>\n      <td>membership_type_1</td>\n      <td>멤버십종류1</td>\n      <td>text</td>\n      <td>Y</td>\n      <td>한 회원당 복수개의 멤버십 등록이 가능</td>\n    </tr>\n    <tr>\n      <th>6</th>\n      <td>4</td>\n      <td>membership_type_2</td>\n      <td>멤버십종류2</td>\n      <td>text</td>\n      <td>Y</td>\n      <td>NaN</td>\n    </tr>\n    <tr>\n      <th>7</th>\n      <td>5</td>\n      <td>membership_type_3</td>\n      <td>멤버십종류3</td>\n      <td>text</td>\n      <td>Y</td>\n      <td>NaN</td>\n    </tr>\n    <tr>\n      <th>8</th>\n      <td>6</td>\n      <td>membership_type_4</td>\n      <td>멤버십종류4</td>\n      <td>text</td>\n      <td>Y</td>\n      <td>NaN</td>\n    </tr>\n    <tr>\n      <th>9</th>\n      <td>7</td>\n      <td>membership_type_5</td>\n      <td>멤버십종류5</td>\n      <td>text</td>\n      <td>Y</td>\n      <td>NaN</td>\n    </tr>\n    <tr>\n      <th>10</th>\n      <td>8</td>\n      <td>membership_type_6</td>\n      <td>멤버십종류6</td>\n      <td>text</td>\n      <td>Y</td>\n      <td>NaN</td>\n    </tr>\n    <tr>\n      <th>11</th>\n      <td>9</td>\n      <td>tran_date</td>\n      <td>예매 거래일자</td>\n      <td>text</td>\n      <td>N</td>\n      <td>YYYYMMDD</td>\n    </tr>\n    <tr>\n      <th>12</th>\n      <td>10</td>\n      <td>tran_time</td>\n      <td>예매 거래시간</td>\n      <td>text</td>\n      <td>N</td>\n      <td>HHMM</td>\n    </tr>\n    <tr>\n      <th>13</th>\n      <td>11</td>\n      <td>play_date</td>\n      <td>공연날짜</td>\n      <td>text</td>\n      <td>N</td>\n      <td>YYYYMMDD</td>\n    </tr>\n    <tr>\n      <th>14</th>\n      <td>12</td>\n      <td>play_st_time</td>\n      <td>공연시작시간</td>\n      <td>text</td>\n      <td>N</td>\n      <td>HHMM</td>\n    </tr>\n    <tr>\n      <th>15</th>\n      <td>13</td>\n      <td>seat</td>\n      <td>좌석번호</td>\n      <td>text</td>\n      <td>N</td>\n      <td>NaN</td>\n    </tr>\n    <tr>\n      <th>16</th>\n      <td>14</td>\n      <td>price</td>\n      <td>최종예매가격</td>\n      <td>bigint</td>\n      <td>N</td>\n      <td>천원 단위</td>\n    </tr>\n    <tr>\n      <th>17</th>\n      <td>15</td>\n      <td>ticket_cancel</td>\n      <td>예매취소여부</td>\n      <td>text</td>\n      <td>N</td>\n      <td>2 : 예매취소, 0 : 예매취소하지 않음</td>\n    </tr>\n    <tr>\n      <th>18</th>\n      <td>16</td>\n      <td>discount_type</td>\n      <td>할인내역</td>\n      <td>text</td>\n      <td>Y</td>\n      <td>NaN</td>\n    </tr>\n    <tr>\n      <th>19</th>\n      <td>17</td>\n      <td>performance_code</td>\n      <td>공연명 코드</td>\n      <td>text</td>\n      <td>N</td>\n      <td>NaN</td>\n    </tr>\n    <tr>\n      <th>20</th>\n      <td>18</td>\n      <td>pre_open_date</td>\n      <td>선예매시작일</td>\n      <td>text</td>\n      <td>Y</td>\n      <td>YYYYMMDD</td>\n    </tr>\n    <tr>\n      <th>21</th>\n      <td>19</td>\n      <td>open_date</td>\n      <td>예매시작일</td>\n      <td>text</td>\n      <td>Y</td>\n      <td>YYYYMMDD</td>\n    </tr>\n    <tr>\n      <th>22</th>\n      <td>20</td>\n      <td>genre</td>\n      <td>장르</td>\n      <td>text</td>\n      <td>Y</td>\n      <td>NaN</td>\n    </tr>\n    <tr>\n      <th>23</th>\n      <td>21</td>\n      <td>place</td>\n      <td>공연장소</td>\n      <td>text</td>\n      <td>N</td>\n      <td>NaN</td>\n    </tr>\n    <tr>\n      <th>24</th>\n      <td>22</td>\n      <td>running_time</td>\n      <td>러닝타임</td>\n      <td>bigint</td>\n      <td>Y</td>\n      <td>단위 : 분</td>\n    </tr>\n    <tr>\n      <th>25</th>\n      <td>23</td>\n      <td>intermission</td>\n      <td>휴게시간</td>\n      <td>bigint</td>\n      <td>Y</td>\n      <td>단위 : 분 / 30분 이상 값 모두 30</td>\n    </tr>\n    <tr>\n      <th>26</th>\n      <td>24</td>\n      <td>member_yn</td>\n      <td>회원여부</td>\n      <td>text</td>\n      <td>N</td>\n      <td>Y : 예술의전당 회원, N : 비회원</td>\n    </tr>\n  </tbody>\n</table>\n</div>"
     },
     "execution_count": 6,
     "metadata": {},
     "output_type": "execute_result"
    }
   ],
   "source": [
    "df"
   ],
   "metadata": {
    "collapsed": false,
    "ExecuteTime": {
     "end_time": "2023-09-02T06:18:59.177873600Z",
     "start_time": "2023-09-02T06:18:59.152977200Z"
    }
   },
   "id": "23ff75976fc86efe"
  },
  {
   "cell_type": "code",
   "execution_count": null,
   "outputs": [],
   "source": [],
   "metadata": {
    "collapsed": false
   },
   "id": "5c4ec2508c8a832f"
  }
 ],
 "metadata": {
  "kernelspec": {
   "display_name": "Python 3",
   "language": "python",
   "name": "python3"
  },
  "language_info": {
   "codemirror_mode": {
    "name": "ipython",
    "version": 2
   },
   "file_extension": ".py",
   "mimetype": "text/x-python",
   "name": "python",
   "nbconvert_exporter": "python",
   "pygments_lexer": "ipython2",
   "version": "2.7.6"
  }
 },
 "nbformat": 4,
 "nbformat_minor": 5
}
