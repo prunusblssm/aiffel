{
 "cells": [
  {
   "cell_type": "code",
   "execution_count": null,
   "id": "initial_id",
   "metadata": {
    "collapsed": true
   },
   "outputs": [],
   "source": []
  },
  {
   "cell_type": "code",
   "execution_count": 10,
   "outputs": [
    {
     "name": "stdout",
     "output_type": "stream",
     "text": [
      "선택한 칼럼을 포함한 파일 'booking_table.csv'이 생성되었습니다.\n"
     ]
    }
   ],
   "source": [
    "import pandas as pd\n",
    "\n",
    "# 원본 CSV 파일 이름\n",
    "input_file = \"big.csv\"\n",
    "\n",
    "# 추출할 칼럼명 리스트\n",
    "desired_columns = [\"performance_code\", \"tran_date\", \"tran_time\", \"play_date\", \"play_st_time\", \"seat\", \"price\", \"ticket_cancel\", \"discount_type\"]\n",
    "\n",
    "# CSV 파일을 읽어 데이터프레임으로 로드\n",
    "df = pd.read_csv(input_file)\n",
    "\n",
    "# 원하는 칼럼만 선택\n",
    "selected_df = df[desired_columns]\n",
    "\n",
    "# 새로운 CSV 파일로 저장\n",
    "output_file = \"booking_table.csv\"\n",
    "selected_df.to_csv(output_file, index=False)\n",
    "\n",
    "print(f\"선택한 칼럼을 포함한 파일 '{output_file}'이 생성되었습니다.\")\n"
   ],
   "metadata": {
    "collapsed": false,
    "ExecuteTime": {
     "end_time": "2023-09-12T14:47:43.274663100Z",
     "start_time": "2023-09-12T14:47:32.956185Z"
    }
   },
   "id": "2c3909fee8459117"
  },
  {
   "cell_type": "code",
   "execution_count": 11,
   "outputs": [],
   "source": [
    "# import pandas as pd\n",
    "# \n",
    "# # 원본 CSV 파일 이름\n",
    "# input_file = \"big.csv\"\n",
    "# \n",
    "# # 추출할 칼럼명 리스트\n",
    "# desired_columns = [\"Seat_ID\", \"Block\", \"Row\", \"Number\"]\n",
    "# \n",
    "# # CSV 파일을 읽어 데이터프레임으로 로드\n",
    "# # 탭으로 구분되어 있으므로 delimiter 매개변수를 '\\t'로 설정하고 quoting을 해제합니다.\n",
    "# df = pd.read_csv(input_file, delimiter='\\t', quoting=3)\n",
    "# \n",
    "# # 원하는 칼럼만 선택\n",
    "# selected_df = df[desired_columns]\n",
    "# \n",
    "# # 새로운 CSV 파일로 저장\n",
    "# output_file = \"seat.csv\"\n",
    "# selected_df.to_csv(output_file, index=False)\n",
    "# \n",
    "# print(f\"선택한 칼럼을 포함한 파일 '{output_file}'이 생성되었습니다.\")\n",
    "#근웅님 데이터로 취합\n"
   ],
   "metadata": {
    "collapsed": false,
    "ExecuteTime": {
     "end_time": "2023-09-12T14:47:43.276657500Z",
     "start_time": "2023-09-12T14:47:43.272158300Z"
    }
   },
   "id": "f51258f2e530171d"
  },
  {
   "cell_type": "code",
   "execution_count": 12,
   "outputs": [],
   "source": [
    "import pandas as pd\n",
    "\n",
    "# 원본 CSV 파일 이름\n",
    "input_file = \"big.csv\""
   ],
   "metadata": {
    "collapsed": false,
    "ExecuteTime": {
     "end_time": "2023-09-12T14:50:19.556301400Z",
     "start_time": "2023-09-12T14:50:19.547265100Z"
    }
   },
   "id": "a001fe355549adb2"
  },
  {
   "cell_type": "code",
   "execution_count": 13,
   "outputs": [
    {
     "name": "stdout",
     "output_type": "stream",
     "text": [
      "선택한 칼럼을 포함한 파일 'membership.csv'이 생성되었습니다.\n"
     ]
    }
   ],
   "source": [
    "\n",
    "# 추출할 칼럼명 리스트\n",
    "desired_columns = ['membership_type_1','membership_type_2','membership_type_3','membership_type_4','membership_type_5','membership_type_6','member_yn']\n",
    "\n",
    "# CSV 파일을 읽어 데이터프레임으로 로드\n",
    "df = pd.read_csv(input_file)\n",
    "\n",
    "# 원하는 칼럼만 선택\n",
    "selected_df = df[desired_columns]\n",
    "\n",
    "# 새로운 CSV 파일로 저장\n",
    "output_file = \"membership.csv\"\n",
    "selected_df.to_csv(output_file, index=False)\n",
    "\n",
    "print(f\"선택한 칼럼을 포함한 파일 '{output_file}'이 생성되었습니다.\")\n"
   ],
   "metadata": {
    "collapsed": false,
    "ExecuteTime": {
     "end_time": "2023-09-12T14:51:55.702955400Z",
     "start_time": "2023-09-12T14:51:48.273966Z"
    }
   },
   "id": "e29ad4819ec542a"
  },
  {
   "cell_type": "code",
   "execution_count": null,
   "outputs": [],
   "source": [],
   "metadata": {
    "collapsed": false
   },
   "id": "d11069376ecd1a40"
  }
 ],
 "metadata": {
  "kernelspec": {
   "display_name": "Python 3",
   "language": "python",
   "name": "python3"
  },
  "language_info": {
   "codemirror_mode": {
    "name": "ipython",
    "version": 2
   },
   "file_extension": ".py",
   "mimetype": "text/x-python",
   "name": "python",
   "nbconvert_exporter": "python",
   "pygments_lexer": "ipython2",
   "version": "2.7.6"
  }
 },
 "nbformat": 4,
 "nbformat_minor": 5
}
