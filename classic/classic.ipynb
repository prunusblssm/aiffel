{
 "cells": [
  {
   "cell_type": "code",
   "execution_count": 1,
   "id": "initial_id",
   "metadata": {
    "collapsed": true,
    "ExecuteTime": {
     "end_time": "2023-09-08T06:08:27.757915500Z",
     "start_time": "2023-09-08T06:08:27.378247Z"
    }
   },
   "outputs": [],
   "source": [
    "import numpy as np\n",
    "import pandas as pd\n",
    "import seaborn as sns\n",
    "import matplotlib.pyplot as plt\n",
    "from sklearn.preprocessing import MinMaxScaler, OneHotEncoder\n",
    "from sklearn.model_selection import train_test_split"
   ]
  },
  {
   "cell_type": "code",
   "execution_count": 2,
   "outputs": [],
   "source": [
    "df = pd.DataFrame()"
   ],
   "metadata": {
    "collapsed": false,
    "ExecuteTime": {
     "end_time": "2023-09-08T06:08:27.761547500Z",
     "start_time": "2023-09-08T06:08:27.759044Z"
    }
   },
   "id": "2c083cd339a3fff7"
  },
  {
   "cell_type": "code",
   "execution_count": 3,
   "outputs": [],
   "source": [
    "import pandas as pd\n",
    "df=pd.read_csv('2023빅콘테스트_어드밴스드리그_예술의전당.csv')"
   ],
   "metadata": {
    "collapsed": false,
    "ExecuteTime": {
     "end_time": "2023-09-08T06:08:31.957416700Z",
     "start_time": "2023-09-08T06:08:27.763049700Z"
    }
   },
   "id": "33ea09e85198215e"
  },
  {
   "cell_type": "code",
   "execution_count": 4,
   "outputs": [
    {
     "data": {
      "text/plain": "1920868"
     },
     "execution_count": 4,
     "metadata": {},
     "output_type": "execute_result"
    }
   ],
   "source": [
    "len(df)"
   ],
   "metadata": {
    "collapsed": false,
    "ExecuteTime": {
     "end_time": "2023-09-08T06:08:31.968212400Z",
     "start_time": "2023-09-08T06:08:31.958414Z"
    }
   },
   "id": "9635c4d9db3ba932"
  },
  {
   "cell_type": "code",
   "execution_count": 5,
   "outputs": [
    {
     "name": "stdout",
     "output_type": "stream",
     "text": [
      "컬럼별 결측치 갯수\n"
     ]
    },
    {
     "data": {
      "text/plain": "age                  1300183\ngender               1299714\nmembership_type_1    1299714\nmembership_type_2    1433215\nmembership_type_3    1749009\nmembership_type_4    1890675\nmembership_type_5    1919586\nmembership_type_6    1920868\ntran_date                  0\ntran_time                  0\nplay_date                  0\nplay_st_time               0\nseat                       0\nprice                      0\nticket_cancel              0\ndiscount_type              0\nperformance_code           0\npre_open_date         864385\nopen_date                340\ngenre                  25842\nplace                      0\nrunning_time               0\nintermission               0\nmember_yn                  0\ndtype: int64"
     },
     "execution_count": 5,
     "metadata": {},
     "output_type": "execute_result"
    }
   ],
   "source": [
    "print('컬럼별 결측치 갯수')\n",
    "len(df) - df.count()"
   ],
   "metadata": {
    "collapsed": false,
    "ExecuteTime": {
     "end_time": "2023-09-08T06:08:33.972973400Z",
     "start_time": "2023-09-08T06:08:31.964221400Z"
    }
   },
   "id": "ed9f1e1ec6dbfbb9"
  },
  {
   "cell_type": "code",
   "execution_count": 6,
   "outputs": [
    {
     "data": {
      "text/plain": "array(['콘서트홀', '리사이틀홀', 'IBK챔버홀'], dtype=object)"
     },
     "execution_count": 6,
     "metadata": {},
     "output_type": "execute_result"
    }
   ],
   "source": [
    "df_place = df.sort_values(by=['place','price'],ascending=False)\n",
    "df_place.count()\n",
    "df['place'].unique()"
   ],
   "metadata": {
    "collapsed": false,
    "ExecuteTime": {
     "end_time": "2023-09-08T06:08:36.886390100Z",
     "start_time": "2023-09-08T06:08:33.968476100Z"
    }
   },
   "id": "e7f8ab222453c837"
  },
  {
   "cell_type": "code",
   "execution_count": 7,
   "outputs": [
    {
     "data": {
      "text/plain": "          age gender membership_type_1 membership_type_2 membership_type_3  \\\n1453388  50.0      F                무료                그린               NaN   \n1373771  40.0      M                골드                무료               NaN   \n1344225  30.0      F                무료              싹틔우미                그린   \n1370621  50.0      M                블루                무료               NaN   \n1618939  40.0      F                무료               NaN               NaN   \n...       ...    ...               ...               ...               ...   \n546457    NaN    NaN               NaN               NaN               NaN   \n1208316   NaN    NaN               NaN               NaN               NaN   \n546452    NaN    NaN               NaN               NaN               NaN   \n1208319   NaN    NaN               NaN               NaN               NaN   \n959943    NaN    NaN               NaN               NaN               NaN   \n\n        membership_type_4 membership_type_5  membership_type_6  tran_date  \\\n1453388               NaN               NaN                NaN   20220927   \n1373771               NaN               NaN                NaN   20221010   \n1344225               NaN               NaN                NaN   20220923   \n1370621               NaN               NaN                NaN   20220919   \n1618939               NaN               NaN                NaN   20221014   \n...                   ...               ...                ...        ...   \n546457                NaN               NaN                NaN   20190630   \n1208316               NaN               NaN                NaN   20191121   \n546452                NaN               NaN                NaN   20210930   \n1208319               NaN               NaN                NaN   20191011   \n959943                NaN               NaN                NaN   20220506   \n\n         tran_time  ...  ticket_cancel  discount_type performance_code  \\\n1453388        223  ...              0             일반              145   \n1373771       1624  ...              0             일반              145   \n1344225        849  ...              2             일반              145   \n1370621       1409  ...              2             일반              145   \n1618939       2129  ...              0             일반              145   \n...            ...  ...            ...            ...              ...   \n546457        1637  ...              0            초대권             2429   \n1208316       1706  ...              0          기획사판매             1671   \n546452        1311  ...              0          기획사판매             1006   \n1208319       1331  ...              0            초대권             1215   \n959943        1320  ...              0            초대권             1653   \n\n         pre_open_date   open_date genre  place  running_time  intermission  \\\n1453388     20220918.0  20220919.0   교향곡   콘서트홀           110            15   \n1373771     20220918.0  20220919.0   교향곡   콘서트홀           110            15   \n1344225     20220918.0  20220919.0   교향곡   콘서트홀           110            15   \n1370621     20220918.0  20220919.0   교향곡   콘서트홀           110            15   \n1618939     20220918.0  20220919.0   교향곡   콘서트홀           110            15   \n...                ...         ...   ...    ...           ...           ...   \n546457      20190628.0  20190628.0    합창   콘서트홀           120            15   \n1208316            NaN  20190816.0   클래식   콘서트홀           110            15   \n546452      20210905.0  20210906.0    성악   콘서트홀           120            15   \n1208319     20190909.0  20190913.0    합창   콘서트홀           105            15   \n959943      20220410.0  20220411.0   교향곡   콘서트홀            80             0   \n\n        member_yn  \n1453388         Y  \n1373771         Y  \n1344225         Y  \n1370621         Y  \n1618939         Y  \n...           ...  \n546457          N  \n1208316         N  \n546452          N  \n1208319         N  \n959943          N  \n\n[1096968 rows x 24 columns]",
      "text/html": "<div>\n<style scoped>\n    .dataframe tbody tr th:only-of-type {\n        vertical-align: middle;\n    }\n\n    .dataframe tbody tr th {\n        vertical-align: top;\n    }\n\n    .dataframe thead th {\n        text-align: right;\n    }\n</style>\n<table border=\"1\" class=\"dataframe\">\n  <thead>\n    <tr style=\"text-align: right;\">\n      <th></th>\n      <th>age</th>\n      <th>gender</th>\n      <th>membership_type_1</th>\n      <th>membership_type_2</th>\n      <th>membership_type_3</th>\n      <th>membership_type_4</th>\n      <th>membership_type_5</th>\n      <th>membership_type_6</th>\n      <th>tran_date</th>\n      <th>tran_time</th>\n      <th>...</th>\n      <th>ticket_cancel</th>\n      <th>discount_type</th>\n      <th>performance_code</th>\n      <th>pre_open_date</th>\n      <th>open_date</th>\n      <th>genre</th>\n      <th>place</th>\n      <th>running_time</th>\n      <th>intermission</th>\n      <th>member_yn</th>\n    </tr>\n  </thead>\n  <tbody>\n    <tr>\n      <th>1453388</th>\n      <td>50.0</td>\n      <td>F</td>\n      <td>무료</td>\n      <td>그린</td>\n      <td>NaN</td>\n      <td>NaN</td>\n      <td>NaN</td>\n      <td>NaN</td>\n      <td>20220927</td>\n      <td>223</td>\n      <td>...</td>\n      <td>0</td>\n      <td>일반</td>\n      <td>145</td>\n      <td>20220918.0</td>\n      <td>20220919.0</td>\n      <td>교향곡</td>\n      <td>콘서트홀</td>\n      <td>110</td>\n      <td>15</td>\n      <td>Y</td>\n    </tr>\n    <tr>\n      <th>1373771</th>\n      <td>40.0</td>\n      <td>M</td>\n      <td>골드</td>\n      <td>무료</td>\n      <td>NaN</td>\n      <td>NaN</td>\n      <td>NaN</td>\n      <td>NaN</td>\n      <td>20221010</td>\n      <td>1624</td>\n      <td>...</td>\n      <td>0</td>\n      <td>일반</td>\n      <td>145</td>\n      <td>20220918.0</td>\n      <td>20220919.0</td>\n      <td>교향곡</td>\n      <td>콘서트홀</td>\n      <td>110</td>\n      <td>15</td>\n      <td>Y</td>\n    </tr>\n    <tr>\n      <th>1344225</th>\n      <td>30.0</td>\n      <td>F</td>\n      <td>무료</td>\n      <td>싹틔우미</td>\n      <td>그린</td>\n      <td>NaN</td>\n      <td>NaN</td>\n      <td>NaN</td>\n      <td>20220923</td>\n      <td>849</td>\n      <td>...</td>\n      <td>2</td>\n      <td>일반</td>\n      <td>145</td>\n      <td>20220918.0</td>\n      <td>20220919.0</td>\n      <td>교향곡</td>\n      <td>콘서트홀</td>\n      <td>110</td>\n      <td>15</td>\n      <td>Y</td>\n    </tr>\n    <tr>\n      <th>1370621</th>\n      <td>50.0</td>\n      <td>M</td>\n      <td>블루</td>\n      <td>무료</td>\n      <td>NaN</td>\n      <td>NaN</td>\n      <td>NaN</td>\n      <td>NaN</td>\n      <td>20220919</td>\n      <td>1409</td>\n      <td>...</td>\n      <td>2</td>\n      <td>일반</td>\n      <td>145</td>\n      <td>20220918.0</td>\n      <td>20220919.0</td>\n      <td>교향곡</td>\n      <td>콘서트홀</td>\n      <td>110</td>\n      <td>15</td>\n      <td>Y</td>\n    </tr>\n    <tr>\n      <th>1618939</th>\n      <td>40.0</td>\n      <td>F</td>\n      <td>무료</td>\n      <td>NaN</td>\n      <td>NaN</td>\n      <td>NaN</td>\n      <td>NaN</td>\n      <td>NaN</td>\n      <td>20221014</td>\n      <td>2129</td>\n      <td>...</td>\n      <td>0</td>\n      <td>일반</td>\n      <td>145</td>\n      <td>20220918.0</td>\n      <td>20220919.0</td>\n      <td>교향곡</td>\n      <td>콘서트홀</td>\n      <td>110</td>\n      <td>15</td>\n      <td>Y</td>\n    </tr>\n    <tr>\n      <th>...</th>\n      <td>...</td>\n      <td>...</td>\n      <td>...</td>\n      <td>...</td>\n      <td>...</td>\n      <td>...</td>\n      <td>...</td>\n      <td>...</td>\n      <td>...</td>\n      <td>...</td>\n      <td>...</td>\n      <td>...</td>\n      <td>...</td>\n      <td>...</td>\n      <td>...</td>\n      <td>...</td>\n      <td>...</td>\n      <td>...</td>\n      <td>...</td>\n      <td>...</td>\n      <td>...</td>\n    </tr>\n    <tr>\n      <th>546457</th>\n      <td>NaN</td>\n      <td>NaN</td>\n      <td>NaN</td>\n      <td>NaN</td>\n      <td>NaN</td>\n      <td>NaN</td>\n      <td>NaN</td>\n      <td>NaN</td>\n      <td>20190630</td>\n      <td>1637</td>\n      <td>...</td>\n      <td>0</td>\n      <td>초대권</td>\n      <td>2429</td>\n      <td>20190628.0</td>\n      <td>20190628.0</td>\n      <td>합창</td>\n      <td>콘서트홀</td>\n      <td>120</td>\n      <td>15</td>\n      <td>N</td>\n    </tr>\n    <tr>\n      <th>1208316</th>\n      <td>NaN</td>\n      <td>NaN</td>\n      <td>NaN</td>\n      <td>NaN</td>\n      <td>NaN</td>\n      <td>NaN</td>\n      <td>NaN</td>\n      <td>NaN</td>\n      <td>20191121</td>\n      <td>1706</td>\n      <td>...</td>\n      <td>0</td>\n      <td>기획사판매</td>\n      <td>1671</td>\n      <td>NaN</td>\n      <td>20190816.0</td>\n      <td>클래식</td>\n      <td>콘서트홀</td>\n      <td>110</td>\n      <td>15</td>\n      <td>N</td>\n    </tr>\n    <tr>\n      <th>546452</th>\n      <td>NaN</td>\n      <td>NaN</td>\n      <td>NaN</td>\n      <td>NaN</td>\n      <td>NaN</td>\n      <td>NaN</td>\n      <td>NaN</td>\n      <td>NaN</td>\n      <td>20210930</td>\n      <td>1311</td>\n      <td>...</td>\n      <td>0</td>\n      <td>기획사판매</td>\n      <td>1006</td>\n      <td>20210905.0</td>\n      <td>20210906.0</td>\n      <td>성악</td>\n      <td>콘서트홀</td>\n      <td>120</td>\n      <td>15</td>\n      <td>N</td>\n    </tr>\n    <tr>\n      <th>1208319</th>\n      <td>NaN</td>\n      <td>NaN</td>\n      <td>NaN</td>\n      <td>NaN</td>\n      <td>NaN</td>\n      <td>NaN</td>\n      <td>NaN</td>\n      <td>NaN</td>\n      <td>20191011</td>\n      <td>1331</td>\n      <td>...</td>\n      <td>0</td>\n      <td>초대권</td>\n      <td>1215</td>\n      <td>20190909.0</td>\n      <td>20190913.0</td>\n      <td>합창</td>\n      <td>콘서트홀</td>\n      <td>105</td>\n      <td>15</td>\n      <td>N</td>\n    </tr>\n    <tr>\n      <th>959943</th>\n      <td>NaN</td>\n      <td>NaN</td>\n      <td>NaN</td>\n      <td>NaN</td>\n      <td>NaN</td>\n      <td>NaN</td>\n      <td>NaN</td>\n      <td>NaN</td>\n      <td>20220506</td>\n      <td>1320</td>\n      <td>...</td>\n      <td>0</td>\n      <td>초대권</td>\n      <td>1653</td>\n      <td>20220410.0</td>\n      <td>20220411.0</td>\n      <td>교향곡</td>\n      <td>콘서트홀</td>\n      <td>80</td>\n      <td>0</td>\n      <td>N</td>\n    </tr>\n  </tbody>\n</table>\n<p>1096968 rows × 24 columns</p>\n</div>"
     },
     "execution_count": 7,
     "metadata": {},
     "output_type": "execute_result"
    }
   ],
   "source": [
    "df_concert = df[df['place']=='콘서트홀']\n",
    "df_concert = df_concert.sort_values(by=['price'],ascending=False)\n",
    "df['tran_date'] = pd.to_datetime(df['tran_date'], format='%Y%m%d')\n",
    "df.set_index('tran_date', inplace=True)\n",
    "df_concert"
   ],
   "metadata": {
    "collapsed": false,
    "ExecuteTime": {
     "end_time": "2023-09-08T06:08:38.645330900Z",
     "start_time": "2023-09-08T06:08:36.888384200Z"
    }
   },
   "id": "84b73106e6eeea13"
  },
  {
   "cell_type": "code",
   "execution_count": 8,
   "outputs": [
    {
     "data": {
      "text/plain": "             age gender membership_type_1 membership_type_2 membership_type_3  \\\ntran_date                                                                       \n2022-11-13  40.0      F                무료               NaN               NaN   \n2022-10-31  40.0      F                무료               NaN               NaN   \n2022-11-13  40.0      F                무료               NaN               NaN   \n2022-10-31  40.0      F                무료               NaN               NaN   \n2022-11-13  40.0      F                무료               NaN               NaN   \n...          ...    ...               ...               ...               ...   \n2022-07-07   NaN    NaN               NaN               NaN               NaN   \n2022-09-04   NaN    NaN               NaN               NaN               NaN   \n2022-09-19   NaN    NaN               NaN               NaN               NaN   \n2019-05-31   NaN    NaN               NaN               NaN               NaN   \n2022-04-23   NaN    NaN               NaN               NaN               NaN   \n\n           membership_type_4 membership_type_5  membership_type_6  tran_time  \\\ntran_date                                                                      \n2022-11-13               NaN               NaN                NaN        928   \n2022-10-31               NaN               NaN                NaN       1231   \n2022-11-13               NaN               NaN                NaN        928   \n2022-10-31               NaN               NaN                NaN       1231   \n2022-11-13               NaN               NaN                NaN       1026   \n...                      ...               ...                ...        ...   \n2022-07-07               NaN               NaN                NaN       1849   \n2022-09-04               NaN               NaN                NaN        936   \n2022-09-19               NaN               NaN                NaN       1134   \n2019-05-31               NaN               NaN                NaN       1537   \n2022-04-23               NaN               NaN                NaN       1058   \n\n            play_date  ...  ticket_cancel discount_type  performance_code  \\\ntran_date              ...                                                  \n2022-11-13   20221126  ...              2            일반               605   \n2022-10-31   20221126  ...              2            일반               605   \n2022-11-13   20221126  ...              2            일반               605   \n2022-10-31   20221126  ...              2            일반               605   \n2022-11-13   20221126  ...              2            일반               605   \n...               ...  ...            ...           ...               ...   \n2022-07-07   20220712  ...              0           초대권              2800   \n2022-09-04   20220911  ...              0           초대권               466   \n2022-09-19   20220924  ...              0           초대권              2052   \n2019-05-31   20190627  ...              0           초대권              2116   \n2022-04-23   20220428  ...              2           초대권              1075   \n\n            pre_open_date   open_date  genre  place  running_time  \\\ntran_date                                                           \n2022-11-13            NaN  20221030.0     독주  리사이틀홀            90   \n2022-10-31            NaN  20221030.0     독주  리사이틀홀            90   \n2022-11-13            NaN  20221030.0     독주  리사이틀홀            90   \n2022-10-31            NaN  20221030.0     독주  리사이틀홀            90   \n2022-11-13            NaN  20221030.0     독주  리사이틀홀            90   \n...                   ...         ...    ...    ...           ...   \n2022-07-07            NaN  20220527.0     독주  리사이틀홀            90   \n2022-09-04            NaN  20220819.0     독주  리사이틀홀            90   \n2022-09-19            NaN  20220808.0     독주  리사이틀홀            80   \n2019-05-31            NaN  20190531.0     독주  리사이틀홀            90   \n2022-04-23     20220328.0  20220328.0     독주  리사이틀홀            90   \n\n           intermission member_yn  \ntran_date                          \n2022-11-13           15         Y  \n2022-10-31           15         Y  \n2022-11-13           15         Y  \n2022-10-31           15         Y  \n2022-11-13           15         Y  \n...                 ...       ...  \n2022-07-07           15         N  \n2022-09-04           15         N  \n2022-09-19           15         N  \n2019-05-31           15         N  \n2022-04-23           15         N  \n\n[346490 rows x 23 columns]",
      "text/html": "<div>\n<style scoped>\n    .dataframe tbody tr th:only-of-type {\n        vertical-align: middle;\n    }\n\n    .dataframe tbody tr th {\n        vertical-align: top;\n    }\n\n    .dataframe thead th {\n        text-align: right;\n    }\n</style>\n<table border=\"1\" class=\"dataframe\">\n  <thead>\n    <tr style=\"text-align: right;\">\n      <th></th>\n      <th>age</th>\n      <th>gender</th>\n      <th>membership_type_1</th>\n      <th>membership_type_2</th>\n      <th>membership_type_3</th>\n      <th>membership_type_4</th>\n      <th>membership_type_5</th>\n      <th>membership_type_6</th>\n      <th>tran_time</th>\n      <th>play_date</th>\n      <th>...</th>\n      <th>ticket_cancel</th>\n      <th>discount_type</th>\n      <th>performance_code</th>\n      <th>pre_open_date</th>\n      <th>open_date</th>\n      <th>genre</th>\n      <th>place</th>\n      <th>running_time</th>\n      <th>intermission</th>\n      <th>member_yn</th>\n    </tr>\n    <tr>\n      <th>tran_date</th>\n      <th></th>\n      <th></th>\n      <th></th>\n      <th></th>\n      <th></th>\n      <th></th>\n      <th></th>\n      <th></th>\n      <th></th>\n      <th></th>\n      <th></th>\n      <th></th>\n      <th></th>\n      <th></th>\n      <th></th>\n      <th></th>\n      <th></th>\n      <th></th>\n      <th></th>\n      <th></th>\n      <th></th>\n    </tr>\n  </thead>\n  <tbody>\n    <tr>\n      <th>2022-11-13</th>\n      <td>40.0</td>\n      <td>F</td>\n      <td>무료</td>\n      <td>NaN</td>\n      <td>NaN</td>\n      <td>NaN</td>\n      <td>NaN</td>\n      <td>NaN</td>\n      <td>928</td>\n      <td>20221126</td>\n      <td>...</td>\n      <td>2</td>\n      <td>일반</td>\n      <td>605</td>\n      <td>NaN</td>\n      <td>20221030.0</td>\n      <td>독주</td>\n      <td>리사이틀홀</td>\n      <td>90</td>\n      <td>15</td>\n      <td>Y</td>\n    </tr>\n    <tr>\n      <th>2022-10-31</th>\n      <td>40.0</td>\n      <td>F</td>\n      <td>무료</td>\n      <td>NaN</td>\n      <td>NaN</td>\n      <td>NaN</td>\n      <td>NaN</td>\n      <td>NaN</td>\n      <td>1231</td>\n      <td>20221126</td>\n      <td>...</td>\n      <td>2</td>\n      <td>일반</td>\n      <td>605</td>\n      <td>NaN</td>\n      <td>20221030.0</td>\n      <td>독주</td>\n      <td>리사이틀홀</td>\n      <td>90</td>\n      <td>15</td>\n      <td>Y</td>\n    </tr>\n    <tr>\n      <th>2022-11-13</th>\n      <td>40.0</td>\n      <td>F</td>\n      <td>무료</td>\n      <td>NaN</td>\n      <td>NaN</td>\n      <td>NaN</td>\n      <td>NaN</td>\n      <td>NaN</td>\n      <td>928</td>\n      <td>20221126</td>\n      <td>...</td>\n      <td>2</td>\n      <td>일반</td>\n      <td>605</td>\n      <td>NaN</td>\n      <td>20221030.0</td>\n      <td>독주</td>\n      <td>리사이틀홀</td>\n      <td>90</td>\n      <td>15</td>\n      <td>Y</td>\n    </tr>\n    <tr>\n      <th>2022-10-31</th>\n      <td>40.0</td>\n      <td>F</td>\n      <td>무료</td>\n      <td>NaN</td>\n      <td>NaN</td>\n      <td>NaN</td>\n      <td>NaN</td>\n      <td>NaN</td>\n      <td>1231</td>\n      <td>20221126</td>\n      <td>...</td>\n      <td>2</td>\n      <td>일반</td>\n      <td>605</td>\n      <td>NaN</td>\n      <td>20221030.0</td>\n      <td>독주</td>\n      <td>리사이틀홀</td>\n      <td>90</td>\n      <td>15</td>\n      <td>Y</td>\n    </tr>\n    <tr>\n      <th>2022-11-13</th>\n      <td>40.0</td>\n      <td>F</td>\n      <td>무료</td>\n      <td>NaN</td>\n      <td>NaN</td>\n      <td>NaN</td>\n      <td>NaN</td>\n      <td>NaN</td>\n      <td>1026</td>\n      <td>20221126</td>\n      <td>...</td>\n      <td>2</td>\n      <td>일반</td>\n      <td>605</td>\n      <td>NaN</td>\n      <td>20221030.0</td>\n      <td>독주</td>\n      <td>리사이틀홀</td>\n      <td>90</td>\n      <td>15</td>\n      <td>Y</td>\n    </tr>\n    <tr>\n      <th>...</th>\n      <td>...</td>\n      <td>...</td>\n      <td>...</td>\n      <td>...</td>\n      <td>...</td>\n      <td>...</td>\n      <td>...</td>\n      <td>...</td>\n      <td>...</td>\n      <td>...</td>\n      <td>...</td>\n      <td>...</td>\n      <td>...</td>\n      <td>...</td>\n      <td>...</td>\n      <td>...</td>\n      <td>...</td>\n      <td>...</td>\n      <td>...</td>\n      <td>...</td>\n      <td>...</td>\n    </tr>\n    <tr>\n      <th>2022-07-07</th>\n      <td>NaN</td>\n      <td>NaN</td>\n      <td>NaN</td>\n      <td>NaN</td>\n      <td>NaN</td>\n      <td>NaN</td>\n      <td>NaN</td>\n      <td>NaN</td>\n      <td>1849</td>\n      <td>20220712</td>\n      <td>...</td>\n      <td>0</td>\n      <td>초대권</td>\n      <td>2800</td>\n      <td>NaN</td>\n      <td>20220527.0</td>\n      <td>독주</td>\n      <td>리사이틀홀</td>\n      <td>90</td>\n      <td>15</td>\n      <td>N</td>\n    </tr>\n    <tr>\n      <th>2022-09-04</th>\n      <td>NaN</td>\n      <td>NaN</td>\n      <td>NaN</td>\n      <td>NaN</td>\n      <td>NaN</td>\n      <td>NaN</td>\n      <td>NaN</td>\n      <td>NaN</td>\n      <td>936</td>\n      <td>20220911</td>\n      <td>...</td>\n      <td>0</td>\n      <td>초대권</td>\n      <td>466</td>\n      <td>NaN</td>\n      <td>20220819.0</td>\n      <td>독주</td>\n      <td>리사이틀홀</td>\n      <td>90</td>\n      <td>15</td>\n      <td>N</td>\n    </tr>\n    <tr>\n      <th>2022-09-19</th>\n      <td>NaN</td>\n      <td>NaN</td>\n      <td>NaN</td>\n      <td>NaN</td>\n      <td>NaN</td>\n      <td>NaN</td>\n      <td>NaN</td>\n      <td>NaN</td>\n      <td>1134</td>\n      <td>20220924</td>\n      <td>...</td>\n      <td>0</td>\n      <td>초대권</td>\n      <td>2052</td>\n      <td>NaN</td>\n      <td>20220808.0</td>\n      <td>독주</td>\n      <td>리사이틀홀</td>\n      <td>80</td>\n      <td>15</td>\n      <td>N</td>\n    </tr>\n    <tr>\n      <th>2019-05-31</th>\n      <td>NaN</td>\n      <td>NaN</td>\n      <td>NaN</td>\n      <td>NaN</td>\n      <td>NaN</td>\n      <td>NaN</td>\n      <td>NaN</td>\n      <td>NaN</td>\n      <td>1537</td>\n      <td>20190627</td>\n      <td>...</td>\n      <td>0</td>\n      <td>초대권</td>\n      <td>2116</td>\n      <td>NaN</td>\n      <td>20190531.0</td>\n      <td>독주</td>\n      <td>리사이틀홀</td>\n      <td>90</td>\n      <td>15</td>\n      <td>N</td>\n    </tr>\n    <tr>\n      <th>2022-04-23</th>\n      <td>NaN</td>\n      <td>NaN</td>\n      <td>NaN</td>\n      <td>NaN</td>\n      <td>NaN</td>\n      <td>NaN</td>\n      <td>NaN</td>\n      <td>NaN</td>\n      <td>1058</td>\n      <td>20220428</td>\n      <td>...</td>\n      <td>2</td>\n      <td>초대권</td>\n      <td>1075</td>\n      <td>20220328.0</td>\n      <td>20220328.0</td>\n      <td>독주</td>\n      <td>리사이틀홀</td>\n      <td>90</td>\n      <td>15</td>\n      <td>N</td>\n    </tr>\n  </tbody>\n</table>\n<p>346490 rows × 23 columns</p>\n</div>"
     },
     "execution_count": 8,
     "metadata": {},
     "output_type": "execute_result"
    }
   ],
   "source": [
    "df_re = df[df['place']=='리사이틀홀']\n",
    "df_re = df_re.sort_values(by=['price'],ascending=False)\n",
    "df_re"
   ],
   "metadata": {
    "collapsed": false,
    "ExecuteTime": {
     "end_time": "2023-09-08T06:08:39.309575Z",
     "start_time": "2023-09-08T06:08:38.644331300Z"
    }
   },
   "id": "f067801e383afbbb"
  },
  {
   "cell_type": "code",
   "execution_count": 9,
   "outputs": [
    {
     "data": {
      "text/plain": "            age gender membership_type_1 membership_type_2 membership_type_3  \\\ntran_date                                                                      \n2020-12-26  NaN    NaN               NaN               NaN               NaN   \n2020-12-26  NaN    NaN               NaN               NaN               NaN   \n2020-12-26  NaN    NaN               NaN               NaN               NaN   \n2020-12-26  NaN    NaN               NaN               NaN               NaN   \n2020-12-26  NaN    NaN               NaN               NaN               NaN   \n...         ...    ...               ...               ...               ...   \n2021-10-22  NaN    NaN               NaN               NaN               NaN   \n2019-12-27  NaN    NaN               NaN               NaN               NaN   \n2022-06-03  NaN    NaN               NaN               NaN               NaN   \n2023-04-08  NaN    NaN               NaN               NaN               NaN   \n2021-05-27  NaN    NaN               NaN               NaN               NaN   \n\n           membership_type_4 membership_type_5  membership_type_6  tran_time  \\\ntran_date                                                                      \n2020-12-26               NaN               NaN                NaN       1257   \n2020-12-26               NaN               NaN                NaN       1257   \n2020-12-26               NaN               NaN                NaN       1257   \n2020-12-26               NaN               NaN                NaN       1257   \n2020-12-26               NaN               NaN                NaN       1257   \n...                      ...               ...                ...        ...   \n2021-10-22               NaN               NaN                NaN       1142   \n2019-12-27               NaN               NaN                NaN       1332   \n2022-06-03               NaN               NaN                NaN       1826   \n2023-04-08               NaN               NaN                NaN       1832   \n2021-05-27               NaN               NaN                NaN       1715   \n\n            play_date  ...  ticket_cancel discount_type  performance_code  \\\ntran_date              ...                                                  \n2020-12-26   20210106  ...              0            일반              2201   \n2020-12-26   20210106  ...              0            일반              2201   \n2020-12-26   20210106  ...              0            일반              2201   \n2020-12-26   20210106  ...              0            일반              2201   \n2020-12-26   20210106  ...              0            일반              2201   \n...               ...  ...            ...           ...               ...   \n2021-10-22   20211117  ...              2         기획사판매              1596   \n2019-12-27   20200102  ...              0           초대권              2434   \n2022-06-03   20220610  ...              0           초대권               243   \n2023-04-08   20230504  ...              0           초대권              1163   \n2021-05-27   20210619  ...              0           초대권              1995   \n\n            pre_open_date   open_date  genre   place  running_time  \\\ntran_date                                                            \n2020-12-26     20201218.0  20201218.0    실내악  IBK챔버홀           100   \n2020-12-26     20201218.0  20201218.0    실내악  IBK챔버홀           100   \n2020-12-26     20201218.0  20201218.0    실내악  IBK챔버홀           100   \n2020-12-26     20201218.0  20201218.0    실내악  IBK챔버홀           100   \n2020-12-26     20201218.0  20201218.0    실내악  IBK챔버홀           100   \n...                   ...         ...    ...     ...           ...   \n2021-10-22     20211022.0  20211023.0    실내악  IBK챔버홀           110   \n2019-12-27     20191130.0  20191202.0    실내악  IBK챔버홀            90   \n2022-06-03     20220513.0  20220513.0    실내악  IBK챔버홀            90   \n2023-04-08            NaN  20230327.0    실내악  IBK챔버홀           100   \n2021-05-27            NaN  20210517.0    실내악  IBK챔버홀           100   \n\n           intermission member_yn  \ntran_date                          \n2020-12-26           15         N  \n2020-12-26           15         N  \n2020-12-26           15         N  \n2020-12-26           15         N  \n2020-12-26           15         N  \n...                 ...       ...  \n2021-10-22           15         N  \n2019-12-27           15         N  \n2022-06-03           15         N  \n2023-04-08           10         N  \n2021-05-27           15         N  \n\n[477410 rows x 23 columns]",
      "text/html": "<div>\n<style scoped>\n    .dataframe tbody tr th:only-of-type {\n        vertical-align: middle;\n    }\n\n    .dataframe tbody tr th {\n        vertical-align: top;\n    }\n\n    .dataframe thead th {\n        text-align: right;\n    }\n</style>\n<table border=\"1\" class=\"dataframe\">\n  <thead>\n    <tr style=\"text-align: right;\">\n      <th></th>\n      <th>age</th>\n      <th>gender</th>\n      <th>membership_type_1</th>\n      <th>membership_type_2</th>\n      <th>membership_type_3</th>\n      <th>membership_type_4</th>\n      <th>membership_type_5</th>\n      <th>membership_type_6</th>\n      <th>tran_time</th>\n      <th>play_date</th>\n      <th>...</th>\n      <th>ticket_cancel</th>\n      <th>discount_type</th>\n      <th>performance_code</th>\n      <th>pre_open_date</th>\n      <th>open_date</th>\n      <th>genre</th>\n      <th>place</th>\n      <th>running_time</th>\n      <th>intermission</th>\n      <th>member_yn</th>\n    </tr>\n    <tr>\n      <th>tran_date</th>\n      <th></th>\n      <th></th>\n      <th></th>\n      <th></th>\n      <th></th>\n      <th></th>\n      <th></th>\n      <th></th>\n      <th></th>\n      <th></th>\n      <th></th>\n      <th></th>\n      <th></th>\n      <th></th>\n      <th></th>\n      <th></th>\n      <th></th>\n      <th></th>\n      <th></th>\n      <th></th>\n      <th></th>\n    </tr>\n  </thead>\n  <tbody>\n    <tr>\n      <th>2020-12-26</th>\n      <td>NaN</td>\n      <td>NaN</td>\n      <td>NaN</td>\n      <td>NaN</td>\n      <td>NaN</td>\n      <td>NaN</td>\n      <td>NaN</td>\n      <td>NaN</td>\n      <td>1257</td>\n      <td>20210106</td>\n      <td>...</td>\n      <td>0</td>\n      <td>일반</td>\n      <td>2201</td>\n      <td>20201218.0</td>\n      <td>20201218.0</td>\n      <td>실내악</td>\n      <td>IBK챔버홀</td>\n      <td>100</td>\n      <td>15</td>\n      <td>N</td>\n    </tr>\n    <tr>\n      <th>2020-12-26</th>\n      <td>NaN</td>\n      <td>NaN</td>\n      <td>NaN</td>\n      <td>NaN</td>\n      <td>NaN</td>\n      <td>NaN</td>\n      <td>NaN</td>\n      <td>NaN</td>\n      <td>1257</td>\n      <td>20210106</td>\n      <td>...</td>\n      <td>0</td>\n      <td>일반</td>\n      <td>2201</td>\n      <td>20201218.0</td>\n      <td>20201218.0</td>\n      <td>실내악</td>\n      <td>IBK챔버홀</td>\n      <td>100</td>\n      <td>15</td>\n      <td>N</td>\n    </tr>\n    <tr>\n      <th>2020-12-26</th>\n      <td>NaN</td>\n      <td>NaN</td>\n      <td>NaN</td>\n      <td>NaN</td>\n      <td>NaN</td>\n      <td>NaN</td>\n      <td>NaN</td>\n      <td>NaN</td>\n      <td>1257</td>\n      <td>20210106</td>\n      <td>...</td>\n      <td>0</td>\n      <td>일반</td>\n      <td>2201</td>\n      <td>20201218.0</td>\n      <td>20201218.0</td>\n      <td>실내악</td>\n      <td>IBK챔버홀</td>\n      <td>100</td>\n      <td>15</td>\n      <td>N</td>\n    </tr>\n    <tr>\n      <th>2020-12-26</th>\n      <td>NaN</td>\n      <td>NaN</td>\n      <td>NaN</td>\n      <td>NaN</td>\n      <td>NaN</td>\n      <td>NaN</td>\n      <td>NaN</td>\n      <td>NaN</td>\n      <td>1257</td>\n      <td>20210106</td>\n      <td>...</td>\n      <td>0</td>\n      <td>일반</td>\n      <td>2201</td>\n      <td>20201218.0</td>\n      <td>20201218.0</td>\n      <td>실내악</td>\n      <td>IBK챔버홀</td>\n      <td>100</td>\n      <td>15</td>\n      <td>N</td>\n    </tr>\n    <tr>\n      <th>2020-12-26</th>\n      <td>NaN</td>\n      <td>NaN</td>\n      <td>NaN</td>\n      <td>NaN</td>\n      <td>NaN</td>\n      <td>NaN</td>\n      <td>NaN</td>\n      <td>NaN</td>\n      <td>1257</td>\n      <td>20210106</td>\n      <td>...</td>\n      <td>0</td>\n      <td>일반</td>\n      <td>2201</td>\n      <td>20201218.0</td>\n      <td>20201218.0</td>\n      <td>실내악</td>\n      <td>IBK챔버홀</td>\n      <td>100</td>\n      <td>15</td>\n      <td>N</td>\n    </tr>\n    <tr>\n      <th>...</th>\n      <td>...</td>\n      <td>...</td>\n      <td>...</td>\n      <td>...</td>\n      <td>...</td>\n      <td>...</td>\n      <td>...</td>\n      <td>...</td>\n      <td>...</td>\n      <td>...</td>\n      <td>...</td>\n      <td>...</td>\n      <td>...</td>\n      <td>...</td>\n      <td>...</td>\n      <td>...</td>\n      <td>...</td>\n      <td>...</td>\n      <td>...</td>\n      <td>...</td>\n      <td>...</td>\n    </tr>\n    <tr>\n      <th>2021-10-22</th>\n      <td>NaN</td>\n      <td>NaN</td>\n      <td>NaN</td>\n      <td>NaN</td>\n      <td>NaN</td>\n      <td>NaN</td>\n      <td>NaN</td>\n      <td>NaN</td>\n      <td>1142</td>\n      <td>20211117</td>\n      <td>...</td>\n      <td>2</td>\n      <td>기획사판매</td>\n      <td>1596</td>\n      <td>20211022.0</td>\n      <td>20211023.0</td>\n      <td>실내악</td>\n      <td>IBK챔버홀</td>\n      <td>110</td>\n      <td>15</td>\n      <td>N</td>\n    </tr>\n    <tr>\n      <th>2019-12-27</th>\n      <td>NaN</td>\n      <td>NaN</td>\n      <td>NaN</td>\n      <td>NaN</td>\n      <td>NaN</td>\n      <td>NaN</td>\n      <td>NaN</td>\n      <td>NaN</td>\n      <td>1332</td>\n      <td>20200102</td>\n      <td>...</td>\n      <td>0</td>\n      <td>초대권</td>\n      <td>2434</td>\n      <td>20191130.0</td>\n      <td>20191202.0</td>\n      <td>실내악</td>\n      <td>IBK챔버홀</td>\n      <td>90</td>\n      <td>15</td>\n      <td>N</td>\n    </tr>\n    <tr>\n      <th>2022-06-03</th>\n      <td>NaN</td>\n      <td>NaN</td>\n      <td>NaN</td>\n      <td>NaN</td>\n      <td>NaN</td>\n      <td>NaN</td>\n      <td>NaN</td>\n      <td>NaN</td>\n      <td>1826</td>\n      <td>20220610</td>\n      <td>...</td>\n      <td>0</td>\n      <td>초대권</td>\n      <td>243</td>\n      <td>20220513.0</td>\n      <td>20220513.0</td>\n      <td>실내악</td>\n      <td>IBK챔버홀</td>\n      <td>90</td>\n      <td>15</td>\n      <td>N</td>\n    </tr>\n    <tr>\n      <th>2023-04-08</th>\n      <td>NaN</td>\n      <td>NaN</td>\n      <td>NaN</td>\n      <td>NaN</td>\n      <td>NaN</td>\n      <td>NaN</td>\n      <td>NaN</td>\n      <td>NaN</td>\n      <td>1832</td>\n      <td>20230504</td>\n      <td>...</td>\n      <td>0</td>\n      <td>초대권</td>\n      <td>1163</td>\n      <td>NaN</td>\n      <td>20230327.0</td>\n      <td>실내악</td>\n      <td>IBK챔버홀</td>\n      <td>100</td>\n      <td>10</td>\n      <td>N</td>\n    </tr>\n    <tr>\n      <th>2021-05-27</th>\n      <td>NaN</td>\n      <td>NaN</td>\n      <td>NaN</td>\n      <td>NaN</td>\n      <td>NaN</td>\n      <td>NaN</td>\n      <td>NaN</td>\n      <td>NaN</td>\n      <td>1715</td>\n      <td>20210619</td>\n      <td>...</td>\n      <td>0</td>\n      <td>초대권</td>\n      <td>1995</td>\n      <td>NaN</td>\n      <td>20210517.0</td>\n      <td>실내악</td>\n      <td>IBK챔버홀</td>\n      <td>100</td>\n      <td>15</td>\n      <td>N</td>\n    </tr>\n  </tbody>\n</table>\n<p>477410 rows × 23 columns</p>\n</div>"
     },
     "execution_count": 9,
     "metadata": {},
     "output_type": "execute_result"
    }
   ],
   "source": [
    "df_ibk = df[df['place']==('IBK챔버홀')]\n",
    "df_ibk = df_ibk.sort_values(by=['price'],ascending=False)\n",
    "df_ibk"
   ],
   "metadata": {
    "collapsed": false,
    "ExecuteTime": {
     "end_time": "2023-09-08T06:08:39.773231800Z",
     "start_time": "2023-09-08T06:08:39.309575Z"
    }
   },
   "id": "eef1cf4f812c047a"
  },
  {
   "cell_type": "code",
   "execution_count": 10,
   "outputs": [
    {
     "name": "stdout",
     "output_type": "stream",
     "text": [
      "멤버쉽 타입 1 : ['골드' nan '무료' '블루']\n",
      "멤버쉽 타입 2 : ['무료' nan '그린' '싹틔우미' '골드' '노블']\n",
      "멤버쉽 타입 3 : ['그린' nan '무료' '싹틔우미' '노블']\n",
      "멤버쉽 타입 4 : [nan '그린' '싹틔우미' '노블']\n",
      "멤버쉽 타입 5 : [nan '그린']\n",
      "멤버쉽 타입 6 : [nan]\n"
     ]
    }
   ],
   "source": [
    "for i in [1,2,3,4,5,6]:\n",
    "    a=df['membership_type_' + str(i)].unique()\n",
    "    print(f'멤버쉽 타입 {i} : {a}')"
   ],
   "metadata": {
    "collapsed": false,
    "ExecuteTime": {
     "end_time": "2023-09-08T06:08:40.146171700Z",
     "start_time": "2023-09-08T06:08:39.771731100Z"
    }
   },
   "id": "8754571ce9b45657"
  },
  {
   "cell_type": "code",
   "execution_count": 11,
   "outputs": [],
   "source": [
    "from statsmodels.tsa.statespace.sarimax import SARIMAX\n",
    "from joblib import Parallel, delayed\n",
    "import numpy as np\n",
    "import itertools\n",
    "from multiprocessing import Pool, current_process"
   ],
   "metadata": {
    "collapsed": false,
    "ExecuteTime": {
     "end_time": "2023-09-08T06:08:40.244593400Z",
     "start_time": "2023-09-08T06:08:40.123418700Z"
    }
   },
   "id": "5a843a59a1752470"
  },
  {
   "cell_type": "code",
   "execution_count": 12,
   "outputs": [],
   "source": [
    "p = d = q = range(0, 2)\n",
    "pdq = list(itertools.product(p, d, q))\n",
    "seasonal_pdq = [(x[0], x[1], x[2], 12) for x in pdq]"
   ],
   "metadata": {
    "collapsed": false,
    "ExecuteTime": {
     "end_time": "2023-09-08T06:08:40.252604200Z",
     "start_time": "2023-09-08T06:08:40.244593400Z"
    }
   },
   "id": "e25b0649d57167d2"
  },
  {
   "cell_type": "code",
   "execution_count": null,
   "outputs": [
    {
     "name": "stderr",
     "output_type": "stream",
     "text": [
      "C:\\ProgramData\\anaconda3\\Lib\\site-packages\\statsmodels\\tsa\\base\\tsa_model.py:473: ValueWarning: A date index has been provided, but it has no associated frequency information and so will be ignored when e.g. forecasting.\n",
      "  self._init_dates(dates, freq)\n",
      "C:\\ProgramData\\anaconda3\\Lib\\site-packages\\statsmodels\\tsa\\base\\tsa_model.py:473: ValueWarning: A date index has been provided, but it is not monotonic and so will be ignored when e.g. forecasting.\n",
      "  self._init_dates(dates, freq)\n",
      "C:\\ProgramData\\anaconda3\\Lib\\site-packages\\statsmodels\\tsa\\base\\tsa_model.py:473: ValueWarning: A date index has been provided, but it has no associated frequency information and so will be ignored when e.g. forecasting.\n",
      "  self._init_dates(dates, freq)\n",
      "C:\\ProgramData\\anaconda3\\Lib\\site-packages\\statsmodels\\tsa\\base\\tsa_model.py:473: ValueWarning: A date index has been provided, but it is not monotonic and so will be ignored when e.g. forecasting.\n",
      "  self._init_dates(dates, freq)\n"
     ]
    },
    {
     "name": "stdout",
     "output_type": "stream",
     "text": [
      "Testing parameters (p, d, q): (0, 0, 0) and seasonal (P, D, Q, S): (0, 0, 0, 12) - AIC: 46748870.61977406\n"
     ]
    },
    {
     "name": "stderr",
     "output_type": "stream",
     "text": [
      "C:\\ProgramData\\anaconda3\\Lib\\site-packages\\statsmodels\\tsa\\base\\tsa_model.py:473: ValueWarning: A date index has been provided, but it has no associated frequency information and so will be ignored when e.g. forecasting.\n",
      "  self._init_dates(dates, freq)\n",
      "C:\\ProgramData\\anaconda3\\Lib\\site-packages\\statsmodels\\tsa\\base\\tsa_model.py:473: ValueWarning: A date index has been provided, but it is not monotonic and so will be ignored when e.g. forecasting.\n",
      "  self._init_dates(dates, freq)\n",
      "C:\\ProgramData\\anaconda3\\Lib\\site-packages\\statsmodels\\tsa\\base\\tsa_model.py:473: ValueWarning: A date index has been provided, but it has no associated frequency information and so will be ignored when e.g. forecasting.\n",
      "  self._init_dates(dates, freq)\n",
      "C:\\ProgramData\\anaconda3\\Lib\\site-packages\\statsmodels\\tsa\\base\\tsa_model.py:473: ValueWarning: A date index has been provided, but it is not monotonic and so will be ignored when e.g. forecasting.\n",
      "  self._init_dates(dates, freq)\n"
     ]
    },
    {
     "name": "stdout",
     "output_type": "stream",
     "text": [
      "Testing parameters (p, d, q): (0, 0, 0) and seasonal (P, D, Q, S): (0, 0, 1, 12) - AIC: 46703054.31923533\n"
     ]
    },
    {
     "name": "stderr",
     "output_type": "stream",
     "text": [
      "C:\\ProgramData\\anaconda3\\Lib\\site-packages\\statsmodels\\tsa\\base\\tsa_model.py:473: ValueWarning: A date index has been provided, but it has no associated frequency information and so will be ignored when e.g. forecasting.\n",
      "  self._init_dates(dates, freq)\n",
      "C:\\ProgramData\\anaconda3\\Lib\\site-packages\\statsmodels\\tsa\\base\\tsa_model.py:473: ValueWarning: A date index has been provided, but it is not monotonic and so will be ignored when e.g. forecasting.\n",
      "  self._init_dates(dates, freq)\n",
      "C:\\ProgramData\\anaconda3\\Lib\\site-packages\\statsmodels\\tsa\\base\\tsa_model.py:473: ValueWarning: A date index has been provided, but it has no associated frequency information and so will be ignored when e.g. forecasting.\n",
      "  self._init_dates(dates, freq)\n",
      "C:\\ProgramData\\anaconda3\\Lib\\site-packages\\statsmodels\\tsa\\base\\tsa_model.py:473: ValueWarning: A date index has been provided, but it is not monotonic and so will be ignored when e.g. forecasting.\n",
      "  self._init_dates(dates, freq)\n"
     ]
    },
    {
     "name": "stdout",
     "output_type": "stream",
     "text": [
      "Testing parameters (p, d, q): (0, 0, 0) and seasonal (P, D, Q, S): (0, 1, 0, 12) - AIC: 47711409.804194435\n"
     ]
    },
    {
     "name": "stderr",
     "output_type": "stream",
     "text": [
      "C:\\ProgramData\\anaconda3\\Lib\\site-packages\\statsmodels\\tsa\\base\\tsa_model.py:473: ValueWarning: A date index has been provided, but it has no associated frequency information and so will be ignored when e.g. forecasting.\n",
      "  self._init_dates(dates, freq)\n",
      "C:\\ProgramData\\anaconda3\\Lib\\site-packages\\statsmodels\\tsa\\base\\tsa_model.py:473: ValueWarning: A date index has been provided, but it is not monotonic and so will be ignored when e.g. forecasting.\n",
      "  self._init_dates(dates, freq)\n",
      "C:\\ProgramData\\anaconda3\\Lib\\site-packages\\statsmodels\\tsa\\base\\tsa_model.py:473: ValueWarning: A date index has been provided, but it has no associated frequency information and so will be ignored when e.g. forecasting.\n",
      "  self._init_dates(dates, freq)\n",
      "C:\\ProgramData\\anaconda3\\Lib\\site-packages\\statsmodels\\tsa\\base\\tsa_model.py:473: ValueWarning: A date index has been provided, but it is not monotonic and so will be ignored when e.g. forecasting.\n",
      "  self._init_dates(dates, freq)\n"
     ]
    },
    {
     "ename": "MemoryError",
     "evalue": "Unable to allocate 8.94 GiB for an array with shape (25, 25, 1920868) and data type float64",
     "output_type": "error",
     "traceback": [
      "\u001B[1;31m---------------------------------------------------------------------------\u001B[0m",
      "\u001B[1;31mMemoryError\u001B[0m                               Traceback (most recent call last)",
      "File \u001B[1;32mstatsmodels\\tsa\\statespace\\_kalman_smoother.pyx:1004\u001B[0m, in \u001B[0;36mstatsmodels.tsa.statespace._kalman_smoother.dKalmanSmoother.allocate_arrays\u001B[1;34m()\u001B[0m\n",
      "\u001B[1;31mMemoryError\u001B[0m: Unable to allocate 8.94 GiB for an array with shape (25, 25, 1920868) and data type float64"
     ]
    },
    {
     "name": "stderr",
     "output_type": "stream",
     "text": [
      "Exception ignored in: 'statsmodels.tsa.statespace._kalman_smoother.dKalmanSmoother.reset_filter_method'\n",
      "Traceback (most recent call last):\n",
      "  File \"statsmodels\\tsa\\statespace\\_kalman_smoother.pyx\", line 1004, in statsmodels.tsa.statespace._kalman_smoother.dKalmanSmoother.allocate_arrays\n",
      "numpy.core._exceptions._ArrayMemoryError: Unable to allocate 8.94 GiB for an array with shape (25, 25, 1920868) and data type float64\n"
     ]
    },
    {
     "name": "stdout",
     "output_type": "stream",
     "text": [
      "Failed testing parameters (p, d, q): (0, 0, 0) and seasonal (P, D, Q, S): (0, 1, 1, 12)\n"
     ]
    },
    {
     "name": "stderr",
     "output_type": "stream",
     "text": [
      "C:\\ProgramData\\anaconda3\\Lib\\site-packages\\statsmodels\\tsa\\base\\tsa_model.py:473: ValueWarning: A date index has been provided, but it has no associated frequency information and so will be ignored when e.g. forecasting.\n",
      "  self._init_dates(dates, freq)\n",
      "C:\\ProgramData\\anaconda3\\Lib\\site-packages\\statsmodels\\tsa\\base\\tsa_model.py:473: ValueWarning: A date index has been provided, but it is not monotonic and so will be ignored when e.g. forecasting.\n",
      "  self._init_dates(dates, freq)\n",
      "C:\\ProgramData\\anaconda3\\Lib\\site-packages\\statsmodels\\tsa\\base\\tsa_model.py:473: ValueWarning: A date index has been provided, but it has no associated frequency information and so will be ignored when e.g. forecasting.\n",
      "  self._init_dates(dates, freq)\n",
      "C:\\ProgramData\\anaconda3\\Lib\\site-packages\\statsmodels\\tsa\\base\\tsa_model.py:473: ValueWarning: A date index has been provided, but it is not monotonic and so will be ignored when e.g. forecasting.\n",
      "  self._init_dates(dates, freq)\n"
     ]
    },
    {
     "name": "stdout",
     "output_type": "stream",
     "text": [
      "Testing parameters (p, d, q): (0, 0, 0) and seasonal (P, D, Q, S): (1, 0, 0, 12) - AIC: 46689114.288387015\n"
     ]
    },
    {
     "name": "stderr",
     "output_type": "stream",
     "text": [
      "C:\\ProgramData\\anaconda3\\Lib\\site-packages\\statsmodels\\tsa\\base\\tsa_model.py:473: ValueWarning: A date index has been provided, but it has no associated frequency information and so will be ignored when e.g. forecasting.\n",
      "  self._init_dates(dates, freq)\n",
      "C:\\ProgramData\\anaconda3\\Lib\\site-packages\\statsmodels\\tsa\\base\\tsa_model.py:473: ValueWarning: A date index has been provided, but it is not monotonic and so will be ignored when e.g. forecasting.\n",
      "  self._init_dates(dates, freq)\n",
      "C:\\ProgramData\\anaconda3\\Lib\\site-packages\\statsmodels\\tsa\\base\\tsa_model.py:473: ValueWarning: A date index has been provided, but it has no associated frequency information and so will be ignored when e.g. forecasting.\n",
      "  self._init_dates(dates, freq)\n",
      "C:\\ProgramData\\anaconda3\\Lib\\site-packages\\statsmodels\\tsa\\base\\tsa_model.py:473: ValueWarning: A date index has been provided, but it is not monotonic and so will be ignored when e.g. forecasting.\n",
      "  self._init_dates(dates, freq)\n"
     ]
    },
    {
     "name": "stdout",
     "output_type": "stream",
     "text": [
      "Testing parameters (p, d, q): (0, 0, 0) and seasonal (P, D, Q, S): (1, 0, 1, 12) - AIC: 46380494.84441779\n"
     ]
    },
    {
     "name": "stderr",
     "output_type": "stream",
     "text": [
      "C:\\ProgramData\\anaconda3\\Lib\\site-packages\\statsmodels\\tsa\\base\\tsa_model.py:473: ValueWarning: A date index has been provided, but it has no associated frequency information and so will be ignored when e.g. forecasting.\n",
      "  self._init_dates(dates, freq)\n",
      "C:\\ProgramData\\anaconda3\\Lib\\site-packages\\statsmodels\\tsa\\base\\tsa_model.py:473: ValueWarning: A date index has been provided, but it is not monotonic and so will be ignored when e.g. forecasting.\n",
      "  self._init_dates(dates, freq)\n",
      "C:\\ProgramData\\anaconda3\\Lib\\site-packages\\statsmodels\\tsa\\base\\tsa_model.py:473: ValueWarning: A date index has been provided, but it has no associated frequency information and so will be ignored when e.g. forecasting.\n",
      "  self._init_dates(dates, freq)\n",
      "C:\\ProgramData\\anaconda3\\Lib\\site-packages\\statsmodels\\tsa\\base\\tsa_model.py:473: ValueWarning: A date index has been provided, but it is not monotonic and so will be ignored when e.g. forecasting.\n",
      "  self._init_dates(dates, freq)\n"
     ]
    },
    {
     "name": "stdout",
     "output_type": "stream",
     "text": [
      "Failed testing parameters (p, d, q): (0, 0, 0) and seasonal (P, D, Q, S): (1, 1, 0, 12)\n"
     ]
    },
    {
     "name": "stderr",
     "output_type": "stream",
     "text": [
      "C:\\ProgramData\\anaconda3\\Lib\\site-packages\\statsmodels\\tsa\\base\\tsa_model.py:473: ValueWarning: A date index has been provided, but it has no associated frequency information and so will be ignored when e.g. forecasting.\n",
      "  self._init_dates(dates, freq)\n",
      "C:\\ProgramData\\anaconda3\\Lib\\site-packages\\statsmodels\\tsa\\base\\tsa_model.py:473: ValueWarning: A date index has been provided, but it is not monotonic and so will be ignored when e.g. forecasting.\n",
      "  self._init_dates(dates, freq)\n",
      "C:\\ProgramData\\anaconda3\\Lib\\site-packages\\statsmodels\\tsa\\base\\tsa_model.py:473: ValueWarning: A date index has been provided, but it has no associated frequency information and so will be ignored when e.g. forecasting.\n",
      "  self._init_dates(dates, freq)\n",
      "C:\\ProgramData\\anaconda3\\Lib\\site-packages\\statsmodels\\tsa\\base\\tsa_model.py:473: ValueWarning: A date index has been provided, but it is not monotonic and so will be ignored when e.g. forecasting.\n",
      "  self._init_dates(dates, freq)\n"
     ]
    },
    {
     "name": "stdout",
     "output_type": "stream",
     "text": [
      "Failed testing parameters (p, d, q): (0, 0, 0) and seasonal (P, D, Q, S): (1, 1, 1, 12)\n"
     ]
    },
    {
     "name": "stderr",
     "output_type": "stream",
     "text": [
      "C:\\ProgramData\\anaconda3\\Lib\\site-packages\\statsmodels\\tsa\\base\\tsa_model.py:473: ValueWarning: A date index has been provided, but it has no associated frequency information and so will be ignored when e.g. forecasting.\n",
      "  self._init_dates(dates, freq)\n",
      "C:\\ProgramData\\anaconda3\\Lib\\site-packages\\statsmodels\\tsa\\base\\tsa_model.py:473: ValueWarning: A date index has been provided, but it is not monotonic and so will be ignored when e.g. forecasting.\n",
      "  self._init_dates(dates, freq)\n",
      "C:\\ProgramData\\anaconda3\\Lib\\site-packages\\statsmodels\\tsa\\base\\tsa_model.py:473: ValueWarning: A date index has been provided, but it has no associated frequency information and so will be ignored when e.g. forecasting.\n",
      "  self._init_dates(dates, freq)\n",
      "C:\\ProgramData\\anaconda3\\Lib\\site-packages\\statsmodels\\tsa\\base\\tsa_model.py:473: ValueWarning: A date index has been provided, but it is not monotonic and so will be ignored when e.g. forecasting.\n",
      "  self._init_dates(dates, freq)\n"
     ]
    },
    {
     "name": "stdout",
     "output_type": "stream",
     "text": [
      "Testing parameters (p, d, q): (0, 0, 1) and seasonal (P, D, Q, S): (0, 0, 0, 12) - AIC: 46701858.53468987\n"
     ]
    },
    {
     "name": "stderr",
     "output_type": "stream",
     "text": [
      "C:\\ProgramData\\anaconda3\\Lib\\site-packages\\statsmodels\\tsa\\base\\tsa_model.py:473: ValueWarning: A date index has been provided, but it has no associated frequency information and so will be ignored when e.g. forecasting.\n",
      "  self._init_dates(dates, freq)\n",
      "C:\\ProgramData\\anaconda3\\Lib\\site-packages\\statsmodels\\tsa\\base\\tsa_model.py:473: ValueWarning: A date index has been provided, but it is not monotonic and so will be ignored when e.g. forecasting.\n",
      "  self._init_dates(dates, freq)\n",
      "C:\\ProgramData\\anaconda3\\Lib\\site-packages\\statsmodels\\tsa\\base\\tsa_model.py:473: ValueWarning: A date index has been provided, but it has no associated frequency information and so will be ignored when e.g. forecasting.\n",
      "  self._init_dates(dates, freq)\n",
      "C:\\ProgramData\\anaconda3\\Lib\\site-packages\\statsmodels\\tsa\\base\\tsa_model.py:473: ValueWarning: A date index has been provided, but it is not monotonic and so will be ignored when e.g. forecasting.\n",
      "  self._init_dates(dates, freq)\n"
     ]
    },
    {
     "name": "stdout",
     "output_type": "stream",
     "text": [
      "Testing parameters (p, d, q): (0, 0, 1) and seasonal (P, D, Q, S): (0, 0, 1, 12) - AIC: 46671406.79177584\n"
     ]
    },
    {
     "name": "stderr",
     "output_type": "stream",
     "text": [
      "C:\\ProgramData\\anaconda3\\Lib\\site-packages\\statsmodels\\tsa\\base\\tsa_model.py:473: ValueWarning: A date index has been provided, but it has no associated frequency information and so will be ignored when e.g. forecasting.\n",
      "  self._init_dates(dates, freq)\n",
      "C:\\ProgramData\\anaconda3\\Lib\\site-packages\\statsmodels\\tsa\\base\\tsa_model.py:473: ValueWarning: A date index has been provided, but it is not monotonic and so will be ignored when e.g. forecasting.\n",
      "  self._init_dates(dates, freq)\n",
      "C:\\ProgramData\\anaconda3\\Lib\\site-packages\\statsmodels\\tsa\\base\\tsa_model.py:473: ValueWarning: A date index has been provided, but it has no associated frequency information and so will be ignored when e.g. forecasting.\n",
      "  self._init_dates(dates, freq)\n",
      "C:\\ProgramData\\anaconda3\\Lib\\site-packages\\statsmodels\\tsa\\base\\tsa_model.py:473: ValueWarning: A date index has been provided, but it is not monotonic and so will be ignored when e.g. forecasting.\n",
      "  self._init_dates(dates, freq)\n"
     ]
    },
    {
     "name": "stdout",
     "output_type": "stream",
     "text": [
      "Testing parameters (p, d, q): (0, 0, 1) and seasonal (P, D, Q, S): (0, 1, 0, 12) - AIC: 47711386.94595277\n"
     ]
    },
    {
     "name": "stderr",
     "output_type": "stream",
     "text": [
      "C:\\ProgramData\\anaconda3\\Lib\\site-packages\\statsmodels\\tsa\\base\\tsa_model.py:473: ValueWarning: A date index has been provided, but it has no associated frequency information and so will be ignored when e.g. forecasting.\n",
      "  self._init_dates(dates, freq)\n",
      "C:\\ProgramData\\anaconda3\\Lib\\site-packages\\statsmodels\\tsa\\base\\tsa_model.py:473: ValueWarning: A date index has been provided, but it is not monotonic and so will be ignored when e.g. forecasting.\n",
      "  self._init_dates(dates, freq)\n",
      "C:\\ProgramData\\anaconda3\\Lib\\site-packages\\statsmodels\\tsa\\base\\tsa_model.py:473: ValueWarning: A date index has been provided, but it has no associated frequency information and so will be ignored when e.g. forecasting.\n",
      "  self._init_dates(dates, freq)\n",
      "C:\\ProgramData\\anaconda3\\Lib\\site-packages\\statsmodels\\tsa\\base\\tsa_model.py:473: ValueWarning: A date index has been provided, but it is not monotonic and so will be ignored when e.g. forecasting.\n",
      "  self._init_dates(dates, freq)\n"
     ]
    }
   ],
   "source": [
    "best_aic = np.inf\n",
    "best_pdq = None\n",
    "best_seasonal_pdq = None\n",
    "temp_model = None\n",
    "\n",
    "for param in pdq:\n",
    "    for param_seasonal in seasonal_pdq:\n",
    "        try:\n",
    "            temp_model = SARIMAX(df['price'],\n",
    "                                 order = param,\n",
    "                                 seasonal_order = param_seasonal,\n",
    "                                 enforce_stationarity = False,\n",
    "                                 enforce_invertibility = False)\n",
    "            results = temp_model.fit()\n",
    "\n",
    "            # Print current iteration's parameters and AIC\n",
    "            print(f\"Testing parameters (p, d, q): {param} and seasonal (P, D, Q, S): {param_seasonal} - AIC: {results.aic}\")\n",
    "\n",
    "            # Compare with best_aic\n",
    "            if results.aic < best_aic:\n",
    "                best_aic = results.aic\n",
    "                best_pdq = param\n",
    "                best_seasonal_pdq = param_seasonal\n",
    "        except:\n",
    "            print(f\"Failed testing parameters (p, d, q): {param} and seasonal (P, D, Q, S): {param_seasonal}\")\n",
    "            continue\n",
    "\n",
    "print(\"\\n\")\n",
    "print(\"Best SARIMAX parameters are: \", best_pdq, best_seasonal_pdq, \" with AIC: \", best_aic)\n"
   ],
   "metadata": {
    "collapsed": false,
    "is_executing": true,
    "ExecuteTime": {
     "start_time": "2023-09-08T06:08:40.248106400Z"
    }
   },
   "id": "8789337e8cb39b6f"
  },
  {
   "cell_type": "code",
   "execution_count": null,
   "outputs": [],
   "source": [
    "\n",
    "\n",
    "df_concert= pd.get_dummies(df_concert,drop_first=True)\n",
    "y=df_concert['price']\n",
    "X=df_concert.drop('price', axis=1)\n",
    "\n"
   ],
   "metadata": {
    "collapsed": false,
    "is_executing": true
   },
   "id": "78cdb2a9a84cafe6"
  },
  {
   "cell_type": "code",
   "execution_count": null,
   "outputs": [],
   "source": [],
   "metadata": {
    "collapsed": false,
    "is_executing": true
   },
   "id": "569be9d1b3d36bfc"
  },
  {
   "cell_type": "code",
   "execution_count": null,
   "outputs": [],
   "source": [
    "# import pandas as pd\n",
    "# import numpy as np\n",
    "# import tensorflow as tf\n",
    "# from sklearn.model_selection import train_test_split\n",
    "# from sklearn.preprocessing import StandardScaler, LabelEncoder\n",
    "# \n",
    "# # 데이터 로드\n",
    "# data = df_concert.copy()  # 원본 데이터는 변경하지 않기 위해 복사본을 만들어 사용합니다.\n",
    "# \n",
    "# # 범주형 변수만 레이블 인코딩\n",
    "# categorical_features = ['gender', 'membership_type_1', 'membership_type_2',\n",
    "#                         'membership_type_3', 'membership_type_4', 'membership_type_5',\n",
    "#                         'membership_type_6', 'seat', 'discount_type', 'performance_code',\n",
    "#                         'genre', 'place', 'intermission', 'member_yn']\n",
    "# \n",
    "# label_encoders = {}\n",
    "# for column in categorical_features:\n",
    "#     le = LabelEncoder()\n",
    "#     data[column] = le.fit_transform(data[column].astype(str))  # NaN과 같은 결측값을 처리하기 위해 문자열로 변환\n",
    "#     label_encoders[column] = le\n",
    "# \n",
    "# # feature와 target 분리\n",
    "# X = data.drop('price', axis=1)\n",
    "# y = data['price']\n",
    "# \n",
    "# # train, test 데이터 분할\n",
    "# X_train, X_test, y_train, y_test = train_test_split(X, y, test_size=0.2, random_state=42)\n",
    "# \n",
    "# # 스케일링\n",
    "# scaler = StandardScaler()\n",
    "# X_train = scaler.fit_transform(X_train)\n",
    "# X_test = scaler.transform(X_test)\n",
    "# \n",
    "# # 뉴럴 네트워크 모델 구성\n",
    "# model = tf.keras.models.Sequential([\n",
    "#     tf.keras.layers.Dense(64, activation='relu', input_shape=(X_train.shape[1],)),\n",
    "#     tf.keras.layers.Dropout(0.2),\n",
    "#     tf.keras.layers.Dense(32, activation='relu'),\n",
    "#     tf.keras.layers.Dropout(0.2),\n",
    "#     tf.keras.layers.Dense(1)\n",
    "# ])\n",
    "# \n",
    "# # 모델 컴파일\n",
    "# model.compile(optimizer='adam', loss='mse', metrics=['mae'])\n",
    "# \n",
    "# # 학습\n",
    "# callbacks = [tf.keras.callbacks.EarlyStopping(patience=10, restore_best_weights=True)]\n",
    "# model.fit(X_train, y_train, epochs=100, batch_size=32, validation_data=(X_test, y_test), callbacks=callbacks)\n",
    "# \n"
   ],
   "metadata": {
    "collapsed": false,
    "is_executing": true
   },
   "id": "4fa86e58ffaa60d"
  },
  {
   "cell_type": "code",
   "execution_count": null,
   "outputs": [],
   "source": [
    "# history = model.fit(X_train, y_train, epochs=100, batch_size=32, validation_data=(X_test, y_test), callbacks=callbacks)\n",
    "# \n",
    "# # 학습 과정 시각화\n",
    "# import matplotlib.pyplot as plt\n",
    "# \n",
    "# plt.plot(history.history['loss'], label='Train Loss')\n",
    "# plt.plot(history.history['val_loss'], label='Validation Loss')\n",
    "# plt.legend()\n",
    "# plt.show()\n"
   ],
   "metadata": {
    "collapsed": false,
    "is_executing": true
   },
   "id": "48f87072401bdb89"
  },
  {
   "cell_type": "code",
   "execution_count": null,
   "outputs": [],
   "source": [
    "# predictions = model.predict(X_test)\n",
    "# \n",
    "# plt.scatter(y_test, predictions)\n",
    "# plt.xlabel('True Values')\n",
    "# plt.ylabel('Predictions')\n",
    "# plt.axis('equal')\n",
    "# plt.axis('square')\n",
    "# plt.xlim([0,plt.xlim()[1]])\n",
    "# plt.ylim([0,plt.ylim()[1]])\n",
    "# plt.plot([-1000, 1000], [-1000, 1000])\n",
    "# plt.show()"
   ],
   "metadata": {
    "collapsed": false,
    "is_executing": true
   },
   "id": "d28f96396ba08335"
  },
  {
   "cell_type": "code",
   "execution_count": null,
   "outputs": [],
   "source": [],
   "metadata": {
    "collapsed": false,
    "is_executing": true
   },
   "id": "58f97bb2514d5a86"
  }
 ],
 "metadata": {
  "kernelspec": {
   "display_name": "Python 3",
   "language": "python",
   "name": "python3"
  },
  "language_info": {
   "codemirror_mode": {
    "name": "ipython",
    "version": 2
   },
   "file_extension": ".py",
   "mimetype": "text/x-python",
   "name": "python",
   "nbconvert_exporter": "python",
   "pygments_lexer": "ipython2",
   "version": "2.7.6"
  }
 },
 "nbformat": 4,
 "nbformat_minor": 5
}
