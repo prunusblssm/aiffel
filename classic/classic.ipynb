{
 "cells": [
  {
   "cell_type": "code",
   "execution_count": 1,
   "id": "initial_id",
   "metadata": {
    "collapsed": true,
    "ExecuteTime": {
     "end_time": "2023-09-11T03:57:29.708858300Z",
     "start_time": "2023-09-11T03:57:29.365389400Z"
    }
   },
   "outputs": [],
   "source": [
    "import numpy as np\n",
    "import pandas as pd\n",
    "import seaborn as sns\n",
    "import matplotlib.pyplot as plt\n",
    "from sklearn.preprocessing import MinMaxScaler, OneHotEncoder\n",
    "from sklearn.model_selection import train_test_split"
   ]
  },
  {
   "cell_type": "code",
   "execution_count": 2,
   "outputs": [],
   "source": [
    "df = pd.DataFrame()\n"
   ],
   "metadata": {
    "collapsed": false,
    "ExecuteTime": {
     "end_time": "2023-09-11T03:57:29.709855600Z",
     "start_time": "2023-09-11T03:57:29.706354600Z"
    }
   },
   "id": "2c083cd339a3fff7"
  },
  {
   "cell_type": "code",
   "execution_count": 3,
   "outputs": [],
   "source": [
    "import pandas as pd\n",
    "df=pd.read_csv('2023빅콘테스트_어드밴스드리그_예술의전당.csv')"
   ],
   "metadata": {
    "collapsed": false,
    "ExecuteTime": {
     "end_time": "2023-09-11T03:57:33.879914800Z",
     "start_time": "2023-09-11T03:57:29.709855600Z"
    }
   },
   "id": "33ea09e85198215e"
  },
  {
   "cell_type": "code",
   "execution_count": 4,
   "outputs": [],
   "source": [
    "# len(df)"
   ],
   "metadata": {
    "collapsed": false,
    "ExecuteTime": {
     "end_time": "2023-09-11T03:57:33.890856300Z",
     "start_time": "2023-09-11T03:57:33.880912500Z"
    }
   },
   "id": "9635c4d9db3ba932"
  },
  {
   "cell_type": "code",
   "execution_count": 5,
   "outputs": [],
   "source": [
    "# print('컬럼별 결측치 갯수')\n",
    "# len(df) - df.count()"
   ],
   "metadata": {
    "collapsed": false,
    "ExecuteTime": {
     "end_time": "2023-09-11T03:57:33.890856300Z",
     "start_time": "2023-09-11T03:57:33.885425800Z"
    }
   },
   "id": "ed9f1e1ec6dbfbb9"
  },
  {
   "cell_type": "code",
   "execution_count": 6,
   "outputs": [
    {
     "name": "stdout",
     "output_type": "stream",
     "text": [
      "          age gender membership_type_1 membership_type_2 membership_type_3  \\\n",
      "0        50.0      F                골드                무료                그린   \n",
      "1         NaN    NaN               NaN               NaN               NaN   \n",
      "2         NaN    NaN               NaN               NaN               NaN   \n",
      "3         NaN    NaN               NaN               NaN               NaN   \n",
      "4        50.0      M                무료               NaN               NaN   \n",
      "...       ...    ...               ...               ...               ...   \n",
      "1920863   NaN    NaN               NaN               NaN               NaN   \n",
      "1920864  20.0      F                무료              싹틔우미               NaN   \n",
      "1920865  50.0      F                블루                무료                그린   \n",
      "1920866   NaN    NaN               NaN               NaN               NaN   \n",
      "1920867   NaN    NaN               NaN               NaN               NaN   \n",
      "\n",
      "        membership_type_4 membership_type_5  membership_type_6  tran_date  \\\n",
      "0                     NaN               NaN                NaN   20220114   \n",
      "1                     NaN               NaN                NaN   20211003   \n",
      "2                     NaN               NaN                NaN   20220917   \n",
      "3                     NaN               NaN                NaN   20190630   \n",
      "4                     NaN               NaN                NaN   20220206   \n",
      "...                   ...               ...                ...        ...   \n",
      "1920863               NaN               NaN                NaN   20190614   \n",
      "1920864               NaN               NaN                NaN   20221224   \n",
      "1920865               NaN               NaN                NaN   20210614   \n",
      "1920866               NaN               NaN                NaN   20211123   \n",
      "1920867               NaN               NaN                NaN   20210527   \n",
      "\n",
      "         tran_time  ...  ticket_cancel         discount_type performance_code  \\\n",
      "0             1512  ...              2                    일반              302   \n",
      "1             1550  ...              0                   초대권             1120   \n",
      "2             1520  ...              0                   초대권             2283   \n",
      "3             1132  ...              0                   초대권             2798   \n",
      "4             1615  ...              0                    일반              897   \n",
      "...            ...  ...            ...                   ...              ...   \n",
      "1920863        920  ...              0                   초대권             1265   \n",
      "1920864       1223  ...              0  청소년(만7세~만24세/본인만)30%              313   \n",
      "1920865        129  ...              0            그린회원 할인20%              736   \n",
      "1920866       1617  ...              0                   초대권             1920   \n",
      "1920867       1715  ...              0                   초대권             1995   \n",
      "\n",
      "         pre_open_date   open_date genre   place  running_time  intermission  \\\n",
      "0           20220114.0  20220115.0   교향곡    콘서트홀           120            15   \n",
      "1                  NaN  20210823.0    독주   리사이틀홀            90            15   \n",
      "2           20220911.0  20220911.0    독주  IBK챔버홀            80            15   \n",
      "3                  NaN  20190701.0    독주   리사이틀홀            90            15   \n",
      "4           20220109.0  20220110.0    독주    콘서트홀            90             0   \n",
      "...                ...         ...   ...     ...           ...           ...   \n",
      "1920863     20190528.0  20190531.0   실내악  IBK챔버홀           100            15   \n",
      "1920864            NaN  20221223.0   교향곡    콘서트홀           120             0   \n",
      "1920865            NaN  20210503.0    독주   리사이틀홀           100            15   \n",
      "1920866     20211029.0  20211029.0    독주  IBK챔버홀            90            15   \n",
      "1920867            NaN  20210517.0   실내악  IBK챔버홀           100            15   \n",
      "\n",
      "        member_yn  \n",
      "0               Y  \n",
      "1               N  \n",
      "2               N  \n",
      "3               N  \n",
      "4               Y  \n",
      "...           ...  \n",
      "1920863         N  \n",
      "1920864         Y  \n",
      "1920865         Y  \n",
      "1920866         N  \n",
      "1920867         N  \n",
      "\n",
      "[1920868 rows x 24 columns]\n"
     ]
    },
    {
     "data": {
      "text/plain": "array(['콘서트홀', '리사이틀홀', 'IBK챔버홀'], dtype=object)"
     },
     "execution_count": 6,
     "metadata": {},
     "output_type": "execute_result"
    }
   ],
   "source": [
    "print(df)\n",
    "df_place = df.sort_values(by=['place','price'],ascending=False)\n",
    "df_place.count()\n",
    "df['place'].unique()\n",
    "# print(df_place)\n"
   ],
   "metadata": {
    "collapsed": false,
    "ExecuteTime": {
     "end_time": "2023-09-11T03:57:37.159857400Z",
     "start_time": "2023-09-11T03:57:33.888861800Z"
    }
   },
   "id": "e7f8ab222453c837"
  },
  {
   "cell_type": "code",
   "execution_count": 7,
   "outputs": [
    {
     "name": "stdout",
     "output_type": "stream",
     "text": [
      "          age gender membership_type_1 membership_type_2 membership_type_3  \\\n",
      "1453388  50.0      F                무료                그린               NaN   \n",
      "1373771  40.0      M                골드                무료               NaN   \n",
      "1344225  30.0      F                무료              싹틔우미                그린   \n",
      "1370621  50.0      M                블루                무료               NaN   \n",
      "1618939  40.0      F                무료               NaN               NaN   \n",
      "...       ...    ...               ...               ...               ...   \n",
      "546457    NaN    NaN               NaN               NaN               NaN   \n",
      "1208316   NaN    NaN               NaN               NaN               NaN   \n",
      "546452    NaN    NaN               NaN               NaN               NaN   \n",
      "1208319   NaN    NaN               NaN               NaN               NaN   \n",
      "959943    NaN    NaN               NaN               NaN               NaN   \n",
      "\n",
      "        membership_type_4 membership_type_5  membership_type_6  tran_date  \\\n",
      "1453388               NaN               NaN                NaN   20220927   \n",
      "1373771               NaN               NaN                NaN   20221010   \n",
      "1344225               NaN               NaN                NaN   20220923   \n",
      "1370621               NaN               NaN                NaN   20220919   \n",
      "1618939               NaN               NaN                NaN   20221014   \n",
      "...                   ...               ...                ...        ...   \n",
      "546457                NaN               NaN                NaN   20190630   \n",
      "1208316               NaN               NaN                NaN   20191121   \n",
      "546452                NaN               NaN                NaN   20210930   \n",
      "1208319               NaN               NaN                NaN   20191011   \n",
      "959943                NaN               NaN                NaN   20220506   \n",
      "\n",
      "         tran_time  ...  ticket_cancel  discount_type performance_code  \\\n",
      "1453388        223  ...              0             일반              145   \n",
      "1373771       1624  ...              0             일반              145   \n",
      "1344225        849  ...              2             일반              145   \n",
      "1370621       1409  ...              2             일반              145   \n",
      "1618939       2129  ...              0             일반              145   \n",
      "...            ...  ...            ...            ...              ...   \n",
      "546457        1637  ...              0            초대권             2429   \n",
      "1208316       1706  ...              0          기획사판매             1671   \n",
      "546452        1311  ...              0          기획사판매             1006   \n",
      "1208319       1331  ...              0            초대권             1215   \n",
      "959943        1320  ...              0            초대권             1653   \n",
      "\n",
      "         pre_open_date   open_date genre  place  running_time  intermission  \\\n",
      "1453388     20220918.0  20220919.0   교향곡   콘서트홀           110            15   \n",
      "1373771     20220918.0  20220919.0   교향곡   콘서트홀           110            15   \n",
      "1344225     20220918.0  20220919.0   교향곡   콘서트홀           110            15   \n",
      "1370621     20220918.0  20220919.0   교향곡   콘서트홀           110            15   \n",
      "1618939     20220918.0  20220919.0   교향곡   콘서트홀           110            15   \n",
      "...                ...         ...   ...    ...           ...           ...   \n",
      "546457      20190628.0  20190628.0    합창   콘서트홀           120            15   \n",
      "1208316            NaN  20190816.0   클래식   콘서트홀           110            15   \n",
      "546452      20210905.0  20210906.0    성악   콘서트홀           120            15   \n",
      "1208319     20190909.0  20190913.0    합창   콘서트홀           105            15   \n",
      "959943      20220410.0  20220411.0   교향곡   콘서트홀            80             0   \n",
      "\n",
      "        member_yn  \n",
      "1453388         Y  \n",
      "1373771         Y  \n",
      "1344225         Y  \n",
      "1370621         Y  \n",
      "1618939         Y  \n",
      "...           ...  \n",
      "546457          N  \n",
      "1208316         N  \n",
      "546452          N  \n",
      "1208319         N  \n",
      "959943          N  \n",
      "\n",
      "[1096968 rows x 24 columns]\n"
     ]
    }
   ],
   "source": [
    "df_concert = df[df['place']=='콘서트홀']\n",
    "df_concert = df_concert.sort_values(by=['price'],ascending=False)\n",
    "print(df_concert)\n",
    "df_concert.to_csv(('df_concert.csv'))"
   ],
   "metadata": {
    "collapsed": false,
    "ExecuteTime": {
     "end_time": "2023-09-11T03:57:45.498348Z",
     "start_time": "2023-09-11T03:57:37.160854700Z"
    }
   },
   "id": "84b73106e6eeea13"
  },
  {
   "cell_type": "code",
   "execution_count": 8,
   "outputs": [],
   "source": [
    "df_re = df[df['place']=='리사이틀홀']\n",
    "df_re = df_re.sort_values(by=['price'],ascending=False)\n",
    "df_re.to_csv(('df_re.csv'))"
   ],
   "metadata": {
    "collapsed": false,
    "ExecuteTime": {
     "end_time": "2023-09-11T03:57:47.923984400Z",
     "start_time": "2023-09-11T03:57:45.500342800Z"
    }
   },
   "id": "f067801e383afbbb"
  },
  {
   "cell_type": "code",
   "execution_count": 9,
   "outputs": [],
   "source": [
    "df_ibk = df[df['place']==('IBK챔버홀')]\n",
    "df_ibk = df_ibk.sort_values(by=['price'],ascending=False)\n",
    "df_ibk.to_csv(('df_ibk.csv'))"
   ],
   "metadata": {
    "collapsed": false,
    "ExecuteTime": {
     "end_time": "2023-09-11T03:57:51.400287600Z",
     "start_time": "2023-09-11T03:57:47.923984400Z"
    }
   },
   "id": "eef1cf4f812c047a"
  },
  {
   "cell_type": "code",
   "execution_count": 9,
   "outputs": [],
   "source": [],
   "metadata": {
    "collapsed": false,
    "ExecuteTime": {
     "end_time": "2023-09-11T03:57:51.411286300Z",
     "start_time": "2023-09-11T03:57:51.401284900Z"
    }
   },
   "id": "8754571ce9b45657"
  },
  {
   "cell_type": "code",
   "execution_count": 10,
   "outputs": [],
   "source": [
    "df_ibk.drop(columns=['membership_type_1','membership_type_2','membership_type_3','membership_type_4','membership_type_5','membership_type_6','member_yn','seat','place','intermission','running_time'], inplace=True)\n"
   ],
   "metadata": {
    "collapsed": false,
    "ExecuteTime": {
     "end_time": "2023-09-11T03:57:51.447349200Z",
     "start_time": "2023-09-11T03:57:51.403304300Z"
    }
   },
   "id": "5288588d507f8b2d"
  },
  {
   "cell_type": "code",
   "execution_count": 11,
   "outputs": [
    {
     "name": "stdout",
     "output_type": "stream",
     "text": [
      "Index(['age', 'gender', 'tran_date', 'tran_time', 'play_date', 'play_st_time',\n",
      "       'price', 'ticket_cancel', 'discount_type', 'performance_code',\n",
      "       'pre_open_date', 'open_date', 'genre'],\n",
      "      dtype='object')\n"
     ]
    }
   ],
   "source": [
    "print(df_ibk.columns)"
   ],
   "metadata": {
    "collapsed": false,
    "ExecuteTime": {
     "end_time": "2023-09-11T03:57:51.448346400Z",
     "start_time": "2023-09-11T03:57:51.436768800Z"
    }
   },
   "id": "5a843a59a1752470"
  },
  {
   "cell_type": "code",
   "execution_count": 12,
   "outputs": [
    {
     "name": "stdout",
     "output_type": "stream",
     "text": [
      "age\n",
      "gender\n",
      "tran_date\n",
      "tran_time\n",
      "play_date\n",
      "play_st_time\n",
      "price\n",
      "ticket_cancel\n",
      "discount_type\n",
      "performance_code\n",
      "pre_open_date\n",
      "open_date\n",
      "genre\n"
     ]
    }
   ],
   "source": [
    " \n",
    "for col in df_ibk.columns:\n",
    "    df_ibk[col].fillna(df_ibk[col].mode()[0], inplace=True) #최빈값 채우기\n",
    "    print(col)\n",
    "df_ibk = df_ibk.sort_values(by=['price'],ascending=False)\n",
    "df_ibk.to_csv(('df_ibk_v1.csv'))"
   ],
   "metadata": {
    "collapsed": false,
    "ExecuteTime": {
     "end_time": "2023-09-11T03:57:53.975099800Z",
     "start_time": "2023-09-11T03:57:51.440837800Z"
    }
   },
   "id": "e25b0649d57167d2"
  },
  {
   "cell_type": "code",
   "execution_count": 13,
   "outputs": [],
   "source": [
    "from sklearn.model_selection import train_test_split\n",
    "\n",
    "# 데이터 로드 및 날짜 열을 datetime으로 변환\n",
    "data = pd.read_csv('df_ibk_v1.csv', parse_dates=['tran_date'], index_col='tran_date')\n",
    "data.index = pd.date_range(start=data.index.min(), periods=len(data), freq='H')\n",
    "# 'price' 열만 사용하여 훈련 및 테스트 데이터로 분할\n",
    "train_data, test_data = train_test_split(data['price'], test_size=0.2, shuffle=False)\n",
    "\n",
    "# \n",
    "# 위 오류 메시지들은 SARIMAX 모델이 시간 인덱스에 관한 문제를 발견했음을 나타냅니다. 여러 문제가 지적되고 있지만, 기본적으로는 다음 두 가지 문제가 있습니다:\n",
    "# \n",
    "# 날짜 인덱스에 연관된 빈도 정보가 없다 (e.g., 일별, 월별).\n",
    "# 날짜 인덱스가 단조롭지 않다 (즉, 날짜가 일정한 간격으로 정렬되어 있지 않다).\n",
    "# 먼저 데이터 프레임의 인덱스를 처리하여 이러한 문제를 해결해야 합니다.\n",
    "# \n",
    "# 다음 단계를 수행하여 문제를 해결할 수 있습니다:\n",
    "# 날짜 인덱스를 단조롭게 만들어야 합니다. 이것은 데이터 프레임을 인덱스로 정렬하여 수행할 수 있습니다.\n",
    "# 날짜 인덱스에 빈도를 지정해야 합니다. 빈도를 지정하는 방법은 다양하지만, 여기에는 'D' (일일), 'M' (월별) 등의 옵션이 있습니다.\n",
    "train_data.sort_index(inplace=True) \n",
    "test_data.sort_index(inplace=True)\n",
    "# train_data.index.freq = 'M' # or another appropriate frequency\n",
    "# test_data.index.freq = 'M' # or another appropriate frequency"
   ],
   "metadata": {
    "collapsed": false,
    "ExecuteTime": {
     "end_time": "2023-09-11T03:57:54.616554Z",
     "start_time": "2023-09-11T03:57:53.975099800Z"
    }
   },
   "id": "b16ae6f6cb90fb1b"
  },
  {
   "cell_type": "code",
   "execution_count": 13,
   "outputs": [],
   "source": [
    "\n"
   ],
   "metadata": {
    "collapsed": false,
    "ExecuteTime": {
     "end_time": "2023-09-11T03:57:54.626103600Z",
     "start_time": "2023-09-11T03:57:54.617057100Z"
    }
   },
   "id": "53777ae48842aa76"
  },
  {
   "cell_type": "code",
   "execution_count": 14,
   "outputs": [
    {
     "name": "stdout",
     "output_type": "stream",
     "text": [
      "DatetimeIndex(['2018-11-04 00:00:00', '2018-11-04 01:00:00',\n",
      "               '2018-11-04 02:00:00', '2018-11-04 03:00:00',\n",
      "               '2018-11-04 04:00:00', '2018-11-04 05:00:00',\n",
      "               '2018-11-04 06:00:00', '2018-11-04 07:00:00',\n",
      "               '2018-11-04 08:00:00', '2018-11-04 09:00:00',\n",
      "               ...\n",
      "               '2073-04-20 16:00:00', '2073-04-20 17:00:00',\n",
      "               '2073-04-20 18:00:00', '2073-04-20 19:00:00',\n",
      "               '2073-04-20 20:00:00', '2073-04-20 21:00:00',\n",
      "               '2073-04-20 22:00:00', '2073-04-20 23:00:00',\n",
      "               '2073-04-21 00:00:00', '2073-04-21 01:00:00'],\n",
      "              dtype='datetime64[ns]', length=477410, freq='H')\n"
     ]
    }
   ],
   "source": [
    "print(data.index)"
   ],
   "metadata": {
    "collapsed": false,
    "ExecuteTime": {
     "end_time": "2023-09-11T03:57:54.628389Z",
     "start_time": "2023-09-11T03:57:54.619057200Z"
    }
   },
   "id": "e1257fbc5db853b5"
  },
  {
   "cell_type": "code",
   "execution_count": 14,
   "outputs": [],
   "source": [],
   "metadata": {
    "collapsed": false,
    "ExecuteTime": {
     "end_time": "2023-09-11T03:57:54.630143100Z",
     "start_time": "2023-09-11T03:57:54.628389Z"
    }
   },
   "id": "c0d6aea63bc14e27"
  },
  {
   "cell_type": "code",
   "execution_count": 14,
   "outputs": [],
   "source": [],
   "metadata": {
    "collapsed": false,
    "ExecuteTime": {
     "end_time": "2023-09-11T03:57:54.640006200Z",
     "start_time": "2023-09-11T03:57:54.630143100Z"
    }
   },
   "id": "22f739faa1b67da6"
  },
  {
   "cell_type": "code",
   "execution_count": 14,
   "outputs": [],
   "source": [],
   "metadata": {
    "collapsed": false,
    "ExecuteTime": {
     "end_time": "2023-09-11T03:57:54.641003800Z",
     "start_time": "2023-09-11T03:57:54.632513500Z"
    }
   },
   "id": "8789337e8cb39b6f"
  },
  {
   "cell_type": "code",
   "execution_count": null,
   "outputs": [
    {
     "name": "stdout",
     "output_type": "stream",
     "text": [
      "SARIMAX(0, 0, 0)x(168,)168 - AIC:8690382.830920361\n"
     ]
    },
    {
     "name": "stderr",
     "output_type": "stream",
     "text": [
      "C:\\ProgramData\\anaconda3\\Lib\\site-packages\\statsmodels\\tsa\\statespace\\sarimax.py:1009: UserWarning: Non-invertible starting seasonal moving average Using zeros as starting parameters.\n",
      "  warn('Non-invertible starting seasonal moving average'\n"
     ]
    }
   ],
   "source": [
    "import itertools\n",
    "from statsmodels.tsa.statespace.sarimax import SARIMAX\n",
    "from sklearn.metrics import mean_squared_error\n",
    "import numpy as np\n",
    "\n",
    "# 하이퍼파라미터 범위 설정\n",
    "p = d = q = range(0, 9) # 범위를 작게 설정해 빠른 테스트를 위함, 실제로는 range(0, 9)로 설정\n",
    "pdq = [(x[0], x[1], x[2], 168) for x in list(itertools.product(p, d, q))]\n",
    "\n",
    "# train_data와 test_data를 정의해주세요.\n",
    "# 예를 들어, 아래와 같이 정의할 수 있습니다.\n",
    "# train_data = your_train_data_here\n",
    "# test_data = your_test_data_here\n",
    "\n",
    "best_aic = np.inf\n",
    "best_pdq = None\n",
    "best_model = None\n",
    "\n",
    "for param in pdq:\n",
    "    try:\n",
    "        model = SARIMAX(train_data, order=(param[0], param[1], param[2]), seasonal_order=(param[0], param[1], param[2], 168))\n",
    "        model_fit = model.fit(disp=False)\n",
    "        if model_fit.aic < best_aic:\n",
    "            best_aic = model_fit.aic\n",
    "            best_pdq = param\n",
    "            best_model = model_fit\n",
    "        print(f'SARIMAX{param[0:3]}x{param[3:]}168 - AIC:{model_fit.aic}')\n",
    "    except Exception as e:\n",
    "        print(f'SARIMAX{param[0:3]}x{param[3:]}168 - AIC calculation failed')\n",
    "        continue\n",
    "\n",
    "print('Best SARIMAX{}x{}168 model - AIC:{}'.format(best_pdq[0:3], best_pdq[3:], best_aic))\n",
    "\n",
    "# 최적의 모델을 사용하여 테스트 데이터 예측\n",
    "predictions = best_model.get_forecast(steps=len(test_data))\n",
    "mse = mean_squared_error(test_data, predictions.predicted_mean)\n",
    "\n",
    "print('The Mean Squared Error of our forecasts is {}'.format(round(mse, 2)))\n",
    "\n"
   ],
   "metadata": {
    "collapsed": false,
    "is_executing": true,
    "ExecuteTime": {
     "start_time": "2023-09-11T04:42:02.807859400Z"
    }
   },
   "id": "78cdb2a9a84cafe6"
  },
  {
   "cell_type": "code",
   "execution_count": null,
   "outputs": [],
   "source": [
    "# 결과 시각화\n",
    "plt.figure(figsize=(15, 7))\n",
    "\n",
    "# 원본 시계열 데이터 그래프\n",
    "plt.plot(train_data.index, train_data.values, label='Train')\n",
    "plt.plot(test_data.index, test_data.values, label='Test')\n",
    "\n",
    "# 예측 그래프\n",
    "plt.plot(test_data.index, predictions.predicted_mean.values, label='SARIMAX Predictions')\n",
    "\n",
    "plt.legend()\n",
    "plt.show()\n",
    "\n",
    "\n",
    "\n",
    "#뉴럴 네트워크 사용"
   ],
   "metadata": {
    "collapsed": false,
    "ExecuteTime": {
     "start_time": "2023-09-11T04:37:47.424707200Z"
    }
   },
   "id": "569be9d1b3d36bfc"
  },
  {
   "cell_type": "code",
   "execution_count": null,
   "outputs": [],
   "source": [
    "i"
   ],
   "metadata": {
    "collapsed": false,
    "ExecuteTime": {
     "end_time": "2023-09-11T04:37:47.430691400Z",
     "start_time": "2023-09-11T04:37:47.428696600Z"
    }
   },
   "id": "2b3481cb8173cc3a"
  },
  {
   "cell_type": "code",
   "execution_count": null,
   "outputs": [],
   "source": [],
   "metadata": {
    "collapsed": false,
    "ExecuteTime": {
     "start_time": "2023-09-11T04:37:47.428696600Z"
    }
   },
   "id": "600b87d7b338785"
  },
  {
   "cell_type": "code",
   "execution_count": null,
   "outputs": [],
   "source": [],
   "metadata": {
    "collapsed": false,
    "ExecuteTime": {
     "start_time": "2023-09-11T04:37:47.429693800Z"
    }
   },
   "id": "6dd177ec14e09ea"
  },
  {
   "cell_type": "code",
   "execution_count": null,
   "outputs": [],
   "source": [],
   "metadata": {
    "collapsed": false,
    "ExecuteTime": {
     "start_time": "2023-09-11T04:37:47.430691400Z"
    }
   },
   "id": "86d481b77d82741f"
  },
  {
   "cell_type": "code",
   "execution_count": null,
   "outputs": [],
   "source": [],
   "metadata": {
    "collapsed": false,
    "ExecuteTime": {
     "end_time": "2023-09-11T04:37:47.432197900Z",
     "start_time": "2023-09-11T04:37:47.432197900Z"
    }
   },
   "id": "6b709148fcb69dd"
  },
  {
   "cell_type": "code",
   "execution_count": null,
   "outputs": [],
   "source": [],
   "metadata": {
    "collapsed": false,
    "ExecuteTime": {
     "end_time": "2023-09-11T04:37:47.434205600Z",
     "start_time": "2023-09-11T04:37:47.433208600Z"
    }
   },
   "id": "da7c7d266b91d0ba"
  },
  {
   "cell_type": "code",
   "execution_count": null,
   "outputs": [],
   "source": [],
   "metadata": {
    "collapsed": false,
    "ExecuteTime": {
     "start_time": "2023-09-11T04:37:47.434205600Z"
    }
   },
   "id": "574aa85aebd93a67"
  },
  {
   "cell_type": "code",
   "execution_count": null,
   "outputs": [],
   "source": [],
   "metadata": {
    "collapsed": false,
    "ExecuteTime": {
     "end_time": "2023-09-11T04:37:47.445684800Z",
     "start_time": "2023-09-11T04:37:47.436202400Z"
    }
   },
   "id": "6e9dc1595168a2b3"
  },
  {
   "cell_type": "code",
   "execution_count": null,
   "outputs": [],
   "source": [],
   "metadata": {
    "collapsed": false,
    "ExecuteTime": {
     "start_time": "2023-09-11T04:37:47.437199800Z"
    }
   },
   "id": "617dce5d0d91f167"
  },
  {
   "cell_type": "code",
   "execution_count": null,
   "outputs": [],
   "source": [],
   "metadata": {
    "collapsed": false,
    "ExecuteTime": {
     "start_time": "2023-09-11T04:37:47.439194400Z"
    }
   },
   "id": "90ff664e8595793f"
  },
  {
   "cell_type": "code",
   "execution_count": null,
   "outputs": [],
   "source": [],
   "metadata": {
    "collapsed": false,
    "ExecuteTime": {
     "start_time": "2023-09-11T04:37:47.440191600Z"
    }
   },
   "id": "ddcd9de04866e131"
  },
  {
   "cell_type": "code",
   "execution_count": null,
   "outputs": [],
   "source": [
    "\n",
    "\n"
   ],
   "metadata": {
    "collapsed": false,
    "ExecuteTime": {
     "start_time": "2023-09-11T04:37:47.440191600Z"
    }
   },
   "id": "4fa86e58ffaa60d"
  },
  {
   "cell_type": "code",
   "execution_count": null,
   "outputs": [],
   "source": [
    "#"
   ],
   "metadata": {
    "collapsed": false,
    "ExecuteTime": {
     "start_time": "2023-09-11T04:37:47.441188900Z"
    }
   },
   "id": "48f87072401bdb89"
  },
  {
   "cell_type": "code",
   "execution_count": null,
   "outputs": [],
   "source": [],
   "metadata": {
    "collapsed": false,
    "ExecuteTime": {
     "start_time": "2023-09-11T04:37:47.442689200Z"
    }
   },
   "id": "d28f96396ba08335"
  },
  {
   "cell_type": "code",
   "execution_count": null,
   "outputs": [],
   "source": [],
   "metadata": {
    "collapsed": false,
    "ExecuteTime": {
     "start_time": "2023-09-11T04:37:47.443688100Z"
    }
   },
   "id": "58f97bb2514d5a86"
  }
 ],
 "metadata": {
  "kernelspec": {
   "display_name": "Python 3",
   "language": "python",
   "name": "python3"
  },
  "language_info": {
   "codemirror_mode": {
    "name": "ipython",
    "version": 2
   },
   "file_extension": ".py",
   "mimetype": "text/x-python",
   "name": "python",
   "nbconvert_exporter": "python",
   "pygments_lexer": "ipython2",
   "version": "2.7.6"
  }
 },
 "nbformat": 4,
 "nbformat_minor": 5
}
