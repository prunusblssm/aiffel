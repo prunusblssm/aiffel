{
 "cells": [
  {
   "cell_type": "code",
   "execution_count": 4,
   "id": "aabd20e6",
   "metadata": {},
   "outputs": [
    {
     "data": {
      "text/html": [
       "<div>\n",
       "<style scoped>\n",
       "    .dataframe tbody tr th:only-of-type {\n",
       "        vertical-align: middle;\n",
       "    }\n",
       "\n",
       "    .dataframe tbody tr th {\n",
       "        vertical-align: top;\n",
       "    }\n",
       "\n",
       "    .dataframe thead th {\n",
       "        text-align: right;\n",
       "    }\n",
       "</style>\n",
       "<table border=\"1\" class=\"dataframe\">\n",
       "  <thead>\n",
       "    <tr style=\"text-align: right;\">\n",
       "      <th></th>\n",
       "      <th>install</th>\n",
       "      <th>Time_stamp</th>\n",
       "      <th>Game_Name</th>\n",
       "      <th>Status</th>\n",
       "      <th>Payment</th>\n",
       "      <th>Customer_ID</th>\n",
       "    </tr>\n",
       "  </thead>\n",
       "  <tbody>\n",
       "    <tr>\n",
       "      <th>0</th>\n",
       "      <td>2022-01-08</td>\n",
       "      <td>2022-02-05</td>\n",
       "      <td>MineGround</td>\n",
       "      <td>play</td>\n",
       "      <td>4900</td>\n",
       "      <td>facilis140</td>\n",
       "    </tr>\n",
       "    <tr>\n",
       "      <th>1</th>\n",
       "      <td>2022-01-05</td>\n",
       "      <td>2022-02-17</td>\n",
       "      <td>MineGround</td>\n",
       "      <td>play</td>\n",
       "      <td>29900</td>\n",
       "      <td>debitis994</td>\n",
       "    </tr>\n",
       "    <tr>\n",
       "      <th>2</th>\n",
       "      <td>2022-01-29</td>\n",
       "      <td>2022-02-06</td>\n",
       "      <td>MineGround</td>\n",
       "      <td>play</td>\n",
       "      <td>4900</td>\n",
       "      <td>possimus246</td>\n",
       "    </tr>\n",
       "    <tr>\n",
       "      <th>3</th>\n",
       "      <td>2022-01-09</td>\n",
       "      <td>2022-02-05</td>\n",
       "      <td>MineGround</td>\n",
       "      <td>play</td>\n",
       "      <td>900</td>\n",
       "      <td>occaecati138</td>\n",
       "    </tr>\n",
       "    <tr>\n",
       "      <th>4</th>\n",
       "      <td>2022-01-08</td>\n",
       "      <td>2022-02-01</td>\n",
       "      <td>MineGround</td>\n",
       "      <td>play</td>\n",
       "      <td>900</td>\n",
       "      <td>corrupti325</td>\n",
       "    </tr>\n",
       "    <tr>\n",
       "      <th>...</th>\n",
       "      <td>...</td>\n",
       "      <td>...</td>\n",
       "      <td>...</td>\n",
       "      <td>...</td>\n",
       "      <td>...</td>\n",
       "      <td>...</td>\n",
       "    </tr>\n",
       "    <tr>\n",
       "      <th>99840</th>\n",
       "      <td>2022-03-27</td>\n",
       "      <td>2022-03-27</td>\n",
       "      <td>SoccerManager</td>\n",
       "      <td>install</td>\n",
       "      <td>0</td>\n",
       "      <td>dicta630</td>\n",
       "    </tr>\n",
       "    <tr>\n",
       "      <th>99841</th>\n",
       "      <td>2022-03-28</td>\n",
       "      <td>2022-03-28</td>\n",
       "      <td>SoccerManager</td>\n",
       "      <td>install</td>\n",
       "      <td>0</td>\n",
       "      <td>tempora976</td>\n",
       "    </tr>\n",
       "    <tr>\n",
       "      <th>99842</th>\n",
       "      <td>2022-03-26</td>\n",
       "      <td>2022-03-26</td>\n",
       "      <td>SoccerManager</td>\n",
       "      <td>install</td>\n",
       "      <td>0</td>\n",
       "      <td>iusto840</td>\n",
       "    </tr>\n",
       "    <tr>\n",
       "      <th>99843</th>\n",
       "      <td>2022-03-20</td>\n",
       "      <td>2022-03-20</td>\n",
       "      <td>SoccerManager</td>\n",
       "      <td>install</td>\n",
       "      <td>0</td>\n",
       "      <td>nemo273</td>\n",
       "    </tr>\n",
       "    <tr>\n",
       "      <th>99844</th>\n",
       "      <td>2022-03-07</td>\n",
       "      <td>2022-03-07</td>\n",
       "      <td>SoccerManager</td>\n",
       "      <td>install</td>\n",
       "      <td>0</td>\n",
       "      <td>consequatur371</td>\n",
       "    </tr>\n",
       "  </tbody>\n",
       "</table>\n",
       "<p>99845 rows × 6 columns</p>\n",
       "</div>"
      ],
      "text/plain": [
       "          install  Time_stamp      Game_Name   Status  Payment     Customer_ID\n",
       "0      2022-01-08  2022-02-05     MineGround     play     4900      facilis140\n",
       "1      2022-01-05  2022-02-17     MineGround     play    29900      debitis994\n",
       "2      2022-01-29  2022-02-06     MineGround     play     4900     possimus246\n",
       "3      2022-01-09  2022-02-05     MineGround     play      900    occaecati138\n",
       "4      2022-01-08  2022-02-01     MineGround     play      900     corrupti325\n",
       "...           ...         ...            ...      ...      ...             ...\n",
       "99840  2022-03-27  2022-03-27  SoccerManager  install        0        dicta630\n",
       "99841  2022-03-28  2022-03-28  SoccerManager  install        0      tempora976\n",
       "99842  2022-03-26  2022-03-26  SoccerManager  install        0        iusto840\n",
       "99843  2022-03-20  2022-03-20  SoccerManager  install        0         nemo273\n",
       "99844  2022-03-07  2022-03-07  SoccerManager  install        0  consequatur371\n",
       "\n",
       "[99845 rows x 6 columns]"
      ]
     },
     "execution_count": 4,
     "metadata": {},
     "output_type": "execute_result"
    }
   ],
   "source": [
    "import pandas as pd\n",
    "import matplotlib.pyplot as plt\n",
    "\n",
    "SalesLog = pd.read_csv('~/aiffel/data_analysis_basic/data/Sales.csv')\n",
    "SalesLog"
   ]
  },
  {
   "cell_type": "code",
   "execution_count": 5,
   "id": "c999bb01",
   "metadata": {},
   "outputs": [
    {
     "name": "stdout",
     "output_type": "stream",
     "text": [
      "<class 'pandas.core.frame.DataFrame'>\n",
      "RangeIndex: 99845 entries, 0 to 99844\n",
      "Data columns (total 6 columns):\n",
      " #   Column       Non-Null Count  Dtype \n",
      "---  ------       --------------  ----- \n",
      " 0   install      99845 non-null  object\n",
      " 1   Time_stamp   99845 non-null  object\n",
      " 2   Game_Name    99845 non-null  object\n",
      " 3   Status       99845 non-null  object\n",
      " 4   Payment      99845 non-null  int64 \n",
      " 5   Customer_ID  99845 non-null  object\n",
      "dtypes: int64(1), object(5)\n",
      "memory usage: 4.6+ MB\n"
     ]
    }
   ],
   "source": [
    "SalesLog.info()"
   ]
  },
  {
   "cell_type": "code",
   "execution_count": 6,
   "id": "b9659252",
   "metadata": {},
   "outputs": [
    {
     "data": {
      "text/plain": [
       "144443100"
      ]
     },
     "execution_count": 6,
     "metadata": {},
     "output_type": "execute_result"
    }
   ],
   "source": [
    "SalesLog['Payment'].sum()"
   ]
  },
  {
   "cell_type": "code",
   "execution_count": 8,
   "id": "d13cc5ef",
   "metadata": {},
   "outputs": [
    {
     "data": {
      "image/png": "[encoded data removed]",
      "text/plain": [
       "<Figure size 432x288 with 1 Axes>"
      ]
     },
     "metadata": {
      "needs_background": "light"
     },
     "output_type": "display_data"
    }
   ],
   "source": [
    "plt.hist(SalesLog['Payment'])\n",
    "plt.title('Sales Status')\n",
    "plt.show()"
   ]
  },
  {
   "cell_type": "code",
   "execution_count": 12,
   "id": "3d342d02",
   "metadata": {},
   "outputs": [
    {
     "data": {
      "image/png": "[encoded data removed]",
      "text/plain": [
       "<Figure size 432x288 with 1 Axes>"
      ]
     },
     "metadata": {
      "needs_background": "light"
     },
     "output_type": "display_data"
    }
   ],
   "source": [
    "Sales = SalesLog[SalesLog['Payment']!=0]\n",
    "plt.hist(Sales['Payment'])\n",
    "plt.title('Sales Status only payment')\n",
    "plt.show()"
   ]
  },
  {
   "cell_type": "code",
   "execution_count": 13,
   "id": "c4761f88",
   "metadata": {},
   "outputs": [
    {
     "data": {
      "text/plain": [
       "count    15309.000000\n",
       "mean      9435.175387\n",
       "std      11897.228643\n",
       "min        900.000000\n",
       "25%        900.000000\n",
       "50%       4900.000000\n",
       "75%       9900.000000\n",
       "max      49900.000000\n",
       "Name: Payment, dtype: float64"
      ]
     },
     "execution_count": 13,
     "metadata": {},
     "output_type": "execute_result"
    }
   ],
   "source": [
    "Sales['Payment'].describe(\n",
    ")"
   ]
  },
  {
   "cell_type": "code",
   "execution_count": 14,
   "id": "937c34ce",
   "metadata": {},
   "outputs": [
    {
     "data": {
      "image/png": "[encoded data removed]",
      "text/plain": [
       "<Figure size 432x288 with 1 Axes>"
      ]
     },
     "metadata": {
      "needs_background": "light"
     },
     "output_type": "display_data"
    }
   ],
   "source": [
    "plt.boxplot(Sales['Payment'])\n",
    "plt.title('Payment Box Plot')\n",
    "plt.show()"
   ]
  },
  {
   "cell_type": "code",
   "execution_count": 15,
   "id": "c98baab6",
   "metadata": {},
   "outputs": [
    {
     "data": {
      "text/plain": [
       "900      0.350709\n",
       "4900     0.248677\n",
       "9900     0.201581\n",
       "19900    0.100856\n",
       "29900    0.050036\n",
       "49900    0.048142\n",
       "Name: Payment, dtype: float64"
      ]
     },
     "execution_count": 15,
     "metadata": {},
     "output_type": "execute_result"
    }
   ],
   "source": [
    "Sales['Payment'].value_counts()/len(Sales['Payment'])"
   ]
  },
  {
   "cell_type": "code",
   "execution_count": 16,
   "id": "0e4a2b64",
   "metadata": {},
   "outputs": [
    {
     "data": {
      "text/plain": [
       "Month\n",
       "2022-02    80841800\n",
       "2022-03    63601300\n",
       "Name: Payment, dtype: int64"
      ]
     },
     "execution_count": 16,
     "metadata": {},
     "output_type": "execute_result"
    }
   ],
   "source": [
    "SalesLog['Month'] = SalesLog['Time_stamp'].str[:7]\n",
    "#해당 문자열의 처음부터 7번째 위치까지를 추출하여 'Month' 열에 할당합니다. \n",
    "#이렇게 하면 'Month' 열에는 'YYYY-MM' 형식의 연도와 월 정보가 저장\n",
    "\n",
    "SalesLog['Payment'].groupby(SalesLog['Month']).sum()"
   ]
  },
  {
   "cell_type": "code",
   "execution_count": 19,
   "id": "1df5898f",
   "metadata": {},
   "outputs": [
    {
     "data": {
      "image/png": "[encoded data removed]",
      "text/plain": [
       "<Figure size 432x288 with 1 Axes>"
      ]
     },
     "metadata": {
      "needs_background": "light"
     },
     "output_type": "display_data"
    }
   ],
   "source": [
    "temp_data = SalesLog['Payment'].groupby(SalesLog['Month']).sum()\n",
    "ax = plt.bar(temp_data.index, temp_data)\n",
    "plt.bar_label(ax,labels=[f'{x:,.0f}' for x in ax.datavalues], label_type='center')\n",
    "plt.title('Payment by month')\n",
    "plt.show()\n",
    "#리스트 컴프리헨션을 사용하여 각 데이터 값을 포맷팅하여 레이블로 만들고 있습니다. \n",
    "#{x:,.0f} 형식은 숫자를 천 단위로 끊어진 쉼표로 포맷하고 소수점 이하를 제거하는 형식입니다."
   ]
  },
  {
   "cell_type": "code",
   "execution_count": 23,
   "id": "56037f4f",
   "metadata": {},
   "outputs": [
    {
     "data": {
      "text/html": [
       "<div>\n",
       "<style scoped>\n",
       "    .dataframe tbody tr th:only-of-type {\n",
       "        vertical-align: middle;\n",
       "    }\n",
       "\n",
       "    .dataframe tbody tr th {\n",
       "        vertical-align: top;\n",
       "    }\n",
       "\n",
       "    .dataframe thead th {\n",
       "        text-align: right;\n",
       "    }\n",
       "</style>\n",
       "<table border=\"1\" class=\"dataframe\">\n",
       "  <thead>\n",
       "    <tr style=\"text-align: right;\">\n",
       "      <th></th>\n",
       "      <th>install</th>\n",
       "      <th>Time_stamp</th>\n",
       "      <th>Game_Name</th>\n",
       "      <th>Status</th>\n",
       "      <th>Payment</th>\n",
       "      <th>Customer_ID</th>\n",
       "      <th>Month</th>\n",
       "    </tr>\n",
       "  </thead>\n",
       "  <tbody>\n",
       "    <tr>\n",
       "      <th>0</th>\n",
       "      <td>2022-01-08</td>\n",
       "      <td>2022-02-05</td>\n",
       "      <td>MineGround</td>\n",
       "      <td>play</td>\n",
       "      <td>4900</td>\n",
       "      <td>facilis140</td>\n",
       "      <td>2022-02</td>\n",
       "    </tr>\n",
       "    <tr>\n",
       "      <th>1</th>\n",
       "      <td>2022-01-05</td>\n",
       "      <td>2022-02-17</td>\n",
       "      <td>MineGround</td>\n",
       "      <td>play</td>\n",
       "      <td>29900</td>\n",
       "      <td>debitis994</td>\n",
       "      <td>2022-02</td>\n",
       "    </tr>\n",
       "    <tr>\n",
       "      <th>2</th>\n",
       "      <td>2022-01-29</td>\n",
       "      <td>2022-02-06</td>\n",
       "      <td>MineGround</td>\n",
       "      <td>play</td>\n",
       "      <td>4900</td>\n",
       "      <td>possimus246</td>\n",
       "      <td>2022-02</td>\n",
       "    </tr>\n",
       "    <tr>\n",
       "      <th>3</th>\n",
       "      <td>2022-01-09</td>\n",
       "      <td>2022-02-05</td>\n",
       "      <td>MineGround</td>\n",
       "      <td>play</td>\n",
       "      <td>900</td>\n",
       "      <td>occaecati138</td>\n",
       "      <td>2022-02</td>\n",
       "    </tr>\n",
       "    <tr>\n",
       "      <th>4</th>\n",
       "      <td>2022-01-08</td>\n",
       "      <td>2022-02-01</td>\n",
       "      <td>MineGround</td>\n",
       "      <td>play</td>\n",
       "      <td>900</td>\n",
       "      <td>corrupti325</td>\n",
       "      <td>2022-02</td>\n",
       "    </tr>\n",
       "    <tr>\n",
       "      <th>...</th>\n",
       "      <td>...</td>\n",
       "      <td>...</td>\n",
       "      <td>...</td>\n",
       "      <td>...</td>\n",
       "      <td>...</td>\n",
       "      <td>...</td>\n",
       "      <td>...</td>\n",
       "    </tr>\n",
       "    <tr>\n",
       "      <th>12168</th>\n",
       "      <td>2022-02-12</td>\n",
       "      <td>2022-02-14</td>\n",
       "      <td>SoccerManager</td>\n",
       "      <td>play</td>\n",
       "      <td>4900</td>\n",
       "      <td>quam946</td>\n",
       "      <td>2022-02</td>\n",
       "    </tr>\n",
       "    <tr>\n",
       "      <th>12169</th>\n",
       "      <td>2022-02-10</td>\n",
       "      <td>2022-02-14</td>\n",
       "      <td>SoccerManager</td>\n",
       "      <td>play</td>\n",
       "      <td>4900</td>\n",
       "      <td>commodi507</td>\n",
       "      <td>2022-02</td>\n",
       "    </tr>\n",
       "    <tr>\n",
       "      <th>12170</th>\n",
       "      <td>2022-02-16</td>\n",
       "      <td>2022-02-21</td>\n",
       "      <td>SoccerManager</td>\n",
       "      <td>play</td>\n",
       "      <td>900</td>\n",
       "      <td>rerum275</td>\n",
       "      <td>2022-02</td>\n",
       "    </tr>\n",
       "    <tr>\n",
       "      <th>12171</th>\n",
       "      <td>2022-02-16</td>\n",
       "      <td>2022-02-20</td>\n",
       "      <td>SoccerManager</td>\n",
       "      <td>play</td>\n",
       "      <td>9900</td>\n",
       "      <td>quo151</td>\n",
       "      <td>2022-02</td>\n",
       "    </tr>\n",
       "    <tr>\n",
       "      <th>12172</th>\n",
       "      <td>2022-02-07</td>\n",
       "      <td>2022-02-12</td>\n",
       "      <td>SoccerManager</td>\n",
       "      <td>play</td>\n",
       "      <td>4900</td>\n",
       "      <td>aspernatur159</td>\n",
       "      <td>2022-02</td>\n",
       "    </tr>\n",
       "  </tbody>\n",
       "</table>\n",
       "<p>8542 rows × 7 columns</p>\n",
       "</div>"
      ],
      "text/plain": [
       "          install  Time_stamp      Game_Name Status  Payment    Customer_ID  \\\n",
       "0      2022-01-08  2022-02-05     MineGround   play     4900     facilis140   \n",
       "1      2022-01-05  2022-02-17     MineGround   play    29900     debitis994   \n",
       "2      2022-01-29  2022-02-06     MineGround   play     4900    possimus246   \n",
       "3      2022-01-09  2022-02-05     MineGround   play      900   occaecati138   \n",
       "4      2022-01-08  2022-02-01     MineGround   play      900    corrupti325   \n",
       "...           ...         ...            ...    ...      ...            ...   \n",
       "12168  2022-02-12  2022-02-14  SoccerManager   play     4900        quam946   \n",
       "12169  2022-02-10  2022-02-14  SoccerManager   play     4900     commodi507   \n",
       "12170  2022-02-16  2022-02-21  SoccerManager   play      900       rerum275   \n",
       "12171  2022-02-16  2022-02-20  SoccerManager   play     9900         quo151   \n",
       "12172  2022-02-07  2022-02-12  SoccerManager   play     4900  aspernatur159   \n",
       "\n",
       "         Month  \n",
       "0      2022-02  \n",
       "1      2022-02  \n",
       "2      2022-02  \n",
       "3      2022-02  \n",
       "4      2022-02  \n",
       "...        ...  \n",
       "12168  2022-02  \n",
       "12169  2022-02  \n",
       "12170  2022-02  \n",
       "12171  2022-02  \n",
       "12172  2022-02  \n",
       "\n",
       "[8542 rows x 7 columns]"
      ]
     },
     "execution_count": 23,
     "metadata": {},
     "output_type": "execute_result"
    }
   ],
   "source": [
    "Sales02 = SalesLog[(SalesLog['Month'] == '2022-02') & (SalesLog['Payment']!=0)]\n",
    "Sales02"
   ]
  },
  {
   "cell_type": "code",
   "execution_count": 26,
   "id": "0210cdfc",
   "metadata": {},
   "outputs": [
    {
     "data": {
      "text/html": [
       "<div>\n",
       "<style scoped>\n",
       "    .dataframe tbody tr th:only-of-type {\n",
       "        vertical-align: middle;\n",
       "    }\n",
       "\n",
       "    .dataframe tbody tr th {\n",
       "        vertical-align: top;\n",
       "    }\n",
       "\n",
       "    .dataframe thead th {\n",
       "        text-align: right;\n",
       "    }\n",
       "</style>\n",
       "<table border=\"1\" class=\"dataframe\">\n",
       "  <thead>\n",
       "    <tr style=\"text-align: right;\">\n",
       "      <th></th>\n",
       "      <th>install</th>\n",
       "      <th>Time_stamp</th>\n",
       "      <th>Game_Name</th>\n",
       "      <th>Status</th>\n",
       "      <th>Payment</th>\n",
       "      <th>Customer_ID</th>\n",
       "      <th>Month</th>\n",
       "    </tr>\n",
       "  </thead>\n",
       "  <tbody>\n",
       "    <tr>\n",
       "      <th>0</th>\n",
       "      <td>2022-01-08</td>\n",
       "      <td>2022-02-05</td>\n",
       "      <td>MineGround</td>\n",
       "      <td>play</td>\n",
       "      <td>4900</td>\n",
       "      <td>facilis140</td>\n",
       "      <td>2022-02</td>\n",
       "    </tr>\n",
       "    <tr>\n",
       "      <th>1</th>\n",
       "      <td>2022-01-05</td>\n",
       "      <td>2022-02-17</td>\n",
       "      <td>MineGround</td>\n",
       "      <td>play</td>\n",
       "      <td>29900</td>\n",
       "      <td>debitis994</td>\n",
       "      <td>2022-02</td>\n",
       "    </tr>\n",
       "    <tr>\n",
       "      <th>2</th>\n",
       "      <td>2022-01-29</td>\n",
       "      <td>2022-02-06</td>\n",
       "      <td>MineGround</td>\n",
       "      <td>play</td>\n",
       "      <td>4900</td>\n",
       "      <td>possimus246</td>\n",
       "      <td>2022-02</td>\n",
       "    </tr>\n",
       "    <tr>\n",
       "      <th>3</th>\n",
       "      <td>2022-01-09</td>\n",
       "      <td>2022-02-05</td>\n",
       "      <td>MineGround</td>\n",
       "      <td>play</td>\n",
       "      <td>900</td>\n",
       "      <td>occaecati138</td>\n",
       "      <td>2022-02</td>\n",
       "    </tr>\n",
       "    <tr>\n",
       "      <th>4</th>\n",
       "      <td>2022-01-08</td>\n",
       "      <td>2022-02-01</td>\n",
       "      <td>MineGround</td>\n",
       "      <td>play</td>\n",
       "      <td>900</td>\n",
       "      <td>corrupti325</td>\n",
       "      <td>2022-02</td>\n",
       "    </tr>\n",
       "    <tr>\n",
       "      <th>...</th>\n",
       "      <td>...</td>\n",
       "      <td>...</td>\n",
       "      <td>...</td>\n",
       "      <td>...</td>\n",
       "      <td>...</td>\n",
       "      <td>...</td>\n",
       "      <td>...</td>\n",
       "    </tr>\n",
       "    <tr>\n",
       "      <th>8537</th>\n",
       "      <td>2022-02-12</td>\n",
       "      <td>2022-02-14</td>\n",
       "      <td>SoccerManager</td>\n",
       "      <td>play</td>\n",
       "      <td>4900</td>\n",
       "      <td>quam946</td>\n",
       "      <td>2022-02</td>\n",
       "    </tr>\n",
       "    <tr>\n",
       "      <th>8538</th>\n",
       "      <td>2022-02-10</td>\n",
       "      <td>2022-02-14</td>\n",
       "      <td>SoccerManager</td>\n",
       "      <td>play</td>\n",
       "      <td>4900</td>\n",
       "      <td>commodi507</td>\n",
       "      <td>2022-02</td>\n",
       "    </tr>\n",
       "    <tr>\n",
       "      <th>8539</th>\n",
       "      <td>2022-02-16</td>\n",
       "      <td>2022-02-21</td>\n",
       "      <td>SoccerManager</td>\n",
       "      <td>play</td>\n",
       "      <td>900</td>\n",
       "      <td>rerum275</td>\n",
       "      <td>2022-02</td>\n",
       "    </tr>\n",
       "    <tr>\n",
       "      <th>8540</th>\n",
       "      <td>2022-02-16</td>\n",
       "      <td>2022-02-20</td>\n",
       "      <td>SoccerManager</td>\n",
       "      <td>play</td>\n",
       "      <td>9900</td>\n",
       "      <td>quo151</td>\n",
       "      <td>2022-02</td>\n",
       "    </tr>\n",
       "    <tr>\n",
       "      <th>8541</th>\n",
       "      <td>2022-02-07</td>\n",
       "      <td>2022-02-12</td>\n",
       "      <td>SoccerManager</td>\n",
       "      <td>play</td>\n",
       "      <td>4900</td>\n",
       "      <td>aspernatur159</td>\n",
       "      <td>2022-02</td>\n",
       "    </tr>\n",
       "  </tbody>\n",
       "</table>\n",
       "<p>8542 rows × 7 columns</p>\n",
       "</div>"
      ],
      "text/plain": [
       "         install  Time_stamp      Game_Name Status  Payment    Customer_ID  \\\n",
       "0     2022-01-08  2022-02-05     MineGround   play     4900     facilis140   \n",
       "1     2022-01-05  2022-02-17     MineGround   play    29900     debitis994   \n",
       "2     2022-01-29  2022-02-06     MineGround   play     4900    possimus246   \n",
       "3     2022-01-09  2022-02-05     MineGround   play      900   occaecati138   \n",
       "4     2022-01-08  2022-02-01     MineGround   play      900    corrupti325   \n",
       "...          ...         ...            ...    ...      ...            ...   \n",
       "8537  2022-02-12  2022-02-14  SoccerManager   play     4900        quam946   \n",
       "8538  2022-02-10  2022-02-14  SoccerManager   play     4900     commodi507   \n",
       "8539  2022-02-16  2022-02-21  SoccerManager   play      900       rerum275   \n",
       "8540  2022-02-16  2022-02-20  SoccerManager   play     9900         quo151   \n",
       "8541  2022-02-07  2022-02-12  SoccerManager   play     4900  aspernatur159   \n",
       "\n",
       "        Month  \n",
       "0     2022-02  \n",
       "1     2022-02  \n",
       "2     2022-02  \n",
       "3     2022-02  \n",
       "4     2022-02  \n",
       "...       ...  \n",
       "8537  2022-02  \n",
       "8538  2022-02  \n",
       "8539  2022-02  \n",
       "8540  2022-02  \n",
       "8541  2022-02  \n",
       "\n",
       "[8542 rows x 7 columns]"
      ]
     },
     "execution_count": 26,
     "metadata": {},
     "output_type": "execute_result"
    }
   ],
   "source": [
    "Sales02.reset_index(drop=True) #index column Drop"
   ]
  },
  {
   "cell_type": "code",
   "execution_count": 29,
   "id": "da011a02",
   "metadata": {},
   "outputs": [
    {
     "data": {
      "text/plain": [
       "<function matplotlib.pyplot.show(close=None, block=None)>"
      ]
     },
     "execution_count": 29,
     "metadata": {},
     "output_type": "execute_result"
    },
    {
     "data": {
      "image/png": "[encoded data removed]",
      "text/plain": [
       "<Figure size 2160x360 with 1 Axes>"
      ]
     },
     "metadata": {
      "needs_background": "light"
     },
     "output_type": "display_data"
    }
   ],
   "source": [
    "temp_data = Sales02['Payment'].groupby(Sales02['Time_stamp']).sum()\n",
    "plt.figure(figsize=(30,5))\n",
    "plt.bar(temp_data.index, temp_data)\n",
    "plt.title('Feb-Payments')\n",
    "plt.xticks(rotation=45)\n",
    "plt.show"
   ]
  },
  {
   "cell_type": "code",
   "execution_count": 48,
   "id": "34314b4d",
   "metadata": {},
   "outputs": [
    {
     "data": {
      "text/plain": [
       "<function matplotlib.pyplot.show(close=None, block=None)>"
      ]
     },
     "execution_count": 48,
     "metadata": {},
     "output_type": "execute_result"
    },
    {
     "data": {
      "image/png": "[encoded data removed]",
      "text/plain": [
       "<Figure size 2160x360 with 1 Axes>"
      ]
     },
     "metadata": {
      "needs_background": "light"
     },
     "output_type": "display_data"
    }
   ],
   "source": [
    "Sales03 = SalesLog[(SalesLog['Month'] == '2022-03') & (SalesLog['Payment']!=0)]\n",
    "Sales03\n",
    "temp_data = Sales03['Payment'].groupby(Sales03['Time_stamp']).sum()\n",
    "plt.figure(figsize=(30,5))\n",
    "plt.bar(temp_data.index, temp_data)\n",
    "plt.title('Feb-Payments')\n",
    "plt.xticks(rotation=45)\n",
    "plt.show"
   ]
  },
  {
   "cell_type": "code",
   "execution_count": 35,
   "id": "9c53c2be",
   "metadata": {},
   "outputs": [
    {
     "name": "stdout",
     "output_type": "stream",
     "text": [
      "          Customer_ID Name     Nickname  Password  \\\n",
      "0          facilis140  이영순         quos  ********   \n",
      "1          debitis994  김중수    molestiae  ********   \n",
      "2         possimus246  양은경          rem  ********   \n",
      "3        occaecati138  백도윤       libero  ********   \n",
      "4         corrupti325  김영수   temporibus  ********   \n",
      "...               ...  ...          ...       ...   \n",
      "99840        dicta630  김예지          sit  ********   \n",
      "99841      tempora976  문은경         modi  ********   \n",
      "99842        iusto840  강중수        iusto  ********   \n",
      "99843         nemo273  황정남     deleniti  ********   \n",
      "99844  consequatur371  이영식  accusantium  ********   \n",
      "\n",
      "                              Email       Birth  Gender              C.P.  \\\n",
      "0                   coejongsu@yu.kr  1989-03-11  female  01x9-4x625-x5x3x   \n",
      "1                   jiweon02@ju.org  1995-11-19    male  01x9-3x228-x3x9x   \n",
      "2           coesubin@jusighoesa.com  2005-12-24  female  01x9-7x873-x2x2x   \n",
      "3            yeongceol80@gangryu.kr  2003-02-09  female  01x9-3x519-x7x1x   \n",
      "4                   jiweon96@yu.net  2004-05-04    male  01x9-0x079-x9x2x   \n",
      "...                             ...         ...     ...               ...   \n",
      "99840           ggim@yuhanhoesa.com  1992-07-31    male  01x9-8x787-x6x7x   \n",
      "99841  gimjeongnam@gimgweonjang.com  1990-09-17    male  01x9-5x401-x0x0x   \n",
      "99842                  qu@gimgim.kr  1984-12-25  female  01x9-3x247-x9x7x   \n",
      "99843            yejun90@imubag.com  1985-05-11    male  01x9-5x324-x8x7x   \n",
      "99844        seongsu95@hwangryu.com  2000-02-18  female  01x9-5x277-x4x5x   \n",
      "\n",
      "      MobileCompany       OS  \n",
      "0               LGU      iOS  \n",
      "1                KT      iOS  \n",
      "2               LGU  Android  \n",
      "3               SKT      iOS  \n",
      "4               LGU  Android  \n",
      "...             ...      ...  \n",
      "99840           LGU      iOS  \n",
      "99841            KT  Android  \n",
      "99842           SKT      iOS  \n",
      "99843           LGU      iOS  \n",
      "99844            KT      iOS  \n",
      "\n",
      "[99845 rows x 10 columns]\n",
      "<class 'pandas.core.frame.DataFrame'>\n",
      "RangeIndex: 99845 entries, 0 to 99844\n",
      "Data columns (total 10 columns):\n",
      " #   Column         Non-Null Count  Dtype \n",
      "---  ------         --------------  ----- \n",
      " 0   Customer_ID    99845 non-null  object\n",
      " 1   Name           99845 non-null  object\n",
      " 2   Nickname       99845 non-null  object\n",
      " 3   Password       99845 non-null  object\n",
      " 4   Email          99845 non-null  object\n",
      " 5   Birth          99845 non-null  object\n",
      " 6   Gender         99845 non-null  object\n",
      " 7   C.P.           99845 non-null  object\n",
      " 8   MobileCompany  99845 non-null  object\n",
      " 9   OS             99845 non-null  object\n",
      "dtypes: object(10)\n",
      "memory usage: 7.6+ MB\n"
     ]
    }
   ],
   "source": [
    "CustomerLog = pd.read_csv('~/aiffel/data_analysis_basic/data/customer.csv')\n",
    "print(CustomerLog)\n",
    "\n",
    "CustomerLog.info()"
   ]
  },
  {
   "cell_type": "code",
   "execution_count": 55,
   "id": "1d86477e",
   "metadata": {},
   "outputs": [
    {
     "data": {
      "image/png": "[encoded data removed]",
      "text/plain": [
       "<Figure size 432x288 with 1 Axes>"
      ]
     },
     "metadata": {},
     "output_type": "display_data"
    }
   ],
   "source": [
    "# Customer 데이터와 Sales 데이터를 결합하기\n",
    "TotalData = pd.merge(CustomerLog, SalesLog)\n",
    "\n",
    "# 결제 경험이 있는 고객들만 골라내기\n",
    "PaymentCustomer = TotalData[(TotalData[\"Payment\"] != 0)]\n",
    "\n",
    "pie_data = CustomerLog.groupby(['Gender']).count().Name\n",
    "plt.pie(pie_data, labels = pie_data.index, autopct = '%1.1f%%')\n",
    "plt.title('Customer Gender')\n",
    "plt.show()"
   ]
  },
  {
   "cell_type": "code",
   "execution_count": 58,
   "id": "4a630de5",
   "metadata": {},
   "outputs": [
    {
     "data": {
      "image/png": "[encoded data removed]",
      "text/plain": [
       "<Figure size 432x288 with 1 Axes>"
      ]
     },
     "metadata": {},
     "output_type": "display_data"
    }
   ],
   "source": [
    "pie_data = CustomerLog.groupby(['MobileCompany']).count().Name\n",
    "plt.pie(pie_data, labels=pie_data.index, autopct = '%1.1f%%')\n",
    "plt.title('MobileCompany')\n",
    "plt.show()"
   ]
  },
  {
   "cell_type": "code",
   "execution_count": 59,
   "id": "24e9a8be",
   "metadata": {},
   "outputs": [
    {
     "data": {
      "image/png": "[encoded data removed]",
      "text/plain": [
       "<Figure size 432x288 with 1 Axes>"
      ]
     },
     "metadata": {},
     "output_type": "display_data"
    }
   ],
   "source": [
    "pie_data = CustomerLog.groupby(['OS']).count().Name\n",
    "plt.pie(pie_data, labels=pie_data.index, autopct = '%1.1f%%')\n",
    "plt.title('OS')\n",
    "plt.show()"
   ]
  },
  {
   "cell_type": "code",
   "execution_count": 63,
   "id": "1244bfbc",
   "metadata": {},
   "outputs": [
    {
     "name": "stdout",
     "output_type": "stream",
     "text": [
      "0         4900\n",
      "1        29900\n",
      "2         4900\n",
      "3          900\n",
      "4          900\n",
      "         ...  \n",
      "15304     9900\n",
      "15305     9900\n",
      "15306      900\n",
      "15307     4900\n",
      "15308     4900\n",
      "Name: Payment, Length: 15309, dtype: int64\n"
     ]
    },
    {
     "data": {
      "image/png": "[encoded data removed]",
      "text/plain": [
       "<Figure size 432x288 with 1 Axes>"
      ]
     },
     "metadata": {},
     "output_type": "display_data"
    }
   ],
   "source": [
    "# sum() 함수는 판다스 데이터프레임에서 특정 열의 값을 합산하는 역할을 합니다. \n",
    "# 코드 내에서 PaymentCustomer['Payment'] 열을 그룹화한 후 sum() 함수를 호출하여 각 그룹의 결제 금액을 합산하고 있습니다.\n",
    "\n",
    "# 먼저, groupby() 메서드를 사용하여 데이터를 그룹화합니다. \n",
    "# PaymentCustomer['Gender']와 PaymentCustomer['Month']를 기준으로 그룹화하고, \n",
    "# 이후 ['Payment'] 열을 선택하여 해당 그룹의 결제 금액 데이터를 가져옵니다. \n",
    "# 그 다음 sum() 함수를 호출하여 그룹별 결제 금액을 합산합니다.\n",
    "\n",
    "pie_data = PaymentCustomer['Payment'].groupby([PaymentCustomer['Gender'],PaymentCustomer['Month']]).sum()\n",
    "# print(PaymentCustomer['Payment'])\n",
    "plt.pie(pie_data, labels=pie_data.index, autopct = '%1.1f%%')\n",
    "plt.title('Month_Gender_Month')\n",
    "plt.show()"
   ]
  },
  {
   "cell_type": "code",
   "execution_count": 66,
   "id": "39c71404",
   "metadata": {},
   "outputs": [],
   "source": [
    "# 판다스에서 조건을 활용하여 특정 조건을 만족하는 데이터를 선택하려면 대괄호([])를 사용해야 합니다.\n",
    "# 소괄호(())는 데이터프레임을 함수나 연산의 일부로 사용할 때 주로 사용됩니다. 예를 들어, 그룹화나 계산을 수행할 때 소괄호\n",
    "# Hint! '=='를 사용해 봅시다.\n",
    "# [[YOUR CODE]]\n",
    "\n",
    "male = PaymentCustomer[PaymentCustomer['Gender']=='male']\n",
    "female =PaymentCustomer[PaymentCustomer['Gender']=='female']"
   ]
  },
  {
   "cell_type": "code",
   "execution_count": 67,
   "id": "6d4832d2",
   "metadata": {},
   "outputs": [
    {
     "data": {
      "image/png": "[encoded data removed]",
      "text/plain": [
       "<Figure size 432x288 with 1 Axes>"
      ]
     },
     "metadata": {
      "needs_background": "light"
     },
     "output_type": "display_data"
    }
   ],
   "source": [
    "# [[YOUR CODE]]\n",
    "temp_data = female['Payment'].groupby(female['Month']).sum()\n",
    "ax = plt.bar(temp_data.index, temp_data)\n",
    "plt.bar_label(ax,labels=[f'{x:,.0f}' for x in ax.datavalues], label_type='center')\n",
    "plt.title('Payment by month')\n",
    "plt.show()"
   ]
  },
  {
   "cell_type": "code",
   "execution_count": 68,
   "id": "77e0ee53",
   "metadata": {},
   "outputs": [
    {
     "data": {
      "image/png": "[encoded data removed]",
      "text/plain": [
       "<Figure size 432x288 with 1 Axes>"
      ]
     },
     "metadata": {
      "needs_background": "light"
     },
     "output_type": "display_data"
    }
   ],
   "source": [
    "# [[YOUR CODE]]\n",
    "temp_data = male['Payment'].groupby(male['Month']).sum()\n",
    "ax = plt.bar(temp_data.index, temp_data)\n",
    "plt.bar_label(ax,labels=[f'{x:,.0f}' for x in ax.datavalues], label_type='center')\n",
    "plt.title('Payment by month')\n",
    "plt.show()"
   ]
  },
  {
   "cell_type": "code",
   "execution_count": 69,
   "id": "05e23090",
   "metadata": {},
   "outputs": [
    {
     "ename": "SyntaxError",
     "evalue": "unexpected EOF while parsing (8895245.py, line 1)",
     "output_type": "error",
     "traceback": [
      "\u001b[0;36m  File \u001b[0;32m\"/tmp/ipykernel_55/8895245.py\"\u001b[0;36m, line \u001b[0;32m1\u001b[0m\n\u001b[0;31m    pie_data = PaymentCustomer['Payment'].groupby([PaymentCustomer['Gender'].sum()\u001b[0m\n\u001b[0m                                                                                  ^\u001b[0m\n\u001b[0;31mSyntaxError\u001b[0m\u001b[0;31m:\u001b[0m unexpected EOF while parsing\n"
     ]
    }
   ],
   "source": []
  },
  {
   "cell_type": "code",
   "execution_count": null,
   "id": "768944c9",
   "metadata": {},
   "outputs": [],
   "source": []
  }
 ],
 "metadata": {
  "kernelspec": {
   "display_name": "Python 3 (ipykernel)",
   "language": "python",
   "name": "python3"
  },
  "language_info": {
   "codemirror_mode": {
    "name": "ipython",
    "version": 3
   },
   "file_extension": ".py",
   "mimetype": "text/x-python",
   "name": "python",
   "nbconvert_exporter": "python",
   "pygments_lexer": "ipython3",
   "version": "3.9.7"
  }
 },
 "nbformat": 4,
 "nbformat_minor": 5
}
